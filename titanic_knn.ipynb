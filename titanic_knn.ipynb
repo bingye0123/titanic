{
 "cells": [
  {
   "cell_type": "code",
   "execution_count": 113,
   "metadata": {
    "collapsed": false
   },
   "outputs": [
    {
     "name": "stdout",
     "output_type": "stream",
     "text": [
      "Populating the interactive namespace from numpy and matplotlib\n"
     ]
    }
   ],
   "source": [
    "import requests\n",
    "import numpy as np\n",
    "import pandas as pd\n",
    "import sklearn.ensemble as sk\n",
    "import sklearn\n",
    "import statsmodels.api as sm\n",
    "import matplotlib.pyplot as plt\n",
    "import sklearn.decomposition\n",
    "import sklearn.neighbors\n",
    "%matplotlib inline\n",
    "%pylab inline"
   ]
  },
  {
   "cell_type": "code",
   "execution_count": 114,
   "metadata": {
    "collapsed": true
   },
   "outputs": [],
   "source": [
    "sex_dic={'male':0,'female':1}\n",
    "embarked_dic={'S':0,'C':1,'Q':2}\n",
    "def rename(df):\n",
    "    df['Sex']=map(lambda x: sex_dic[x],df['Sex'])\n",
    "    df['Embarked']=map(lambda x: embarked_dic[x],df['Embarked'])\n",
    "    return df"
   ]
  },
  {
   "cell_type": "markdown",
   "metadata": {},
   "source": [
    "1. Creat three train data subsets: (1) with all features (2) without age (3) without age and Fare\n",
    "==="
   ]
  },
  {
   "cell_type": "code",
   "execution_count": 115,
   "metadata": {
    "collapsed": false
   },
   "outputs": [
    {
     "name": "stdout",
     "output_type": "stream",
     "text": [
      "(712, 9)\n",
      "(889, 8)\n",
      "(889, 7)\n",
      "(891, 12)\n",
      "(477, 9)\n",
      "(235, 9)\n",
      "(595, 8)\n",
      "(294, 8)\n",
      "(595, 7)\n",
      "(294, 7)\n"
     ]
    }
   ],
   "source": [
    "train=pd.read_csv('train.csv')\n",
    "train.head()\n",
    "\n",
    "train1=train[['PassengerId','Pclass','Sex','Age','SibSp','Parch','Fare','Embarked','Survived']].copy()\n",
    "train2=train[['PassengerId','Pclass','Sex','SibSp','Parch','Fare','Embarked','Survived']].copy()\n",
    "train3=train[['PassengerId','Pclass','Sex','SibSp','Parch','Embarked','Survived']].copy()\n",
    "train1=train1.dropna()\n",
    "train2=train2.dropna()\n",
    "train3=train3.dropna()\n",
    "print train1.shape\n",
    "print train2.shape\n",
    "print train3.shape\n",
    "print train.shape\n",
    "\n",
    "train1=rename(train1)\n",
    "train2=rename(train2)\n",
    "train3=rename(train3)\n",
    "\n",
    "sub_train1,sub_val1=sklearn.cross_validation.train_test_split(train1,test_size=0.33,random_state=99)\n",
    "sub_train1=pd.DataFrame(sub_train1)\n",
    "sub_train1.columns=train1.columns\n",
    "sub_val1=pd.DataFrame(sub_val1)\n",
    "sub_val1.columns=train1.columns\n",
    "print sub_train1.shape\n",
    "print sub_val1.shape\n",
    "\n",
    "sub_train2,sub_val2=sklearn.cross_validation.train_test_split(train2,test_size=0.33,random_state=99)\n",
    "sub_train2=pd.DataFrame(sub_train2)\n",
    "sub_train2.columns=train2.columns\n",
    "sub_val2=pd.DataFrame(sub_val2)\n",
    "sub_val2.columns=train2.columns\n",
    "print sub_train2.shape\n",
    "print sub_val2.shape\n",
    "\n",
    "sub_train3,sub_val3=sklearn.cross_validation.train_test_split(train3,test_size=0.33,random_state=99)\n",
    "sub_train3=pd.DataFrame(sub_train3)\n",
    "sub_train3.columns=train3.columns\n",
    "sub_val3=pd.DataFrame(sub_val3)\n",
    "sub_val3.columns=train3.columns\n",
    "print sub_train3.shape\n",
    "print sub_val3.shape"
   ]
  },
  {
   "cell_type": "markdown",
   "metadata": {},
   "source": [
    "2. Import test data and split into three subsets: test1,test2,test3\n",
    "==="
   ]
  },
  {
   "cell_type": "code",
   "execution_count": 42,
   "metadata": {
    "collapsed": false
   },
   "outputs": [
    {
     "name": "stdout",
     "output_type": "stream",
     "text": [
      "(418, 8)\n",
      "(331, 8)\n",
      "(87, 8)\n",
      "(86, 7)\n",
      "(1, 6)\n",
      "True\n"
     ]
    },
    {
     "name": "stderr",
     "output_type": "stream",
     "text": [
      "/anaconda/lib/python2.7/site-packages/IPython/kernel/__main__.py:4: SettingWithCopyWarning: \n",
      "A value is trying to be set on a copy of a slice from a DataFrame.\n",
      "Try using .loc[row_indexer,col_indexer] = value instead\n",
      "\n",
      "See the the caveats in the documentation: http://pandas.pydata.org/pandas-docs/stable/indexing.html#indexing-view-versus-copy\n",
      "/anaconda/lib/python2.7/site-packages/IPython/kernel/__main__.py:5: SettingWithCopyWarning: \n",
      "A value is trying to be set on a copy of a slice from a DataFrame.\n",
      "Try using .loc[row_indexer,col_indexer] = value instead\n",
      "\n",
      "See the the caveats in the documentation: http://pandas.pydata.org/pandas-docs/stable/indexing.html#indexing-view-versus-copy\n"
     ]
    }
   ],
   "source": [
    "test=pd.read_csv('test.csv')\n",
    "test_sub=test[['PassengerId','Pclass','Sex','Age','SibSp','Parch','Fare','Embarked']].copy()\n",
    "print test_sub.shape\n",
    "#test_sub.head()\n",
    "test1=test_sub\n",
    "test1=test1.dropna()\n",
    "test1=rename(test1)\n",
    "print test1.shape\n",
    "\n",
    "test_nan=test_sub[test_sub.isnull().any(axis=1)]\n",
    "print test_nan.shape\n",
    "\n",
    "test2=test_nan.drop('Age',axis=1)\n",
    "test2=test2.dropna()\n",
    "test2=rename(test2)\n",
    "print test2.shape\n",
    "\n",
    "test3=test_nan.drop('Age',axis=1)\n",
    "test3=test3[test3.isnull().any(axis=1)]\n",
    "test3=rename(test3)\n",
    "test3=test3.drop('Fare',axis=1)\n",
    "print test3.shape\n",
    "\n",
    "print test.shape[0]==test1.shape[0]+test2.shape[0]+test3.shape[0]"
   ]
  },
  {
   "cell_type": "markdown",
   "metadata": {},
   "source": [
    "3. Train data\n",
    "==="
   ]
  },
  {
   "cell_type": "markdown",
   "metadata": {},
   "source": [
    "4. Train data with validation\n",
    "==="
   ]
  },
  {
   "cell_type": "code",
   "execution_count": 67,
   "metadata": {
    "collapsed": true
   },
   "outputs": [],
   "source": [
    "def accuracy_for_k_val(k,x,y, random_state=99):\n",
    "    split_data = sklearn.cross_validation.train_test_split(\n",
    "                        x,y, test_size=0.33, random_state=random_state)\n",
    "    x_train, x_val, y_train, y_val = split_data\n",
    "    knn = sklearn.neighbors.KNeighborsClassifier(n_neighbors=k, \n",
    "                                             weights = 'uniform')\n",
    "    knn.fit(x_train,y_train)\n",
    "    y_hat = knn.predict(x_val)\n",
    "    return sklearn.metrics.accuracy_score(y_val, y_hat, \n",
    "                                          normalize=True)"
   ]
  },
  {
   "cell_type": "code",
   "execution_count": 68,
   "metadata": {
    "collapsed": true
   },
   "outputs": [],
   "source": [
    "def accuracy_for_k(k,x,y):\n",
    "    knn = sklearn.neighbors.KNeighborsClassifier(n_neighbors=k, \n",
    "                                             weights = 'uniform')\n",
    "    knn.fit(x,y)\n",
    "    y_hat = knn.predict(x)\n",
    "    return sklearn.metrics.accuracy_score(y, y_hat, normalize=True)"
   ]
  },
  {
   "cell_type": "code",
   "execution_count": 69,
   "metadata": {
    "collapsed": true
   },
   "outputs": [],
   "source": [
    "def define_x_y(df):\n",
    "    x=np.asarray(df[df.columns[1:-1]])\n",
    "    y=np.asarray(df[df.columns[-1]])\n",
    "    return x,y"
   ]
  },
  {
   "cell_type": "code",
   "execution_count": 83,
   "metadata": {
    "collapsed": true
   },
   "outputs": [],
   "source": [
    "def show_confusion_matrix(confusion_matrix):\n",
    "    plt.matshow(confusion_matrix, cmap=plt.cm.Greys_r)\n",
    "    plt.title('Confusion matrix')\n",
    "    plt.colorbar()\n",
    "    plt.ylabel('True label')\n",
    "    plt.xlabel('Predicted label')\n",
    "    plt.show()"
   ]
  },
  {
   "cell_type": "markdown",
   "metadata": {},
   "source": [
    "(1) train1\n",
    "----"
   ]
  },
  {
   "cell_type": "code",
   "execution_count": 63,
   "metadata": {
    "collapsed": true
   },
   "outputs": [],
   "source": [
    "x,y=define_x_y(train1)"
   ]
  },
  {
   "cell_type": "code",
   "execution_count": 70,
   "metadata": {
    "collapsed": false
   },
   "outputs": [
    {
     "data": {
      "image/png": "[encoded data removed]",
      "text/plain": [
       "<matplotlib.figure.Figure at 0x10c410f50>"
      ]
     },
     "metadata": {},
     "output_type": "display_data"
    }
   ],
   "source": [
    "acc_values_val = []\n",
    "acc_values_train = []\n",
    "\n",
    "k_values = xrange(1,300,2)\n",
    "for k in k_values:\n",
    "    acc_values_train.append(accuracy_for_k(k,x,y))\n",
    "    acc_values_val.append(accuracy_for_k_val(k,x,y))\n",
    "    \n",
    "plt.plot(k_values, acc_values_train, c='r', label=\"training accuracy\")\n",
    "plt.plot(k_values, acc_values_val, c='b', label=\"validation accuracy\")\n",
    "plt.xlabel('Value of k')\n",
    "plt.ylabel('Accuracy')\n",
    "plt.legend()\n",
    "\n",
    "fig_cross_val = plt.gcf()"
   ]
  },
  {
   "cell_type": "code",
   "execution_count": 71,
   "metadata": {
    "collapsed": false
   },
   "outputs": [
    {
     "data": {
      "text/plain": [
       "0.69361702127659575"
      ]
     },
     "execution_count": 71,
     "metadata": {},
     "output_type": "execute_result"
    }
   ],
   "source": [
    "max(acc_values_val)"
   ]
  },
  {
   "cell_type": "markdown",
   "metadata": {},
   "source": [
    "(2) train2\n",
    "----"
   ]
  },
  {
   "cell_type": "code",
   "execution_count": 74,
   "metadata": {
    "collapsed": true
   },
   "outputs": [],
   "source": [
    "x,y=define_x_y(train2)"
   ]
  },
  {
   "cell_type": "code",
   "execution_count": 75,
   "metadata": {
    "collapsed": false
   },
   "outputs": [
    {
     "data": {
      "image/png": "[encoded data removed]",
      "text/plain": [
       "<matplotlib.figure.Figure at 0x10c3003d0>"
      ]
     },
     "metadata": {},
     "output_type": "display_data"
    }
   ],
   "source": [
    "acc_values_val = []\n",
    "acc_values_train = []\n",
    "\n",
    "k_values = xrange(1,300,2)\n",
    "for k in k_values:\n",
    "    acc_values_train.append(accuracy_for_k(k,x,y))\n",
    "    acc_values_val.append(accuracy_for_k_val(k,x,y))\n",
    "    \n",
    "plt.plot(k_values, acc_values_train, c='r', label=\"training accuracy\")\n",
    "plt.plot(k_values, acc_values_val, c='b', label=\"validation accuracy\")\n",
    "plt.xlabel('Value of k')\n",
    "plt.ylabel('Accuracy')\n",
    "plt.legend()\n",
    "\n",
    "fig_cross_val = plt.gcf()"
   ]
  },
  {
   "cell_type": "code",
   "execution_count": 76,
   "metadata": {
    "collapsed": false
   },
   "outputs": [
    {
     "data": {
      "text/plain": [
       "0.73809523809523814"
      ]
     },
     "execution_count": 76,
     "metadata": {},
     "output_type": "execute_result"
    }
   ],
   "source": [
    "max(acc_values_val)"
   ]
  },
  {
   "cell_type": "markdown",
   "metadata": {},
   "source": [
    "(3) train3\n",
    "---"
   ]
  },
  {
   "cell_type": "code",
   "execution_count": 77,
   "metadata": {
    "collapsed": true
   },
   "outputs": [],
   "source": [
    "x,y=define_x_y(train3)"
   ]
  },
  {
   "cell_type": "code",
   "execution_count": 78,
   "metadata": {
    "collapsed": false
   },
   "outputs": [
    {
     "data": {
      "image/png": "[encoded data removed]",
      "text/plain": [
       "<matplotlib.figure.Figure at 0x10c45f290>"
      ]
     },
     "metadata": {},
     "output_type": "display_data"
    }
   ],
   "source": [
    "acc_values_val = []\n",
    "acc_values_train = []\n",
    "\n",
    "k_values = xrange(1,300,2)\n",
    "for k in k_values:\n",
    "    acc_values_train.append(accuracy_for_k(k,x,y))\n",
    "    acc_values_val.append(accuracy_for_k_val(k,x,y))\n",
    "    \n",
    "plt.plot(k_values, acc_values_train, c='r', label=\"training accuracy\")\n",
    "plt.plot(k_values, acc_values_val, c='b', label=\"validation accuracy\")\n",
    "plt.xlabel('Value of k')\n",
    "plt.ylabel('Accuracy')\n",
    "plt.legend()\n",
    "\n",
    "fig_cross_val = plt.gcf()"
   ]
  },
  {
   "cell_type": "code",
   "execution_count": 87,
   "metadata": {
    "collapsed": false
   },
   "outputs": [
    {
     "data": {
      "text/plain": [
       "0.78231292517006801"
      ]
     },
     "execution_count": 87,
     "metadata": {},
     "output_type": "execute_result"
    }
   ],
   "source": [
    "max(acc_values_val)"
   ]
  },
  {
   "cell_type": "code",
   "execution_count": 81,
   "metadata": {
    "collapsed": false
   },
   "outputs": [
    {
     "data": {
      "text/plain": [
       "21"
      ]
     },
     "execution_count": 81,
     "metadata": {},
     "output_type": "execute_result"
    }
   ],
   "source": [
    "k_values[acc_values_val.index(max(acc_values_val))]"
   ]
  },
  {
   "cell_type": "code",
   "execution_count": 84,
   "metadata": {
    "collapsed": false
   },
   "outputs": [
    {
     "data": {
      "image/png": "[encoded data removed]",
      "text/plain": [
       "<matplotlib.figure.Figure at 0x10b62c110>"
      ]
     },
     "metadata": {},
     "output_type": "display_data"
    },
    {
     "name": "stdout",
     "output_type": "stream",
     "text": [
      "[[496  53]\n",
      " [123 217]]\n"
     ]
    }
   ],
   "source": [
    "k = 21\n",
    "knn = sklearn.neighbors.KNeighborsClassifier(n_neighbors=k, \n",
    "                                             weights = 'uniform')\n",
    "knn.fit(x,y)\n",
    "y_hat = knn.predict(x)\n",
    "\n",
    "confusion_matrix = sklearn.metrics.confusion_matrix(y, y_hat)\n",
    "show_confusion_matrix(confusion_matrix)\n",
    "print confusion_matrix"
   ]
  },
  {
   "cell_type": "code",
   "execution_count": 100,
   "metadata": {
    "collapsed": true
   },
   "outputs": [],
   "source": [
    "test=pd.read_csv('test.csv')\n",
    "testt=test[['PassengerId','Pclass','Sex','SibSp','Parch','Embarked']].copy()\n",
    "testt=testt.dropna()\n",
    "testt=rename(testt)"
   ]
  },
  {
   "cell_type": "code",
   "execution_count": 102,
   "metadata": {
    "collapsed": false
   },
   "outputs": [],
   "source": [
    "x_test=np.asarray(testt[testt.columns[1:]])"
   ]
  },
  {
   "cell_type": "code",
   "execution_count": 103,
   "metadata": {
    "collapsed": false
   },
   "outputs": [
    {
     "data": {
      "text/plain": [
       "KNeighborsClassifier(algorithm='auto', leaf_size=30, metric='minkowski',\n",
       "           metric_params=None, n_neighbors=21, p=2, weights='uniform')"
      ]
     },
     "execution_count": 103,
     "metadata": {},
     "output_type": "execute_result"
    }
   ],
   "source": [
    "k = 21\n",
    "knn = sklearn.neighbors.KNeighborsClassifier(n_neighbors=k, \n",
    "                                             weights = 'uniform')\n",
    "knn.fit(x,y)"
   ]
  },
  {
   "cell_type": "code",
   "execution_count": 104,
   "metadata": {
    "collapsed": false
   },
   "outputs": [],
   "source": [
    "y_hat = knn.predict(x_test)"
   ]
  },
  {
   "cell_type": "code",
   "execution_count": 105,
   "metadata": {
    "collapsed": false
   },
   "outputs": [],
   "source": [
    "testt['Survived']=y_hat"
   ]
  },
  {
   "cell_type": "code",
   "execution_count": 109,
   "metadata": {
    "collapsed": false
   },
   "outputs": [
    {
     "data": {
      "text/html": [
       "<div style=\"max-height:1000px;max-width:1500px;overflow:auto;\">\n",
       "<table border=\"1\" class=\"dataframe\">\n",
       "  <thead>\n",
       "    <tr style=\"text-align: right;\">\n",
       "      <th></th>\n",
       "      <th>PassengerId</th>\n",
       "      <th>Survived</th>\n",
       "    </tr>\n",
       "  </thead>\n",
       "  <tbody>\n",
       "    <tr>\n",
       "      <th>0</th>\n",
       "      <td> 892</td>\n",
       "      <td> 0</td>\n",
       "    </tr>\n",
       "    <tr>\n",
       "      <th>1</th>\n",
       "      <td> 893</td>\n",
       "      <td> 0</td>\n",
       "    </tr>\n",
       "    <tr>\n",
       "      <th>2</th>\n",
       "      <td> 894</td>\n",
       "      <td> 0</td>\n",
       "    </tr>\n",
       "    <tr>\n",
       "      <th>3</th>\n",
       "      <td> 895</td>\n",
       "      <td> 0</td>\n",
       "    </tr>\n",
       "    <tr>\n",
       "      <th>4</th>\n",
       "      <td> 896</td>\n",
       "      <td> 1</td>\n",
       "    </tr>\n",
       "  </tbody>\n",
       "</table>\n",
       "</div>"
      ],
      "text/plain": [
       "   PassengerId  Survived\n",
       "0          892         0\n",
       "1          893         0\n",
       "2          894         0\n",
       "3          895         0\n",
       "4          896         1"
      ]
     },
     "execution_count": 109,
     "metadata": {},
     "output_type": "execute_result"
    }
   ],
   "source": [
    "results=testt[['PassengerId','Survived']].copy()\n",
    "results.head()"
   ]
  },
  {
   "cell_type": "code",
   "execution_count": 110,
   "metadata": {
    "collapsed": true
   },
   "outputs": [],
   "source": [
    "results.to_csv('knn_result.csv',header=True,index=False)"
   ]
  },
  {
   "cell_type": "code",
   "execution_count": null,
   "metadata": {
    "collapsed": true
   },
   "outputs": [],
   "source": []
  }
 ],
 "metadata": {
  "kernelspec": {
   "display_name": "Python 2",
   "language": "python",
   "name": "python2"
  },
  "language_info": {
   "codemirror_mode": {
    "name": "ipython",
    "version": 2
   },
   "file_extension": ".py",
   "mimetype": "text/x-python",
   "name": "python",
   "nbconvert_exporter": "python",
   "pygments_lexer": "ipython2",
   "version": "2.7.10"
  }
 },
 "nbformat": 4,
 "nbformat_minor": 0
}
