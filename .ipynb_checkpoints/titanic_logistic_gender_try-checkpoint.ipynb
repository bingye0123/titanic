{
 "cells": [
  {
   "cell_type": "code",
   "execution_count": 1,
   "metadata": {
    "collapsed": false
   },
   "outputs": [
    {
     "name": "stdout",
     "output_type": "stream",
     "text": [
      "Populating the interactive namespace from numpy and matplotlib\n"
     ]
    }
   ],
   "source": [
    "import requests\n",
    "import numpy as np\n",
    "import pandas as pd\n",
    "import sklearn.ensemble as sk\n",
    "import sklearn\n",
    "import statsmodels.api as sm\n",
    "import matplotlib.pyplot as plt\n",
    "%matplotlib inline\n",
    "%pylab inline"
   ]
  },
  {
   "cell_type": "code",
   "execution_count": 27,
   "metadata": {
    "collapsed": false
   },
   "outputs": [
    {
     "data": {
      "text/html": [
       "<div style=\"max-height:1000px;max-width:1500px;overflow:auto;\">\n",
       "<table border=\"1\" class=\"dataframe\">\n",
       "  <thead>\n",
       "    <tr style=\"text-align: right;\">\n",
       "      <th></th>\n",
       "      <th>PassengerId</th>\n",
       "      <th>Survived</th>\n",
       "      <th>Pclass</th>\n",
       "      <th>Name</th>\n",
       "      <th>Sex</th>\n",
       "      <th>Age</th>\n",
       "      <th>SibSp</th>\n",
       "      <th>Parch</th>\n",
       "      <th>Ticket</th>\n",
       "      <th>Fare</th>\n",
       "      <th>Cabin</th>\n",
       "      <th>Embarked</th>\n",
       "    </tr>\n",
       "  </thead>\n",
       "  <tbody>\n",
       "    <tr>\n",
       "      <th>886</th>\n",
       "      <td> 887</td>\n",
       "      <td> 0</td>\n",
       "      <td> 2</td>\n",
       "      <td>                    Montvila, Rev. Juozas</td>\n",
       "      <td>   male</td>\n",
       "      <td> 27</td>\n",
       "      <td> 0</td>\n",
       "      <td> 0</td>\n",
       "      <td>     211536</td>\n",
       "      <td> 13.00</td>\n",
       "      <td>  NaN</td>\n",
       "      <td> S</td>\n",
       "    </tr>\n",
       "    <tr>\n",
       "      <th>887</th>\n",
       "      <td> 888</td>\n",
       "      <td> 1</td>\n",
       "      <td> 1</td>\n",
       "      <td>             Graham, Miss. Margaret Edith</td>\n",
       "      <td> female</td>\n",
       "      <td> 19</td>\n",
       "      <td> 0</td>\n",
       "      <td> 0</td>\n",
       "      <td>     112053</td>\n",
       "      <td> 30.00</td>\n",
       "      <td>  B42</td>\n",
       "      <td> S</td>\n",
       "    </tr>\n",
       "    <tr>\n",
       "      <th>888</th>\n",
       "      <td> 889</td>\n",
       "      <td> 0</td>\n",
       "      <td> 3</td>\n",
       "      <td> Johnston, Miss. Catherine Helen \"Carrie\"</td>\n",
       "      <td> female</td>\n",
       "      <td>NaN</td>\n",
       "      <td> 1</td>\n",
       "      <td> 2</td>\n",
       "      <td> W./C. 6607</td>\n",
       "      <td> 23.45</td>\n",
       "      <td>  NaN</td>\n",
       "      <td> S</td>\n",
       "    </tr>\n",
       "    <tr>\n",
       "      <th>889</th>\n",
       "      <td> 890</td>\n",
       "      <td> 1</td>\n",
       "      <td> 1</td>\n",
       "      <td>                    Behr, Mr. Karl Howell</td>\n",
       "      <td>   male</td>\n",
       "      <td> 26</td>\n",
       "      <td> 0</td>\n",
       "      <td> 0</td>\n",
       "      <td>     111369</td>\n",
       "      <td> 30.00</td>\n",
       "      <td> C148</td>\n",
       "      <td> C</td>\n",
       "    </tr>\n",
       "    <tr>\n",
       "      <th>890</th>\n",
       "      <td> 891</td>\n",
       "      <td> 0</td>\n",
       "      <td> 3</td>\n",
       "      <td>                      Dooley, Mr. Patrick</td>\n",
       "      <td>   male</td>\n",
       "      <td> 32</td>\n",
       "      <td> 0</td>\n",
       "      <td> 0</td>\n",
       "      <td>     370376</td>\n",
       "      <td>  7.75</td>\n",
       "      <td>  NaN</td>\n",
       "      <td> Q</td>\n",
       "    </tr>\n",
       "  </tbody>\n",
       "</table>\n",
       "</div>"
      ],
      "text/plain": [
       "     PassengerId  Survived  Pclass                                      Name  \\\n",
       "886          887         0       2                     Montvila, Rev. Juozas   \n",
       "887          888         1       1              Graham, Miss. Margaret Edith   \n",
       "888          889         0       3  Johnston, Miss. Catherine Helen \"Carrie\"   \n",
       "889          890         1       1                     Behr, Mr. Karl Howell   \n",
       "890          891         0       3                       Dooley, Mr. Patrick   \n",
       "\n",
       "        Sex  Age  SibSp  Parch      Ticket   Fare Cabin Embarked  \n",
       "886    male   27      0      0      211536  13.00   NaN        S  \n",
       "887  female   19      0      0      112053  30.00   B42        S  \n",
       "888  female  NaN      1      2  W./C. 6607  23.45   NaN        S  \n",
       "889    male   26      0      0      111369  30.00  C148        C  \n",
       "890    male   32      0      0      370376   7.75   NaN        Q  "
      ]
     },
     "execution_count": 27,
     "metadata": {},
     "output_type": "execute_result"
    }
   ],
   "source": [
    "train=pd.read_csv('train.csv')\n",
    "train.tail()"
   ]
  },
  {
   "cell_type": "code",
   "execution_count": 28,
   "metadata": {
    "collapsed": false
   },
   "outputs": [
    {
     "data": {
      "text/plain": [
       "(891, 12)"
      ]
     },
     "execution_count": 28,
     "metadata": {},
     "output_type": "execute_result"
    }
   ],
   "source": [
    "train.shape"
   ]
  },
  {
   "cell_type": "code",
   "execution_count": 29,
   "metadata": {
    "collapsed": false
   },
   "outputs": [
    {
     "data": {
      "text/plain": [
       "PassengerId      int64\n",
       "Survived         int64\n",
       "Pclass           int64\n",
       "Name            object\n",
       "Sex             object\n",
       "Age            float64\n",
       "SibSp            int64\n",
       "Parch            int64\n",
       "Ticket          object\n",
       "Fare           float64\n",
       "Cabin           object\n",
       "Embarked        object\n",
       "dtype: object"
      ]
     },
     "execution_count": 29,
     "metadata": {},
     "output_type": "execute_result"
    }
   ],
   "source": [
    "train.dtypes"
   ]
  },
  {
   "cell_type": "markdown",
   "metadata": {},
   "source": [
    "Handling title\n",
    "---\n",
    "' Mr. ', ' Mrs.', ' Miss', ' Mast'=Master., ' Don.', ' Rev.', ' Dr. ',' Mme.', ' Ms. ', ' Majo'=Major., ' Lady'=Lady., ' Sir.', ' Mlle'=Mlle., ' Col.',' Capt'=Capt., ' the '=Countess., ' Jonk'=Jonkheer., ' Dona'"
   ]
  },
  {
   "cell_type": "code",
   "execution_count": 30,
   "metadata": {
    "collapsed": false
   },
   "outputs": [],
   "source": [
    "def clean_df(train):\n",
    "    #title\n",
    "    train['Title']=map(lambda x: x[x.index(',')+1:x.index(',')+6],train['Name'])\n",
    "    titles=train['Title'].unique()\n",
    "    titles\n",
    "\n",
    "    title_dic={' Mr. ':0, ' Mrs.':1, ' Miss':2, ' Mast':3, ' Don.':4, ' Rev.':5, ' Dr. ':6,\n",
    "       ' Mme.':7, ' Ms. ':8, ' Majo':9, ' Lady':10, ' Sir.':11, ' Mlle':12, ' Col.':13,\n",
    "       ' Capt':14, ' the ':15, ' Jonk':16, ' Dona':17}\n",
    "    train['Title']=map(lambda x: title_dic[x],train['Title'])\n",
    "\n",
    "    return train\n",
    "    #filling nan age\n",
    "    meanlist=[train[train['Title']==x]['Age'].mean() for x in title_dic.values()]\n",
    "    meanlist=pd.DataFrame(meanlist)\n",
    "    meanlist['Title']=[title_dic[title_dic.keys()[x]] for x in np.arange(0,18,1)]\n",
    "    meanlist.columns=['mean','Title']\n",
    "\n",
    "    train=pd.merge(train,meanlist,how='outer',on='Title')\n",
    "    train=train.sort('PassengerId')\n",
    "\n",
    "    train.loc[train['Age'].isnull(),'Age'] = train['mean']\n",
    "    train['Embarked'].fillna('Missing',inplace=True)\n",
    "    train['Cabin'].fillna('Missing',inplace=True)\n",
    "    train['Sex'].fillna('Missing',inplace=True)\n",
    "    train['Fare'].fillna(np.mean(train['Fare']),inplace=True)##########\n",
    "    train['Age'].fillna(np.mean(train['Age']),inplace=True)##########\n",
    "\n",
    "    sex_dic={'male':0,'female':1,'Missing':2}\n",
    "    embarked_dic={'S':0,'C':1,'Q':2,'Missing':3}\n",
    "    train['Sex']=map(lambda x: sex_dic[x],train['Sex'])\n",
    "    train['Embarked']=map(lambda x: embarked_dic[x],train['Embarked'])\n",
    "\n",
    "    train['Cabin']=map(lambda x: x[0],train['Cabin'])\n",
    "\n",
    "    \n",
    "    train.loc[train['Embarked'].isnull(),'Age']\n",
    "    train=train.drop('mean',axis=1)\n",
    "    train=train.sort('PassengerId').reset_index(drop=True)\n",
    "    \n",
    "    train['fare_per_person']=train['Fare']/(train['SibSp']+train['Parch']+1)\n",
    "    train['age_pclass']=train['Age']*train['Pclass']\n",
    "    train['sex_pclass']=(train['Sex']+1)*train['Pclass']\n",
    "    train['family']=train['SibSp']+train['Parch']\n",
    "    train['age_squared']=train['Age']*train['Age']\n",
    "    train['age_pclass_squared']=train['age_pclass']*train['age_pclass']\n",
    "    \n",
    "    return train[['PassengerId','Sex','Pclass','Fare','fare_per_person','Title','age_pclass','sex_pclass','Age','family',\n",
    "                  'age_squared','age_pclass_squared','Survived']]\n",
    ",'Survived'"
   ]
  },
  {
   "cell_type": "code",
   "execution_count": 31,
   "metadata": {
    "collapsed": false
   },
   "outputs": [],
   "source": [
    "train=clean_df(train)"
   ]
  },
  {
   "cell_type": "code",
   "execution_count": 33,
   "metadata": {
    "collapsed": false
   },
   "outputs": [
    {
     "data": {
      "text/html": [
       "<div style=\"max-height:1000px;max-width:1500px;overflow:auto;\">\n",
       "<table border=\"1\" class=\"dataframe\">\n",
       "  <thead>\n",
       "    <tr style=\"text-align: right;\">\n",
       "      <th></th>\n",
       "      <th>PassengerId</th>\n",
       "      <th>Survived</th>\n",
       "      <th>Pclass</th>\n",
       "      <th>Name</th>\n",
       "      <th>Sex</th>\n",
       "      <th>Age</th>\n",
       "      <th>SibSp</th>\n",
       "      <th>Parch</th>\n",
       "      <th>Ticket</th>\n",
       "      <th>Fare</th>\n",
       "      <th>Cabin</th>\n",
       "      <th>Embarked</th>\n",
       "      <th>Title</th>\n",
       "    </tr>\n",
       "  </thead>\n",
       "  <tbody>\n",
       "    <tr>\n",
       "      <th>0</th>\n",
       "      <td> 1</td>\n",
       "      <td> 0</td>\n",
       "      <td> 3</td>\n",
       "      <td>                           Braund, Mr. Owen Harris</td>\n",
       "      <td>   male</td>\n",
       "      <td> 22</td>\n",
       "      <td> 1</td>\n",
       "      <td> 0</td>\n",
       "      <td>        A/5 21171</td>\n",
       "      <td>  7.2500</td>\n",
       "      <td>  NaN</td>\n",
       "      <td> S</td>\n",
       "      <td> 0</td>\n",
       "    </tr>\n",
       "    <tr>\n",
       "      <th>1</th>\n",
       "      <td> 2</td>\n",
       "      <td> 1</td>\n",
       "      <td> 1</td>\n",
       "      <td> Cumings, Mrs. John Bradley (Florence Briggs Th...</td>\n",
       "      <td> female</td>\n",
       "      <td> 38</td>\n",
       "      <td> 1</td>\n",
       "      <td> 0</td>\n",
       "      <td>         PC 17599</td>\n",
       "      <td> 71.2833</td>\n",
       "      <td>  C85</td>\n",
       "      <td> C</td>\n",
       "      <td> 1</td>\n",
       "    </tr>\n",
       "    <tr>\n",
       "      <th>2</th>\n",
       "      <td> 3</td>\n",
       "      <td> 1</td>\n",
       "      <td> 3</td>\n",
       "      <td>                            Heikkinen, Miss. Laina</td>\n",
       "      <td> female</td>\n",
       "      <td> 26</td>\n",
       "      <td> 0</td>\n",
       "      <td> 0</td>\n",
       "      <td> STON/O2. 3101282</td>\n",
       "      <td>  7.9250</td>\n",
       "      <td>  NaN</td>\n",
       "      <td> S</td>\n",
       "      <td> 2</td>\n",
       "    </tr>\n",
       "    <tr>\n",
       "      <th>3</th>\n",
       "      <td> 4</td>\n",
       "      <td> 1</td>\n",
       "      <td> 1</td>\n",
       "      <td>      Futrelle, Mrs. Jacques Heath (Lily May Peel)</td>\n",
       "      <td> female</td>\n",
       "      <td> 35</td>\n",
       "      <td> 1</td>\n",
       "      <td> 0</td>\n",
       "      <td>           113803</td>\n",
       "      <td> 53.1000</td>\n",
       "      <td> C123</td>\n",
       "      <td> S</td>\n",
       "      <td> 1</td>\n",
       "    </tr>\n",
       "    <tr>\n",
       "      <th>4</th>\n",
       "      <td> 5</td>\n",
       "      <td> 0</td>\n",
       "      <td> 3</td>\n",
       "      <td>                          Allen, Mr. William Henry</td>\n",
       "      <td>   male</td>\n",
       "      <td> 35</td>\n",
       "      <td> 0</td>\n",
       "      <td> 0</td>\n",
       "      <td>           373450</td>\n",
       "      <td>  8.0500</td>\n",
       "      <td>  NaN</td>\n",
       "      <td> S</td>\n",
       "      <td> 0</td>\n",
       "    </tr>\n",
       "  </tbody>\n",
       "</table>\n",
       "</div>"
      ],
      "text/plain": [
       "   PassengerId  Survived  Pclass  \\\n",
       "0            1         0       3   \n",
       "1            2         1       1   \n",
       "2            3         1       3   \n",
       "3            4         1       1   \n",
       "4            5         0       3   \n",
       "\n",
       "                                                Name     Sex  Age  SibSp  \\\n",
       "0                            Braund, Mr. Owen Harris    male   22      1   \n",
       "1  Cumings, Mrs. John Bradley (Florence Briggs Th...  female   38      1   \n",
       "2                             Heikkinen, Miss. Laina  female   26      0   \n",
       "3       Futrelle, Mrs. Jacques Heath (Lily May Peel)  female   35      1   \n",
       "4                           Allen, Mr. William Henry    male   35      0   \n",
       "\n",
       "   Parch            Ticket     Fare Cabin Embarked  Title  \n",
       "0      0         A/5 21171   7.2500   NaN        S      0  \n",
       "1      0          PC 17599  71.2833   C85        C      1  \n",
       "2      0  STON/O2. 3101282   7.9250   NaN        S      2  \n",
       "3      0            113803  53.1000  C123        S      1  \n",
       "4      0            373450   8.0500   NaN        S      0  "
      ]
     },
     "execution_count": 33,
     "metadata": {},
     "output_type": "execute_result"
    }
   ],
   "source": [
    "train.head()"
   ]
  },
  {
   "cell_type": "code",
   "execution_count": 9,
   "metadata": {
    "collapsed": false
   },
   "outputs": [
    {
     "data": {
      "text/plain": [
       "(892, 13)"
      ]
     },
     "execution_count": 9,
     "metadata": {},
     "output_type": "execute_result"
    }
   ],
   "source": [
    "train.shape"
   ]
  },
  {
   "cell_type": "markdown",
   "metadata": {},
   "source": [
    "try svm\n",
    "----"
   ]
  },
  {
   "cell_type": "code",
   "execution_count": 59,
   "metadata": {
    "collapsed": true
   },
   "outputs": [],
   "source": [
    "train_x = train.values[:-1,1:-1]\n",
    "train_y = (train.ix[:,-1])[:-1]"
   ]
  },
  {
   "cell_type": "code",
   "execution_count": 110,
   "metadata": {
    "collapsed": false
   },
   "outputs": [
    {
     "data": {
      "text/html": [
       "<div style=\"max-height:1000px;max-width:1500px;overflow:auto;\">\n",
       "<table border=\"1\" class=\"dataframe\">\n",
       "  <thead>\n",
       "    <tr style=\"text-align: right;\">\n",
       "      <th></th>\n",
       "      <th>PassengerId</th>\n",
       "      <th>Pclass</th>\n",
       "      <th>Name</th>\n",
       "      <th>Sex</th>\n",
       "      <th>Age</th>\n",
       "      <th>SibSp</th>\n",
       "      <th>Parch</th>\n",
       "      <th>Ticket</th>\n",
       "      <th>Fare</th>\n",
       "      <th>Cabin</th>\n",
       "      <th>Embarked</th>\n",
       "    </tr>\n",
       "  </thead>\n",
       "  <tbody>\n",
       "    <tr>\n",
       "      <th>0</th>\n",
       "      <td> 892</td>\n",
       "      <td> 3</td>\n",
       "      <td>                             Kelly, Mr. James</td>\n",
       "      <td>   male</td>\n",
       "      <td> 34.5</td>\n",
       "      <td> 0</td>\n",
       "      <td> 0</td>\n",
       "      <td>  330911</td>\n",
       "      <td>  7.8292</td>\n",
       "      <td> NaN</td>\n",
       "      <td> Q</td>\n",
       "    </tr>\n",
       "    <tr>\n",
       "      <th>1</th>\n",
       "      <td> 893</td>\n",
       "      <td> 3</td>\n",
       "      <td>             Wilkes, Mrs. James (Ellen Needs)</td>\n",
       "      <td> female</td>\n",
       "      <td> 47.0</td>\n",
       "      <td> 1</td>\n",
       "      <td> 0</td>\n",
       "      <td>  363272</td>\n",
       "      <td>  7.0000</td>\n",
       "      <td> NaN</td>\n",
       "      <td> S</td>\n",
       "    </tr>\n",
       "    <tr>\n",
       "      <th>2</th>\n",
       "      <td> 894</td>\n",
       "      <td> 2</td>\n",
       "      <td>                    Myles, Mr. Thomas Francis</td>\n",
       "      <td>   male</td>\n",
       "      <td> 62.0</td>\n",
       "      <td> 0</td>\n",
       "      <td> 0</td>\n",
       "      <td>  240276</td>\n",
       "      <td>  9.6875</td>\n",
       "      <td> NaN</td>\n",
       "      <td> Q</td>\n",
       "    </tr>\n",
       "    <tr>\n",
       "      <th>3</th>\n",
       "      <td> 895</td>\n",
       "      <td> 3</td>\n",
       "      <td>                             Wirz, Mr. Albert</td>\n",
       "      <td>   male</td>\n",
       "      <td> 27.0</td>\n",
       "      <td> 0</td>\n",
       "      <td> 0</td>\n",
       "      <td>  315154</td>\n",
       "      <td>  8.6625</td>\n",
       "      <td> NaN</td>\n",
       "      <td> S</td>\n",
       "    </tr>\n",
       "    <tr>\n",
       "      <th>4</th>\n",
       "      <td> 896</td>\n",
       "      <td> 3</td>\n",
       "      <td> Hirvonen, Mrs. Alexander (Helga E Lindqvist)</td>\n",
       "      <td> female</td>\n",
       "      <td> 22.0</td>\n",
       "      <td> 1</td>\n",
       "      <td> 1</td>\n",
       "      <td> 3101298</td>\n",
       "      <td> 12.2875</td>\n",
       "      <td> NaN</td>\n",
       "      <td> S</td>\n",
       "    </tr>\n",
       "  </tbody>\n",
       "</table>\n",
       "</div>"
      ],
      "text/plain": [
       "   PassengerId  Pclass                                          Name     Sex  \\\n",
       "0          892       3                              Kelly, Mr. James    male   \n",
       "1          893       3              Wilkes, Mrs. James (Ellen Needs)  female   \n",
       "2          894       2                     Myles, Mr. Thomas Francis    male   \n",
       "3          895       3                              Wirz, Mr. Albert    male   \n",
       "4          896       3  Hirvonen, Mrs. Alexander (Helga E Lindqvist)  female   \n",
       "\n",
       "    Age  SibSp  Parch   Ticket     Fare Cabin Embarked  \n",
       "0  34.5      0      0   330911   7.8292   NaN        Q  \n",
       "1  47.0      1      0   363272   7.0000   NaN        S  \n",
       "2  62.0      0      0   240276   9.6875   NaN        Q  \n",
       "3  27.0      0      0   315154   8.6625   NaN        S  \n",
       "4  22.0      1      1  3101298  12.2875   NaN        S  "
      ]
     },
     "execution_count": 110,
     "metadata": {},
     "output_type": "execute_result"
    }
   ],
   "source": [
    "test=pd.read_csv('test.csv')\n",
    "test.head()"
   ]
  },
  {
   "cell_type": "code",
   "execution_count": 111,
   "metadata": {
    "collapsed": false
   },
   "outputs": [
    {
     "data": {
      "text/plain": [
       "(418, 11)"
      ]
     },
     "execution_count": 111,
     "metadata": {},
     "output_type": "execute_result"
    }
   ],
   "source": [
    "test.shape"
   ]
  },
  {
   "cell_type": "code",
   "execution_count": 112,
   "metadata": {
    "collapsed": true
   },
   "outputs": [],
   "source": [
    "test=clean_df(test)"
   ]
  },
  {
   "cell_type": "code",
   "execution_count": 113,
   "metadata": {
    "collapsed": false
   },
   "outputs": [
    {
     "data": {
      "text/html": [
       "<div style=\"max-height:1000px;max-width:1500px;overflow:auto;\">\n",
       "<table border=\"1\" class=\"dataframe\">\n",
       "  <thead>\n",
       "    <tr style=\"text-align: right;\">\n",
       "      <th></th>\n",
       "      <th>PassengerId</th>\n",
       "      <th>Sex</th>\n",
       "      <th>Pclass</th>\n",
       "      <th>Fare</th>\n",
       "      <th>fare_per_person</th>\n",
       "      <th>Title</th>\n",
       "      <th>age_pclass</th>\n",
       "      <th>sex_pclass</th>\n",
       "      <th>Age</th>\n",
       "      <th>family</th>\n",
       "      <th>age_squared</th>\n",
       "      <th>age_pclass_squared</th>\n",
       "    </tr>\n",
       "  </thead>\n",
       "  <tbody>\n",
       "    <tr>\n",
       "      <th>422</th>\n",
       "      <td>NaN</td>\n",
       "      <td> 2</td>\n",
       "      <td>NaN</td>\n",
       "      <td> 35.627188</td>\n",
       "      <td>NaN</td>\n",
       "      <td> 11</td>\n",
       "      <td>NaN</td>\n",
       "      <td>NaN</td>\n",
       "      <td> 30.211045</td>\n",
       "      <td>NaN</td>\n",
       "      <td> 912.707267</td>\n",
       "      <td>NaN</td>\n",
       "    </tr>\n",
       "    <tr>\n",
       "      <th>423</th>\n",
       "      <td>NaN</td>\n",
       "      <td> 2</td>\n",
       "      <td>NaN</td>\n",
       "      <td> 35.627188</td>\n",
       "      <td>NaN</td>\n",
       "      <td> 15</td>\n",
       "      <td>NaN</td>\n",
       "      <td>NaN</td>\n",
       "      <td> 30.211045</td>\n",
       "      <td>NaN</td>\n",
       "      <td> 912.707267</td>\n",
       "      <td>NaN</td>\n",
       "    </tr>\n",
       "    <tr>\n",
       "      <th>424</th>\n",
       "      <td>NaN</td>\n",
       "      <td> 2</td>\n",
       "      <td>NaN</td>\n",
       "      <td> 35.627188</td>\n",
       "      <td>NaN</td>\n",
       "      <td> 16</td>\n",
       "      <td>NaN</td>\n",
       "      <td>NaN</td>\n",
       "      <td> 30.211045</td>\n",
       "      <td>NaN</td>\n",
       "      <td> 912.707267</td>\n",
       "      <td>NaN</td>\n",
       "    </tr>\n",
       "    <tr>\n",
       "      <th>425</th>\n",
       "      <td>NaN</td>\n",
       "      <td> 2</td>\n",
       "      <td>NaN</td>\n",
       "      <td> 35.627188</td>\n",
       "      <td>NaN</td>\n",
       "      <td>  7</td>\n",
       "      <td>NaN</td>\n",
       "      <td>NaN</td>\n",
       "      <td> 30.211045</td>\n",
       "      <td>NaN</td>\n",
       "      <td> 912.707267</td>\n",
       "      <td>NaN</td>\n",
       "    </tr>\n",
       "    <tr>\n",
       "      <th>426</th>\n",
       "      <td>NaN</td>\n",
       "      <td> 2</td>\n",
       "      <td>NaN</td>\n",
       "      <td> 35.627188</td>\n",
       "      <td>NaN</td>\n",
       "      <td>  4</td>\n",
       "      <td>NaN</td>\n",
       "      <td>NaN</td>\n",
       "      <td> 30.211045</td>\n",
       "      <td>NaN</td>\n",
       "      <td> 912.707267</td>\n",
       "      <td>NaN</td>\n",
       "    </tr>\n",
       "  </tbody>\n",
       "</table>\n",
       "</div>"
      ],
      "text/plain": [
       "     PassengerId  Sex  Pclass       Fare  fare_per_person  Title  age_pclass  \\\n",
       "422          NaN    2     NaN  35.627188              NaN     11         NaN   \n",
       "423          NaN    2     NaN  35.627188              NaN     15         NaN   \n",
       "424          NaN    2     NaN  35.627188              NaN     16         NaN   \n",
       "425          NaN    2     NaN  35.627188              NaN      7         NaN   \n",
       "426          NaN    2     NaN  35.627188              NaN      4         NaN   \n",
       "\n",
       "     sex_pclass        Age  family  age_squared  age_pclass_squared  \n",
       "422         NaN  30.211045     NaN   912.707267                 NaN  \n",
       "423         NaN  30.211045     NaN   912.707267                 NaN  \n",
       "424         NaN  30.211045     NaN   912.707267                 NaN  \n",
       "425         NaN  30.211045     NaN   912.707267                 NaN  \n",
       "426         NaN  30.211045     NaN   912.707267                 NaN  "
      ]
     },
     "execution_count": 113,
     "metadata": {},
     "output_type": "execute_result"
    }
   ],
   "source": [
    "test.tail()"
   ]
  },
  {
   "cell_type": "code",
   "execution_count": 114,
   "metadata": {
    "collapsed": false
   },
   "outputs": [
    {
     "data": {
      "text/plain": [
       "(418, 12)"
      ]
     },
     "execution_count": 114,
     "metadata": {},
     "output_type": "execute_result"
    }
   ],
   "source": [
    "test=test.dropna(subset=['PassengerId'])\n",
    "test.shape"
   ]
  },
  {
   "cell_type": "code",
   "execution_count": 115,
   "metadata": {
    "collapsed": false
   },
   "outputs": [
    {
     "data": {
      "text/html": [
       "<div style=\"max-height:1000px;max-width:1500px;overflow:auto;\">\n",
       "<table border=\"1\" class=\"dataframe\">\n",
       "  <thead>\n",
       "    <tr style=\"text-align: right;\">\n",
       "      <th></th>\n",
       "      <th>PassengerId</th>\n",
       "      <th>Sex</th>\n",
       "      <th>Pclass</th>\n",
       "      <th>Fare</th>\n",
       "      <th>fare_per_person</th>\n",
       "      <th>Title</th>\n",
       "      <th>age_pclass</th>\n",
       "      <th>sex_pclass</th>\n",
       "      <th>Age</th>\n",
       "      <th>family</th>\n",
       "      <th>age_squared</th>\n",
       "      <th>age_pclass_squared</th>\n",
       "    </tr>\n",
       "  </thead>\n",
       "  <tbody>\n",
       "    <tr>\n",
       "      <th>0</th>\n",
       "      <td> 892</td>\n",
       "      <td> 0</td>\n",
       "      <td> 3</td>\n",
       "      <td>  7.8292</td>\n",
       "      <td> 7.829200</td>\n",
       "      <td> 0</td>\n",
       "      <td> 103.5</td>\n",
       "      <td> 3</td>\n",
       "      <td> 34.5</td>\n",
       "      <td> 0</td>\n",
       "      <td> 1190.25</td>\n",
       "      <td> 10712.25</td>\n",
       "    </tr>\n",
       "    <tr>\n",
       "      <th>1</th>\n",
       "      <td> 893</td>\n",
       "      <td> 1</td>\n",
       "      <td> 3</td>\n",
       "      <td>  7.0000</td>\n",
       "      <td> 3.500000</td>\n",
       "      <td> 1</td>\n",
       "      <td> 141.0</td>\n",
       "      <td> 6</td>\n",
       "      <td> 47.0</td>\n",
       "      <td> 1</td>\n",
       "      <td> 2209.00</td>\n",
       "      <td> 19881.00</td>\n",
       "    </tr>\n",
       "    <tr>\n",
       "      <th>2</th>\n",
       "      <td> 894</td>\n",
       "      <td> 0</td>\n",
       "      <td> 2</td>\n",
       "      <td>  9.6875</td>\n",
       "      <td> 9.687500</td>\n",
       "      <td> 0</td>\n",
       "      <td> 124.0</td>\n",
       "      <td> 2</td>\n",
       "      <td> 62.0</td>\n",
       "      <td> 0</td>\n",
       "      <td> 3844.00</td>\n",
       "      <td> 15376.00</td>\n",
       "    </tr>\n",
       "    <tr>\n",
       "      <th>3</th>\n",
       "      <td> 895</td>\n",
       "      <td> 0</td>\n",
       "      <td> 3</td>\n",
       "      <td>  8.6625</td>\n",
       "      <td> 8.662500</td>\n",
       "      <td> 0</td>\n",
       "      <td>  81.0</td>\n",
       "      <td> 3</td>\n",
       "      <td> 27.0</td>\n",
       "      <td> 0</td>\n",
       "      <td>  729.00</td>\n",
       "      <td>  6561.00</td>\n",
       "    </tr>\n",
       "    <tr>\n",
       "      <th>4</th>\n",
       "      <td> 896</td>\n",
       "      <td> 1</td>\n",
       "      <td> 3</td>\n",
       "      <td> 12.2875</td>\n",
       "      <td> 4.095833</td>\n",
       "      <td> 1</td>\n",
       "      <td>  66.0</td>\n",
       "      <td> 6</td>\n",
       "      <td> 22.0</td>\n",
       "      <td> 2</td>\n",
       "      <td>  484.00</td>\n",
       "      <td>  4356.00</td>\n",
       "    </tr>\n",
       "  </tbody>\n",
       "</table>\n",
       "</div>"
      ],
      "text/plain": [
       "   PassengerId  Sex  Pclass     Fare  fare_per_person  Title  age_pclass  \\\n",
       "0          892    0       3   7.8292         7.829200      0       103.5   \n",
       "1          893    1       3   7.0000         3.500000      1       141.0   \n",
       "2          894    0       2   9.6875         9.687500      0       124.0   \n",
       "3          895    0       3   8.6625         8.662500      0        81.0   \n",
       "4          896    1       3  12.2875         4.095833      1        66.0   \n",
       "\n",
       "   sex_pclass   Age  family  age_squared  age_pclass_squared  \n",
       "0           3  34.5       0      1190.25            10712.25  \n",
       "1           6  47.0       1      2209.00            19881.00  \n",
       "2           2  62.0       0      3844.00            15376.00  \n",
       "3           3  27.0       0       729.00             6561.00  \n",
       "4           6  22.0       2       484.00             4356.00  "
      ]
     },
     "execution_count": 115,
     "metadata": {},
     "output_type": "execute_result"
    }
   ],
   "source": [
    "test.head()"
   ]
  },
  {
   "cell_type": "code",
   "execution_count": 116,
   "metadata": {
    "collapsed": false
   },
   "outputs": [
    {
     "data": {
      "text/plain": [
       "PassengerId           False\n",
       "Sex                   False\n",
       "Pclass                False\n",
       "Fare                  False\n",
       "fare_per_person       False\n",
       "Title                 False\n",
       "age_pclass            False\n",
       "sex_pclass            False\n",
       "Age                   False\n",
       "family                False\n",
       "age_squared           False\n",
       "age_pclass_squared    False\n",
       "dtype: bool"
      ]
     },
     "execution_count": 116,
     "metadata": {},
     "output_type": "execute_result"
    }
   ],
   "source": [
    "test.isnull().any()"
   ]
  },
  {
   "cell_type": "code",
   "execution_count": 117,
   "metadata": {
    "collapsed": false
   },
   "outputs": [],
   "source": [
    "test_x = test.values[:,1:]"
   ]
  },
  {
   "cell_type": "code",
   "execution_count": 118,
   "metadata": {
    "collapsed": false
   },
   "outputs": [
    {
     "data": {
      "text/plain": [
       "array([[  0.00000000e+00,   3.00000000e+00,   7.82920000e+00, ...,\n",
       "          0.00000000e+00,   1.19025000e+03,   1.07122500e+04],\n",
       "       [  1.00000000e+00,   3.00000000e+00,   7.00000000e+00, ...,\n",
       "          1.00000000e+00,   2.20900000e+03,   1.98810000e+04],\n",
       "       [  0.00000000e+00,   2.00000000e+00,   9.68750000e+00, ...,\n",
       "          0.00000000e+00,   3.84400000e+03,   1.53760000e+04],\n",
       "       ..., \n",
       "       [  0.00000000e+00,   3.00000000e+00,   7.25000000e+00, ...,\n",
       "          0.00000000e+00,   1.48225000e+03,   1.33402500e+04],\n",
       "       [  0.00000000e+00,   3.00000000e+00,   8.05000000e+00, ...,\n",
       "          0.00000000e+00,   1.02400000e+03,   9.21600000e+03],\n",
       "       [  0.00000000e+00,   3.00000000e+00,   2.23583000e+01, ...,\n",
       "          2.00000000e+00,   5.48558066e+01,   4.93702259e+02]])"
      ]
     },
     "execution_count": 118,
     "metadata": {},
     "output_type": "execute_result"
    }
   ],
   "source": [
    "test_x"
   ]
  },
  {
   "cell_type": "code",
   "execution_count": 119,
   "metadata": {
    "collapsed": false
   },
   "outputs": [
    {
     "data": {
      "text/plain": [
       "SVC(C=10, cache_size=200, class_weight=None, coef0=0.0, degree=3, gamma=0.0,\n",
       "  kernel='rbf', max_iter=-1, probability=False, random_state=None,\n",
       "  shrinking=True, tol=0.001, verbose=False)"
      ]
     },
     "execution_count": 119,
     "metadata": {},
     "output_type": "execute_result"
    }
   ],
   "source": [
    "from sklearn import svm\n",
    "\n",
    "svc=svm.SVC(kernel='rbf',C=10)\n",
    "svc.fit(train_x,train_y)\n"
   ]
  },
  {
   "cell_type": "code",
   "execution_count": 120,
   "metadata": {
    "collapsed": true
   },
   "outputs": [],
   "source": [
    "test_y=svc.predict(test_x)"
   ]
  },
  {
   "cell_type": "code",
   "execution_count": 122,
   "metadata": {
    "collapsed": false
   },
   "outputs": [],
   "source": [
    "test['Survived']=test_y"
   ]
  },
  {
   "cell_type": "markdown",
   "metadata": {},
   "source": [
    "Split train and val\n",
    "---"
   ]
  },
  {
   "cell_type": "code",
   "execution_count": 341,
   "metadata": {
    "collapsed": false
   },
   "outputs": [
    {
     "name": "stdout",
     "output_type": "stream",
     "text": [
      "(596, 12)\n",
      "(295, 12)\n"
     ]
    }
   ],
   "source": [
    "sub_train,sub_val=sklearn.cross_validation.train_test_split(train,test_size=0.33,random_state=42)\n",
    "sub_train=pd.DataFrame(sub_train)\n",
    "sub_train.columns=train.columns\n",
    "sub_val=pd.DataFrame(sub_val)\n",
    "sub_val.columns=train.columns\n",
    "print sub_train.shape\n",
    "print sub_val.shape"
   ]
  },
  {
   "cell_type": "code",
   "execution_count": 342,
   "metadata": {
    "collapsed": false
   },
   "outputs": [
    {
     "data": {
      "text/html": [
       "<div style=\"max-height:1000px;max-width:1500px;overflow:auto;\">\n",
       "<table border=\"1\" class=\"dataframe\">\n",
       "  <thead>\n",
       "    <tr style=\"text-align: right;\">\n",
       "      <th></th>\n",
       "      <th>Sex</th>\n",
       "      <th>Pclass</th>\n",
       "      <th>Fare</th>\n",
       "      <th>fare_per_person</th>\n",
       "      <th>Title</th>\n",
       "      <th>age_pclass</th>\n",
       "      <th>sex_pclass</th>\n",
       "      <th>Age</th>\n",
       "      <th>family</th>\n",
       "      <th>age_squared</th>\n",
       "      <th>age_pclass_squared</th>\n",
       "      <th>Survived</th>\n",
       "    </tr>\n",
       "  </thead>\n",
       "  <tbody>\n",
       "    <tr>\n",
       "      <th>0</th>\n",
       "      <td> 0</td>\n",
       "      <td> 1</td>\n",
       "      <td> 51.8625</td>\n",
       "      <td> 51.8625</td>\n",
       "      <td> 0</td>\n",
       "      <td> 54.000000</td>\n",
       "      <td> 1</td>\n",
       "      <td> 54.00000</td>\n",
       "      <td> 0</td>\n",
       "      <td> 2916.00000</td>\n",
       "      <td> 2916.000000</td>\n",
       "      <td> 0</td>\n",
       "    </tr>\n",
       "    <tr>\n",
       "      <th>1</th>\n",
       "      <td> 0</td>\n",
       "      <td> 3</td>\n",
       "      <td> 15.5000</td>\n",
       "      <td> 15.5000</td>\n",
       "      <td> 0</td>\n",
       "      <td> 97.104271</td>\n",
       "      <td> 3</td>\n",
       "      <td> 32.36809</td>\n",
       "      <td> 0</td>\n",
       "      <td> 1047.69328</td>\n",
       "      <td> 9429.239516</td>\n",
       "      <td> 0</td>\n",
       "    </tr>\n",
       "    <tr>\n",
       "      <th>2</th>\n",
       "      <td> 0</td>\n",
       "      <td> 2</td>\n",
       "      <td> 41.5792</td>\n",
       "      <td> 10.3948</td>\n",
       "      <td> 0</td>\n",
       "      <td> 50.000000</td>\n",
       "      <td> 2</td>\n",
       "      <td> 25.00000</td>\n",
       "      <td> 3</td>\n",
       "      <td>  625.00000</td>\n",
       "      <td> 2500.000000</td>\n",
       "      <td> 0</td>\n",
       "    </tr>\n",
       "    <tr>\n",
       "      <th>3</th>\n",
       "      <td> 0</td>\n",
       "      <td> 3</td>\n",
       "      <td> 14.4542</td>\n",
       "      <td>  7.2271</td>\n",
       "      <td> 0</td>\n",
       "      <td> 78.000000</td>\n",
       "      <td> 3</td>\n",
       "      <td> 26.00000</td>\n",
       "      <td> 1</td>\n",
       "      <td>  676.00000</td>\n",
       "      <td> 6084.000000</td>\n",
       "      <td> 0</td>\n",
       "    </tr>\n",
       "    <tr>\n",
       "      <th>4</th>\n",
       "      <td> 1</td>\n",
       "      <td> 3</td>\n",
       "      <td> 10.5167</td>\n",
       "      <td> 10.5167</td>\n",
       "      <td> 2</td>\n",
       "      <td> 66.000000</td>\n",
       "      <td> 6</td>\n",
       "      <td> 22.00000</td>\n",
       "      <td> 0</td>\n",
       "      <td>  484.00000</td>\n",
       "      <td> 4356.000000</td>\n",
       "      <td> 0</td>\n",
       "    </tr>\n",
       "  </tbody>\n",
       "</table>\n",
       "</div>"
      ],
      "text/plain": [
       "   Sex  Pclass     Fare  fare_per_person  Title  age_pclass  sex_pclass  \\\n",
       "0    0       1  51.8625          51.8625      0   54.000000           1   \n",
       "1    0       3  15.5000          15.5000      0   97.104271           3   \n",
       "2    0       2  41.5792          10.3948      0   50.000000           2   \n",
       "3    0       3  14.4542           7.2271      0   78.000000           3   \n",
       "4    1       3  10.5167          10.5167      2   66.000000           6   \n",
       "\n",
       "        Age  family  age_squared  age_pclass_squared  Survived  \n",
       "0  54.00000       0   2916.00000         2916.000000         0  \n",
       "1  32.36809       0   1047.69328         9429.239516         0  \n",
       "2  25.00000       3    625.00000         2500.000000         0  \n",
       "3  26.00000       1    676.00000         6084.000000         0  \n",
       "4  22.00000       0    484.00000         4356.000000         0  "
      ]
     },
     "execution_count": 342,
     "metadata": {},
     "output_type": "execute_result"
    }
   ],
   "source": [
    "sub_train.head()"
   ]
  },
  {
   "cell_type": "markdown",
   "metadata": {},
   "source": [
    "train and validate\n",
    "---"
   ]
  },
  {
   "cell_type": "code",
   "execution_count": 350,
   "metadata": {
    "collapsed": true
   },
   "outputs": [],
   "source": [
    "def logistic_regression_train(train):\n",
    "    cols=[x for x in train.columns[:-1]]+['intercept']\n",
    "    train['intercept']=1.0\n",
    "    logit=sm.Logit(train['Survived'],train[cols])\n",
    "    result=logit.fit()\n",
    "    paras=result.params\n",
    "    return paras\n",
    "\n",
    "from math import exp\n",
    "def probability(row,paras):\n",
    "    z=paras[len(paras)-1]\n",
    "    for i in np.arange(0,len(paras)-1):\n",
    "        z=z+row[i]*paras[i]\n",
    "    return 1/(1+exp(-1.0*z))\n",
    "\n",
    "def survive_cm(pp,df):\n",
    "    temp=df[['Survived','Pred']].copy()\n",
    "    temp['TF']=temp['Pred']>=pp\n",
    "    cm=sklearn.metrics.confusion_matrix(temp['Survived'],temp['TF'])\n",
    "    return cm"
   ]
  },
  {
   "cell_type": "code",
   "execution_count": 344,
   "metadata": {
    "collapsed": false
   },
   "outputs": [
    {
     "name": "stdout",
     "output_type": "stream",
     "text": [
      "Optimization terminated successfully.\n",
      "         Current function value: 0.434573\n",
      "         Iterations 8\n"
     ]
    }
   ],
   "source": [
    "paras=logistic_regression_train(sub_train)"
   ]
  },
  {
   "cell_type": "code",
   "execution_count": 345,
   "metadata": {
    "collapsed": false
   },
   "outputs": [
    {
     "data": {
      "text/plain": [
       "Sex                   6.948678\n",
       "Pclass                1.030293\n",
       "Fare                 -0.000022\n",
       "fare_per_person       0.007511\n",
       "Title                 0.074442\n",
       "age_pclass            0.019649\n",
       "sex_pclass           -1.742710\n",
       "Age                  -0.136020\n",
       "family               -0.248490\n",
       "age_squared           0.001341\n",
       "age_pclass_squared   -0.000079\n",
       "intercept             1.938466\n",
       "dtype: float64"
      ]
     },
     "execution_count": 345,
     "metadata": {},
     "output_type": "execute_result"
    }
   ],
   "source": [
    "paras"
   ]
  },
  {
   "cell_type": "code",
   "execution_count": 346,
   "metadata": {
    "collapsed": false
   },
   "outputs": [
    {
     "data": {
      "text/html": [
       "<div style=\"max-height:1000px;max-width:1500px;overflow:auto;\">\n",
       "<table border=\"1\" class=\"dataframe\">\n",
       "  <thead>\n",
       "    <tr style=\"text-align: right;\">\n",
       "      <th></th>\n",
       "      <th>Sex</th>\n",
       "      <th>Pclass</th>\n",
       "      <th>Fare</th>\n",
       "      <th>fare_per_person</th>\n",
       "      <th>Title</th>\n",
       "      <th>age_pclass</th>\n",
       "      <th>sex_pclass</th>\n",
       "      <th>Age</th>\n",
       "      <th>family</th>\n",
       "      <th>age_squared</th>\n",
       "      <th>age_pclass_squared</th>\n",
       "      <th>Survived</th>\n",
       "    </tr>\n",
       "  </thead>\n",
       "  <tbody>\n",
       "    <tr>\n",
       "      <th>0</th>\n",
       "      <td> 0</td>\n",
       "      <td> 3</td>\n",
       "      <td> 15.2458</td>\n",
       "      <td>  5.081933</td>\n",
       "      <td> 3</td>\n",
       "      <td> 13.7225</td>\n",
       "      <td> 3</td>\n",
       "      <td>  4.574167</td>\n",
       "      <td> 2</td>\n",
       "      <td>  20.923001</td>\n",
       "      <td>  188.307006</td>\n",
       "      <td> 1</td>\n",
       "    </tr>\n",
       "    <tr>\n",
       "      <th>1</th>\n",
       "      <td> 0</td>\n",
       "      <td> 2</td>\n",
       "      <td> 10.5000</td>\n",
       "      <td> 10.500000</td>\n",
       "      <td> 0</td>\n",
       "      <td> 62.0000</td>\n",
       "      <td> 2</td>\n",
       "      <td> 31.000000</td>\n",
       "      <td> 0</td>\n",
       "      <td> 961.000000</td>\n",
       "      <td> 3844.000000</td>\n",
       "      <td> 0</td>\n",
       "    </tr>\n",
       "    <tr>\n",
       "      <th>2</th>\n",
       "      <td> 0</td>\n",
       "      <td> 3</td>\n",
       "      <td>  7.9250</td>\n",
       "      <td>  7.925000</td>\n",
       "      <td> 0</td>\n",
       "      <td> 60.0000</td>\n",
       "      <td> 3</td>\n",
       "      <td> 20.000000</td>\n",
       "      <td> 0</td>\n",
       "      <td> 400.000000</td>\n",
       "      <td> 3600.000000</td>\n",
       "      <td> 0</td>\n",
       "    </tr>\n",
       "    <tr>\n",
       "      <th>3</th>\n",
       "      <td> 1</td>\n",
       "      <td> 2</td>\n",
       "      <td> 33.0000</td>\n",
       "      <td> 16.500000</td>\n",
       "      <td> 2</td>\n",
       "      <td> 12.0000</td>\n",
       "      <td> 4</td>\n",
       "      <td>  6.000000</td>\n",
       "      <td> 1</td>\n",
       "      <td>  36.000000</td>\n",
       "      <td>  144.000000</td>\n",
       "      <td> 1</td>\n",
       "    </tr>\n",
       "    <tr>\n",
       "      <th>4</th>\n",
       "      <td> 1</td>\n",
       "      <td> 3</td>\n",
       "      <td> 11.2417</td>\n",
       "      <td>  5.620850</td>\n",
       "      <td> 2</td>\n",
       "      <td> 42.0000</td>\n",
       "      <td> 6</td>\n",
       "      <td> 14.000000</td>\n",
       "      <td> 1</td>\n",
       "      <td> 196.000000</td>\n",
       "      <td> 1764.000000</td>\n",
       "      <td> 1</td>\n",
       "    </tr>\n",
       "  </tbody>\n",
       "</table>\n",
       "</div>"
      ],
      "text/plain": [
       "   Sex  Pclass     Fare  fare_per_person  Title  age_pclass  sex_pclass  \\\n",
       "0    0       3  15.2458         5.081933      3     13.7225           3   \n",
       "1    0       2  10.5000        10.500000      0     62.0000           2   \n",
       "2    0       3   7.9250         7.925000      0     60.0000           3   \n",
       "3    1       2  33.0000        16.500000      2     12.0000           4   \n",
       "4    1       3  11.2417         5.620850      2     42.0000           6   \n",
       "\n",
       "         Age  family  age_squared  age_pclass_squared  Survived  \n",
       "0   4.574167       2    20.923001          188.307006         1  \n",
       "1  31.000000       0   961.000000         3844.000000         0  \n",
       "2  20.000000       0   400.000000         3600.000000         0  \n",
       "3   6.000000       1    36.000000          144.000000         1  \n",
       "4  14.000000       1   196.000000         1764.000000         1  "
      ]
     },
     "execution_count": 346,
     "metadata": {},
     "output_type": "execute_result"
    }
   ],
   "source": [
    "sub_val.head()"
   ]
  },
  {
   "cell_type": "code",
   "execution_count": 351,
   "metadata": {
    "collapsed": false
   },
   "outputs": [
    {
     "data": {
      "image/png": "[encoded data removed]",
      "text/plain": [
       "<matplotlib.figure.Figure at 0x10bb7ce10>"
      ]
     },
     "metadata": {},
     "output_type": "display_data"
    }
   ],
   "source": [
    "compare=sub_val[sub_val.columns[:-1]].copy()\n",
    "pred=[]\n",
    "for ii in np.arange(len(compare.Pclass)):\n",
    "    pred.append(probability(compare.iloc[ii],paras))\n",
    "sub_val['Pred']=pred\n",
    "\n",
    "temp=sub_val[['Sex','Survived','Pred']].copy()\n",
    "tempmale=temp[temp['Sex']==0]\n",
    "tempfemale=temp[temp['Sex']==1]\n",
    "\n",
    "m1=[]\n",
    "xlist=np.linspace(0,1,1000)\n",
    "m1=map(lambda x: survive_cm(x,tempmale),xlist)\n",
    "m2=[]\n",
    "ylist=np.linspace(0,1,1000)\n",
    "m2=map(lambda x: survive_cm(x,tempfemale),ylist)\n",
    "\n",
    "mm=[]\n",
    "for ii in m1:\n",
    "    for jj in m2:\n",
    "        cm=ii+jj\n",
    "        mm.append((cm[0,0]+cm[1,1])*1.0/(cm[0,0]+cm[1,1]+cm[0,1]+cm[1,0]))\n",
    "        \n",
    "mmm=np.reshape(mm, (-1, len(xlist)))\n",
    "\n",
    "\n",
    "contour_levels = np.linspace(0,1,100)\n",
    "plt.contour(xlist,ylist,mmm,levels=contour_levels)\n",
    "plt.colorbar()\n",
    "plt.show()"
   ]
  },
  {
   "cell_type": "code",
   "execution_count": 353,
   "metadata": {
    "collapsed": false
   },
   "outputs": [
    {
     "name": "stdout",
     "output_type": "stream",
     "text": [
      "0.847457627119\n"
     ]
    }
   ],
   "source": [
    "matrix=np.asmatrix(mmm)\n",
    "#print matrix.argmax()\n",
    "#print matrix.argmax(0)\n",
    "#print matrix.argmax(1)\n",
    "print matrix.max()\n",
    "ppm=xlist[298]\n",
    "ppf=xlist[499]"
   ]
  },
  {
   "cell_type": "markdown",
   "metadata": {},
   "source": [
    "test\n",
    "---"
   ]
  },
  {
   "cell_type": "code",
   "execution_count": 377,
   "metadata": {
    "collapsed": false
   },
   "outputs": [],
   "source": [
    "test=pd.read_csv('test.csv')\n",
    "test=clean_df(test)"
   ]
  },
  {
   "cell_type": "code",
   "execution_count": 378,
   "metadata": {
    "collapsed": false
   },
   "outputs": [
    {
     "data": {
      "text/html": [
       "<div style=\"max-height:1000px;max-width:1500px;overflow:auto;\">\n",
       "<table border=\"1\" class=\"dataframe\">\n",
       "  <thead>\n",
       "    <tr style=\"text-align: right;\">\n",
       "      <th></th>\n",
       "      <th>PassengerId</th>\n",
       "      <th>Sex</th>\n",
       "      <th>Pclass</th>\n",
       "      <th>Fare</th>\n",
       "      <th>fare_per_person</th>\n",
       "      <th>Title</th>\n",
       "      <th>age_pclass</th>\n",
       "      <th>sex_pclass</th>\n",
       "      <th>Age</th>\n",
       "      <th>family</th>\n",
       "      <th>age_squared</th>\n",
       "      <th>age_pclass_squared</th>\n",
       "    </tr>\n",
       "  </thead>\n",
       "  <tbody>\n",
       "    <tr>\n",
       "      <th>0</th>\n",
       "      <td> 892</td>\n",
       "      <td> 0</td>\n",
       "      <td> 3</td>\n",
       "      <td>  7.8292</td>\n",
       "      <td> 7.829200</td>\n",
       "      <td> 0</td>\n",
       "      <td> 103.5</td>\n",
       "      <td> 3</td>\n",
       "      <td> 34.5</td>\n",
       "      <td> 0</td>\n",
       "      <td> 1190.25</td>\n",
       "      <td> 10712.25</td>\n",
       "    </tr>\n",
       "    <tr>\n",
       "      <th>1</th>\n",
       "      <td> 893</td>\n",
       "      <td> 1</td>\n",
       "      <td> 3</td>\n",
       "      <td>  7.0000</td>\n",
       "      <td> 3.500000</td>\n",
       "      <td> 1</td>\n",
       "      <td> 141.0</td>\n",
       "      <td> 6</td>\n",
       "      <td> 47.0</td>\n",
       "      <td> 1</td>\n",
       "      <td> 2209.00</td>\n",
       "      <td> 19881.00</td>\n",
       "    </tr>\n",
       "    <tr>\n",
       "      <th>2</th>\n",
       "      <td> 894</td>\n",
       "      <td> 0</td>\n",
       "      <td> 2</td>\n",
       "      <td>  9.6875</td>\n",
       "      <td> 9.687500</td>\n",
       "      <td> 0</td>\n",
       "      <td> 124.0</td>\n",
       "      <td> 2</td>\n",
       "      <td> 62.0</td>\n",
       "      <td> 0</td>\n",
       "      <td> 3844.00</td>\n",
       "      <td> 15376.00</td>\n",
       "    </tr>\n",
       "    <tr>\n",
       "      <th>3</th>\n",
       "      <td> 895</td>\n",
       "      <td> 0</td>\n",
       "      <td> 3</td>\n",
       "      <td>  8.6625</td>\n",
       "      <td> 8.662500</td>\n",
       "      <td> 0</td>\n",
       "      <td>  81.0</td>\n",
       "      <td> 3</td>\n",
       "      <td> 27.0</td>\n",
       "      <td> 0</td>\n",
       "      <td>  729.00</td>\n",
       "      <td>  6561.00</td>\n",
       "    </tr>\n",
       "    <tr>\n",
       "      <th>4</th>\n",
       "      <td> 896</td>\n",
       "      <td> 1</td>\n",
       "      <td> 3</td>\n",
       "      <td> 12.2875</td>\n",
       "      <td> 4.095833</td>\n",
       "      <td> 1</td>\n",
       "      <td>  66.0</td>\n",
       "      <td> 6</td>\n",
       "      <td> 22.0</td>\n",
       "      <td> 2</td>\n",
       "      <td>  484.00</td>\n",
       "      <td>  4356.00</td>\n",
       "    </tr>\n",
       "  </tbody>\n",
       "</table>\n",
       "</div>"
      ],
      "text/plain": [
       "   PassengerId  Sex  Pclass     Fare  fare_per_person  Title  age_pclass  \\\n",
       "0          892    0       3   7.8292         7.829200      0       103.5   \n",
       "1          893    1       3   7.0000         3.500000      1       141.0   \n",
       "2          894    0       2   9.6875         9.687500      0       124.0   \n",
       "3          895    0       3   8.6625         8.662500      0        81.0   \n",
       "4          896    1       3  12.2875         4.095833      1        66.0   \n",
       "\n",
       "   sex_pclass   Age  family  age_squared  age_pclass_squared  \n",
       "0           3  34.5       0      1190.25            10712.25  \n",
       "1           6  47.0       1      2209.00            19881.00  \n",
       "2           2  62.0       0      3844.00            15376.00  \n",
       "3           3  27.0       0       729.00             6561.00  \n",
       "4           6  22.0       2       484.00             4356.00  "
      ]
     },
     "execution_count": 378,
     "metadata": {},
     "output_type": "execute_result"
    }
   ],
   "source": [
    "test.head()"
   ]
  },
  {
   "cell_type": "code",
   "execution_count": 379,
   "metadata": {
    "collapsed": false
   },
   "outputs": [
    {
     "name": "stderr",
     "output_type": "stream",
     "text": [
      "/anaconda/lib/python2.7/site-packages/IPython/kernel/__main__.py:8: SettingWithCopyWarning: \n",
      "A value is trying to be set on a copy of a slice from a DataFrame.\n",
      "Try using .loc[row_indexer,col_indexer] = value instead\n",
      "\n",
      "See the the caveats in the documentation: http://pandas.pydata.org/pandas-docs/stable/indexing.html#indexing-view-versus-copy\n",
      "/anaconda/lib/python2.7/site-packages/IPython/kernel/__main__.py:9: SettingWithCopyWarning: \n",
      "A value is trying to be set on a copy of a slice from a DataFrame.\n",
      "Try using .loc[row_indexer,col_indexer] = value instead\n",
      "\n",
      "See the the caveats in the documentation: http://pandas.pydata.org/pandas-docs/stable/indexing.html#indexing-view-versus-copy\n"
     ]
    }
   ],
   "source": [
    "compare=test[test.columns[1:]].copy()\n",
    "pred=[]\n",
    "for ii in np.arange(len(compare.Pclass)):\n",
    "    pred.append(probability(compare.iloc[ii],paras))\n",
    "test['Pred']=pred\n",
    "testmale=test[test['Sex']==0]\n",
    "testfemale=test[test['Sex']==1]\n",
    "testmale['Survived']=1*(testmale['Pred']>=ppm)\n",
    "testfemale['Survived']=1*(testfemale['Pred']>=ppf)\n",
    "test=(pd.concat([testmale,testfemale])).sort('PassengerId')"
   ]
  },
  {
   "cell_type": "code",
   "execution_count": 382,
   "metadata": {
    "collapsed": false
   },
   "outputs": [
    {
     "data": {
      "text/html": [
       "<div style=\"max-height:1000px;max-width:1500px;overflow:auto;\">\n",
       "<table border=\"1\" class=\"dataframe\">\n",
       "  <thead>\n",
       "    <tr style=\"text-align: right;\">\n",
       "      <th></th>\n",
       "      <th>PassengerId</th>\n",
       "      <th>Sex</th>\n",
       "      <th>Pclass</th>\n",
       "      <th>Fare</th>\n",
       "      <th>fare_per_person</th>\n",
       "      <th>Title</th>\n",
       "      <th>age_pclass</th>\n",
       "      <th>sex_pclass</th>\n",
       "      <th>Age</th>\n",
       "      <th>family</th>\n",
       "      <th>age_squared</th>\n",
       "      <th>age_pclass_squared</th>\n",
       "      <th>Pred</th>\n",
       "      <th>Survived</th>\n",
       "    </tr>\n",
       "  </thead>\n",
       "  <tbody>\n",
       "    <tr>\n",
       "      <th>0</th>\n",
       "      <td> 892</td>\n",
       "      <td> 0</td>\n",
       "      <td> 3</td>\n",
       "      <td>  7.8292</td>\n",
       "      <td> 7.829200</td>\n",
       "      <td> 0</td>\n",
       "      <td> 103.5</td>\n",
       "      <td> 3</td>\n",
       "      <td> 34.5</td>\n",
       "      <td> 0</td>\n",
       "      <td> 1190.25</td>\n",
       "      <td> 10712.25</td>\n",
       "      <td> 0.114631</td>\n",
       "      <td> 0</td>\n",
       "    </tr>\n",
       "    <tr>\n",
       "      <th>1</th>\n",
       "      <td> 893</td>\n",
       "      <td> 1</td>\n",
       "      <td> 3</td>\n",
       "      <td>  7.0000</td>\n",
       "      <td> 3.500000</td>\n",
       "      <td> 1</td>\n",
       "      <td> 141.0</td>\n",
       "      <td> 6</td>\n",
       "      <td> 47.0</td>\n",
       "      <td> 1</td>\n",
       "      <td> 2209.00</td>\n",
       "      <td> 19881.00</td>\n",
       "      <td> 0.299940</td>\n",
       "      <td> 0</td>\n",
       "    </tr>\n",
       "    <tr>\n",
       "      <th>2</th>\n",
       "      <td> 894</td>\n",
       "      <td> 0</td>\n",
       "      <td> 2</td>\n",
       "      <td>  9.6875</td>\n",
       "      <td> 9.687500</td>\n",
       "      <td> 0</td>\n",
       "      <td> 124.0</td>\n",
       "      <td> 2</td>\n",
       "      <td> 62.0</td>\n",
       "      <td> 0</td>\n",
       "      <td> 3844.00</td>\n",
       "      <td> 15376.00</td>\n",
       "      <td> 0.187912</td>\n",
       "      <td> 0</td>\n",
       "    </tr>\n",
       "    <tr>\n",
       "      <th>3</th>\n",
       "      <td> 895</td>\n",
       "      <td> 0</td>\n",
       "      <td> 3</td>\n",
       "      <td>  8.6625</td>\n",
       "      <td> 8.662500</td>\n",
       "      <td> 0</td>\n",
       "      <td>  81.0</td>\n",
       "      <td> 3</td>\n",
       "      <td> 27.0</td>\n",
       "      <td> 0</td>\n",
       "      <td>  729.00</td>\n",
       "      <td>  6561.00</td>\n",
       "      <td> 0.147728</td>\n",
       "      <td> 0</td>\n",
       "    </tr>\n",
       "    <tr>\n",
       "      <th>4</th>\n",
       "      <td> 896</td>\n",
       "      <td> 1</td>\n",
       "      <td> 3</td>\n",
       "      <td> 12.2875</td>\n",
       "      <td> 4.095833</td>\n",
       "      <td> 1</td>\n",
       "      <td>  66.0</td>\n",
       "      <td> 6</td>\n",
       "      <td> 22.0</td>\n",
       "      <td> 2</td>\n",
       "      <td>  484.00</td>\n",
       "      <td>  4356.00</td>\n",
       "      <td> 0.435630</td>\n",
       "      <td> 0</td>\n",
       "    </tr>\n",
       "  </tbody>\n",
       "</table>\n",
       "</div>"
      ],
      "text/plain": [
       "   PassengerId  Sex  Pclass     Fare  fare_per_person  Title  age_pclass  \\\n",
       "0          892    0       3   7.8292         7.829200      0       103.5   \n",
       "1          893    1       3   7.0000         3.500000      1       141.0   \n",
       "2          894    0       2   9.6875         9.687500      0       124.0   \n",
       "3          895    0       3   8.6625         8.662500      0        81.0   \n",
       "4          896    1       3  12.2875         4.095833      1        66.0   \n",
       "\n",
       "   sex_pclass   Age  family  age_squared  age_pclass_squared      Pred  \\\n",
       "0           3  34.5       0      1190.25            10712.25  0.114631   \n",
       "1           6  47.0       1      2209.00            19881.00  0.299940   \n",
       "2           2  62.0       0      3844.00            15376.00  0.187912   \n",
       "3           3  27.0       0       729.00             6561.00  0.147728   \n",
       "4           6  22.0       2       484.00             4356.00  0.435630   \n",
       "\n",
       "   Survived  \n",
       "0         0  \n",
       "1         0  \n",
       "2         0  \n",
       "3         0  \n",
       "4         0  "
      ]
     },
     "execution_count": 382,
     "metadata": {},
     "output_type": "execute_result"
    }
   ],
   "source": [
    "test.head()"
   ]
  },
  {
   "cell_type": "code",
   "execution_count": 383,
   "metadata": {
    "collapsed": true
   },
   "outputs": [],
   "source": [
    "result=test[['PassengerId','Survived']].copy()"
   ]
  },
  {
   "cell_type": "code",
   "execution_count": 389,
   "metadata": {
    "collapsed": false
   },
   "outputs": [],
   "source": [
    "result['PassengerId']=result['PassengerId'].astype(int32)"
   ]
  },
  {
   "cell_type": "code",
   "execution_count": 390,
   "metadata": {
    "collapsed": false
   },
   "outputs": [
    {
     "data": {
      "text/plain": [
       "PassengerId    int32\n",
       "Survived       int64\n",
       "dtype: object"
      ]
     },
     "execution_count": 390,
     "metadata": {},
     "output_type": "execute_result"
    }
   ],
   "source": [
    "result.dtypes"
   ]
  },
  {
   "cell_type": "code",
   "execution_count": 391,
   "metadata": {
    "collapsed": false
   },
   "outputs": [
    {
     "data": {
      "text/html": [
       "<div style=\"max-height:1000px;max-width:1500px;overflow:auto;\">\n",
       "<table border=\"1\" class=\"dataframe\">\n",
       "  <thead>\n",
       "    <tr style=\"text-align: right;\">\n",
       "      <th></th>\n",
       "      <th>PassengerId</th>\n",
       "      <th>Survived</th>\n",
       "    </tr>\n",
       "  </thead>\n",
       "  <tbody>\n",
       "    <tr>\n",
       "      <th>0</th>\n",
       "      <td> 892</td>\n",
       "      <td> 0</td>\n",
       "    </tr>\n",
       "    <tr>\n",
       "      <th>1</th>\n",
       "      <td> 893</td>\n",
       "      <td> 0</td>\n",
       "    </tr>\n",
       "    <tr>\n",
       "      <th>2</th>\n",
       "      <td> 894</td>\n",
       "      <td> 0</td>\n",
       "    </tr>\n",
       "    <tr>\n",
       "      <th>3</th>\n",
       "      <td> 895</td>\n",
       "      <td> 0</td>\n",
       "    </tr>\n",
       "    <tr>\n",
       "      <th>4</th>\n",
       "      <td> 896</td>\n",
       "      <td> 0</td>\n",
       "    </tr>\n",
       "  </tbody>\n",
       "</table>\n",
       "</div>"
      ],
      "text/plain": [
       "   PassengerId  Survived\n",
       "0          892         0\n",
       "1          893         0\n",
       "2          894         0\n",
       "3          895         0\n",
       "4          896         0"
      ]
     },
     "execution_count": 391,
     "metadata": {},
     "output_type": "execute_result"
    }
   ],
   "source": [
    "result.head()"
   ]
  },
  {
   "cell_type": "code",
   "execution_count": 392,
   "metadata": {
    "collapsed": true
   },
   "outputs": [],
   "source": [
    "result.to_csv('logistic_regression_gender_try_result.csv',header=True,index=False)"
   ]
  },
  {
   "cell_type": "code",
   "execution_count": null,
   "metadata": {
    "collapsed": true
   },
   "outputs": [],
   "source": []
  },
  {
   "cell_type": "markdown",
   "metadata": {},
   "source": [
    "1. Creat three train data subsets: (1) with all features (2) without age (3) without age and Fare\n",
    "==="
   ]
  },
  {
   "cell_type": "code",
   "execution_count": 146,
   "metadata": {
    "collapsed": false
   },
   "outputs": [
    {
     "name": "stdout",
     "output_type": "stream",
     "text": [
      "(712, 9)\n",
      "(889, 8)\n",
      "(889, 7)\n",
      "(891, 12)\n"
     ]
    }
   ],
   "source": [
    "train1=train[['PassengerId','Pclass','Sex','Age','SibSp','Parch','Fare','Embarked','Survived']].copy()\n",
    "train2=train[['PassengerId','Pclass','Sex','SibSp','Parch','Fare','Embarked','Survived']].copy()\n",
    "train3=train[['PassengerId','Pclass','Sex','SibSp','Parch','Embarked','Survived']].copy()\n",
    "train1=train1.dropna()\n",
    "train2=train2.dropna()\n",
    "train3=train3.dropna()\n",
    "print train1.shape\n",
    "print train2.shape\n",
    "print train3.shape\n",
    "print train.shape"
   ]
  },
  {
   "cell_type": "code",
   "execution_count": 147,
   "metadata": {
    "collapsed": true
   },
   "outputs": [],
   "source": [
    "sex_dic={'male':0,'female':1}\n",
    "embarked_dic={'S':0,'C':1,'Q':2}\n",
    "def rename(df):\n",
    "    df['Sex']=map(lambda x: sex_dic[x],df['Sex'])\n",
    "    df['Embarked']=map(lambda x: embarked_dic[x],df['Embarked'])\n",
    "    return df\n",
    "train1=rename(train1)\n",
    "train2=rename(train2)\n",
    "train3=rename(train3)"
   ]
  },
  {
   "cell_type": "code",
   "execution_count": 148,
   "metadata": {
    "collapsed": false
   },
   "outputs": [
    {
     "name": "stdout",
     "output_type": "stream",
     "text": [
      "(477, 9)\n",
      "(235, 9)\n",
      "(595, 8)\n",
      "(294, 8)\n",
      "(595, 7)\n",
      "(294, 7)\n"
     ]
    }
   ],
   "source": [
    "sub_train1,sub_val1=sklearn.cross_validation.train_test_split(train1,test_size=0.33,random_state=99)\n",
    "sub_train1=pd.DataFrame(sub_train1)\n",
    "sub_train1.columns=train1.columns\n",
    "sub_val1=pd.DataFrame(sub_val1)\n",
    "sub_val1.columns=train1.columns\n",
    "print sub_train1.shape\n",
    "print sub_val1.shape\n",
    "\n",
    "sub_train2,sub_val2=sklearn.cross_validation.train_test_split(train2,test_size=0.33,random_state=99)\n",
    "sub_train2=pd.DataFrame(sub_train2)\n",
    "sub_train2.columns=train2.columns\n",
    "sub_val2=pd.DataFrame(sub_val2)\n",
    "sub_val2.columns=train2.columns\n",
    "print sub_train2.shape\n",
    "print sub_val2.shape\n",
    "\n",
    "sub_train3,sub_val3=sklearn.cross_validation.train_test_split(train3,test_size=0.33,random_state=99)\n",
    "sub_train3=pd.DataFrame(sub_train3)\n",
    "sub_train3.columns=train3.columns\n",
    "sub_val3=pd.DataFrame(sub_val3)\n",
    "sub_val3.columns=train3.columns\n",
    "print sub_train3.shape\n",
    "print sub_val3.shape"
   ]
  },
  {
   "cell_type": "markdown",
   "metadata": {},
   "source": [
    "2. Import test data and split into three subsets: test1,test2,test3\n",
    "==="
   ]
  },
  {
   "cell_type": "code",
   "execution_count": 149,
   "metadata": {
    "collapsed": false
   },
   "outputs": [
    {
     "name": "stdout",
     "output_type": "stream",
     "text": [
      "(418, 8)\n"
     ]
    },
    {
     "data": {
      "text/html": [
       "<div style=\"max-height:1000px;max-width:1500px;overflow:auto;\">\n",
       "<table border=\"1\" class=\"dataframe\">\n",
       "  <thead>\n",
       "    <tr style=\"text-align: right;\">\n",
       "      <th></th>\n",
       "      <th>PassengerId</th>\n",
       "      <th>Pclass</th>\n",
       "      <th>Sex</th>\n",
       "      <th>Age</th>\n",
       "      <th>SibSp</th>\n",
       "      <th>Parch</th>\n",
       "      <th>Fare</th>\n",
       "      <th>Embarked</th>\n",
       "    </tr>\n",
       "  </thead>\n",
       "  <tbody>\n",
       "    <tr>\n",
       "      <th>0</th>\n",
       "      <td> 892</td>\n",
       "      <td> 3</td>\n",
       "      <td>   male</td>\n",
       "      <td> 34.5</td>\n",
       "      <td> 0</td>\n",
       "      <td> 0</td>\n",
       "      <td>  7.8292</td>\n",
       "      <td> Q</td>\n",
       "    </tr>\n",
       "    <tr>\n",
       "      <th>1</th>\n",
       "      <td> 893</td>\n",
       "      <td> 3</td>\n",
       "      <td> female</td>\n",
       "      <td> 47.0</td>\n",
       "      <td> 1</td>\n",
       "      <td> 0</td>\n",
       "      <td>  7.0000</td>\n",
       "      <td> S</td>\n",
       "    </tr>\n",
       "    <tr>\n",
       "      <th>2</th>\n",
       "      <td> 894</td>\n",
       "      <td> 2</td>\n",
       "      <td>   male</td>\n",
       "      <td> 62.0</td>\n",
       "      <td> 0</td>\n",
       "      <td> 0</td>\n",
       "      <td>  9.6875</td>\n",
       "      <td> Q</td>\n",
       "    </tr>\n",
       "    <tr>\n",
       "      <th>3</th>\n",
       "      <td> 895</td>\n",
       "      <td> 3</td>\n",
       "      <td>   male</td>\n",
       "      <td> 27.0</td>\n",
       "      <td> 0</td>\n",
       "      <td> 0</td>\n",
       "      <td>  8.6625</td>\n",
       "      <td> S</td>\n",
       "    </tr>\n",
       "    <tr>\n",
       "      <th>4</th>\n",
       "      <td> 896</td>\n",
       "      <td> 3</td>\n",
       "      <td> female</td>\n",
       "      <td> 22.0</td>\n",
       "      <td> 1</td>\n",
       "      <td> 1</td>\n",
       "      <td> 12.2875</td>\n",
       "      <td> S</td>\n",
       "    </tr>\n",
       "  </tbody>\n",
       "</table>\n",
       "</div>"
      ],
      "text/plain": [
       "   PassengerId  Pclass     Sex   Age  SibSp  Parch     Fare Embarked\n",
       "0          892       3    male  34.5      0      0   7.8292        Q\n",
       "1          893       3  female  47.0      1      0   7.0000        S\n",
       "2          894       2    male  62.0      0      0   9.6875        Q\n",
       "3          895       3    male  27.0      0      0   8.6625        S\n",
       "4          896       3  female  22.0      1      1  12.2875        S"
      ]
     },
     "execution_count": 149,
     "metadata": {},
     "output_type": "execute_result"
    }
   ],
   "source": [
    "test=pd.read_csv('test.csv')\n",
    "test_sub=test[['PassengerId','Pclass','Sex','Age','SibSp','Parch','Fare','Embarked']].copy()\n",
    "print test_sub.shape\n",
    "test_sub.head()"
   ]
  },
  {
   "cell_type": "code",
   "execution_count": 150,
   "metadata": {
    "collapsed": false
   },
   "outputs": [
    {
     "name": "stderr",
     "output_type": "stream",
     "text": [
      "/anaconda/lib/python2.7/site-packages/IPython/kernel/__main__.py:4: SettingWithCopyWarning: \n",
      "A value is trying to be set on a copy of a slice from a DataFrame.\n",
      "Try using .loc[row_indexer,col_indexer] = value instead\n",
      "\n",
      "See the the caveats in the documentation: http://pandas.pydata.org/pandas-docs/stable/indexing.html#indexing-view-versus-copy\n",
      "/anaconda/lib/python2.7/site-packages/IPython/kernel/__main__.py:5: SettingWithCopyWarning: \n",
      "A value is trying to be set on a copy of a slice from a DataFrame.\n",
      "Try using .loc[row_indexer,col_indexer] = value instead\n",
      "\n",
      "See the the caveats in the documentation: http://pandas.pydata.org/pandas-docs/stable/indexing.html#indexing-view-versus-copy\n"
     ]
    },
    {
     "name": "stdout",
     "output_type": "stream",
     "text": [
      "(331, 8)\n"
     ]
    },
    {
     "data": {
      "text/html": [
       "<div style=\"max-height:1000px;max-width:1500px;overflow:auto;\">\n",
       "<table border=\"1\" class=\"dataframe\">\n",
       "  <thead>\n",
       "    <tr style=\"text-align: right;\">\n",
       "      <th></th>\n",
       "      <th>PassengerId</th>\n",
       "      <th>Pclass</th>\n",
       "      <th>Sex</th>\n",
       "      <th>Age</th>\n",
       "      <th>SibSp</th>\n",
       "      <th>Parch</th>\n",
       "      <th>Fare</th>\n",
       "      <th>Embarked</th>\n",
       "    </tr>\n",
       "  </thead>\n",
       "  <tbody>\n",
       "    <tr>\n",
       "      <th>0</th>\n",
       "      <td> 892</td>\n",
       "      <td> 3</td>\n",
       "      <td> 0</td>\n",
       "      <td> 34.5</td>\n",
       "      <td> 0</td>\n",
       "      <td> 0</td>\n",
       "      <td>  7.8292</td>\n",
       "      <td> 2</td>\n",
       "    </tr>\n",
       "    <tr>\n",
       "      <th>1</th>\n",
       "      <td> 893</td>\n",
       "      <td> 3</td>\n",
       "      <td> 1</td>\n",
       "      <td> 47.0</td>\n",
       "      <td> 1</td>\n",
       "      <td> 0</td>\n",
       "      <td>  7.0000</td>\n",
       "      <td> 0</td>\n",
       "    </tr>\n",
       "    <tr>\n",
       "      <th>2</th>\n",
       "      <td> 894</td>\n",
       "      <td> 2</td>\n",
       "      <td> 0</td>\n",
       "      <td> 62.0</td>\n",
       "      <td> 0</td>\n",
       "      <td> 0</td>\n",
       "      <td>  9.6875</td>\n",
       "      <td> 2</td>\n",
       "    </tr>\n",
       "    <tr>\n",
       "      <th>3</th>\n",
       "      <td> 895</td>\n",
       "      <td> 3</td>\n",
       "      <td> 0</td>\n",
       "      <td> 27.0</td>\n",
       "      <td> 0</td>\n",
       "      <td> 0</td>\n",
       "      <td>  8.6625</td>\n",
       "      <td> 0</td>\n",
       "    </tr>\n",
       "    <tr>\n",
       "      <th>4</th>\n",
       "      <td> 896</td>\n",
       "      <td> 3</td>\n",
       "      <td> 1</td>\n",
       "      <td> 22.0</td>\n",
       "      <td> 1</td>\n",
       "      <td> 1</td>\n",
       "      <td> 12.2875</td>\n",
       "      <td> 0</td>\n",
       "    </tr>\n",
       "  </tbody>\n",
       "</table>\n",
       "</div>"
      ],
      "text/plain": [
       "   PassengerId  Pclass  Sex   Age  SibSp  Parch     Fare  Embarked\n",
       "0          892       3    0  34.5      0      0   7.8292         2\n",
       "1          893       3    1  47.0      1      0   7.0000         0\n",
       "2          894       2    0  62.0      0      0   9.6875         2\n",
       "3          895       3    0  27.0      0      0   8.6625         0\n",
       "4          896       3    1  22.0      1      1  12.2875         0"
      ]
     },
     "execution_count": 150,
     "metadata": {},
     "output_type": "execute_result"
    }
   ],
   "source": [
    "test1=test_sub\n",
    "test1=test1.dropna()\n",
    "test1=rename(test1)\n",
    "print test1.shape\n",
    "test1.head()"
   ]
  },
  {
   "cell_type": "code",
   "execution_count": 151,
   "metadata": {
    "collapsed": false
   },
   "outputs": [
    {
     "name": "stdout",
     "output_type": "stream",
     "text": [
      "(87, 8)\n",
      "(86, 7)\n",
      "(1, 6)\n",
      "True\n"
     ]
    }
   ],
   "source": [
    "test_nan=test_sub[test_sub.isnull().any(axis=1)]\n",
    "print test_nan.shape\n",
    "\n",
    "test2=test_nan.drop('Age',axis=1)\n",
    "test2=test2.dropna()\n",
    "test2=rename(test2)\n",
    "print test2.shape\n",
    "\n",
    "test3=test_nan.drop('Age',axis=1)\n",
    "test3=test3[test3.isnull().any(axis=1)]\n",
    "test3=rename(test3)\n",
    "test3=test3.drop('Fare',axis=1)\n",
    "print test3.shape\n",
    "\n",
    "print test.shape[0]==test1.shape[0]+test2.shape[0]+test3.shape[0]"
   ]
  },
  {
   "cell_type": "code",
   "execution_count": 152,
   "metadata": {
    "collapsed": false
   },
   "outputs": [
    {
     "data": {
      "text/html": [
       "<div style=\"max-height:1000px;max-width:1500px;overflow:auto;\">\n",
       "<table border=\"1\" class=\"dataframe\">\n",
       "  <thead>\n",
       "    <tr style=\"text-align: right;\">\n",
       "      <th></th>\n",
       "      <th>PassengerId</th>\n",
       "      <th>Pclass</th>\n",
       "      <th>Sex</th>\n",
       "      <th>SibSp</th>\n",
       "      <th>Parch</th>\n",
       "      <th>Embarked</th>\n",
       "    </tr>\n",
       "  </thead>\n",
       "  <tbody>\n",
       "    <tr>\n",
       "      <th>152</th>\n",
       "      <td> 1044</td>\n",
       "      <td> 3</td>\n",
       "      <td> 0</td>\n",
       "      <td> 0</td>\n",
       "      <td> 0</td>\n",
       "      <td> 0</td>\n",
       "    </tr>\n",
       "  </tbody>\n",
       "</table>\n",
       "</div>"
      ],
      "text/plain": [
       "     PassengerId  Pclass  Sex  SibSp  Parch  Embarked\n",
       "152         1044       3    0      0      0         0"
      ]
     },
     "execution_count": 152,
     "metadata": {},
     "output_type": "execute_result"
    }
   ],
   "source": [
    "test3.head()"
   ]
  },
  {
   "cell_type": "markdown",
   "metadata": {},
   "source": [
    "3. Train the train data\n",
    "==="
   ]
  },
  {
   "cell_type": "code",
   "execution_count": 84,
   "metadata": {
    "collapsed": true
   },
   "outputs": [],
   "source": [
    "col=[['Pclass','Sex','Age','SibSp','Parch','Fare','Embarked','intercept'],\n",
    "      ['Pclass','Sex','SibSp','Parch','Fare','Embarked','intercept'],\n",
    "        ['Pclass','Sex','SibSp','Parch','Embarked','intercept']]\n",
    "def logistic_regression_train(train,i,col=col):\n",
    "    train['intercept']=1.0\n",
    "    cols=col[i-1]\n",
    "    logit=sm.Logit(train['Survived'],train[cols])\n",
    "    result=logit.fit()\n",
    "    paras=result.params\n",
    "    return paras"
   ]
  },
  {
   "cell_type": "markdown",
   "metadata": {},
   "source": [
    "(1) subset 1\n",
    "---"
   ]
  },
  {
   "cell_type": "code",
   "execution_count": 85,
   "metadata": {
    "collapsed": false
   },
   "outputs": [
    {
     "name": "stdout",
     "output_type": "stream",
     "text": [
      "Optimization terminated successfully.\n",
      "         Current function value: 0.459411\n",
      "         Iterations 6\n"
     ]
    },
    {
     "data": {
      "text/plain": [
       "Pclass      -1.192451\n",
       "Sex          2.322879\n",
       "Age         -0.043910\n",
       "SibSp       -0.403053\n",
       "Parch       -0.067766\n",
       "Fare         0.003065\n",
       "Embarked     0.421022\n",
       "intercept    2.686150\n",
       "dtype: float64"
      ]
     },
     "execution_count": 85,
     "metadata": {},
     "output_type": "execute_result"
    }
   ],
   "source": [
    "paras1=logistic_regression_train(sub_train1,1)\n",
    "paras1"
   ]
  },
  {
   "cell_type": "markdown",
   "metadata": {},
   "source": [
    "(2) subset 2\n",
    "---"
   ]
  },
  {
   "cell_type": "code",
   "execution_count": 86,
   "metadata": {
    "collapsed": false
   },
   "outputs": [
    {
     "name": "stdout",
     "output_type": "stream",
     "text": [
      "Optimization terminated successfully.\n",
      "         Current function value: 0.438216\n",
      "         Iterations 6\n"
     ]
    },
    {
     "data": {
      "text/plain": [
       "Pclass      -0.791641\n",
       "Sex          2.956908\n",
       "SibSp       -0.318009\n",
       "Parch        0.048062\n",
       "Fare         0.001972\n",
       "Embarked     0.122192\n",
       "intercept    0.269353\n",
       "dtype: float64"
      ]
     },
     "execution_count": 86,
     "metadata": {},
     "output_type": "execute_result"
    }
   ],
   "source": [
    "paras2=logistic_regression_train(sub_train2,2)\n",
    "paras2"
   ]
  },
  {
   "cell_type": "markdown",
   "metadata": {},
   "source": [
    "(3) subset 3\n",
    "--"
   ]
  },
  {
   "cell_type": "code",
   "execution_count": 87,
   "metadata": {
    "collapsed": false
   },
   "outputs": [
    {
     "name": "stdout",
     "output_type": "stream",
     "text": [
      "Optimization terminated successfully.\n",
      "         Current function value: 0.438620\n",
      "         Iterations 6\n"
     ]
    },
    {
     "data": {
      "text/plain": [
       "Pclass      -0.853969\n",
       "Sex          2.952507\n",
       "SibSp       -0.308715\n",
       "Parch        0.080249\n",
       "Embarked     0.142454\n",
       "intercept    0.447442\n",
       "dtype: float64"
      ]
     },
     "execution_count": 87,
     "metadata": {},
     "output_type": "execute_result"
    }
   ],
   "source": [
    "paras3=logistic_regression_train(sub_train3,3)\n",
    "paras3"
   ]
  },
  {
   "cell_type": "markdown",
   "metadata": {},
   "source": [
    "4. Validation and test\n",
    "==="
   ]
  },
  {
   "cell_type": "code",
   "execution_count": 129,
   "metadata": {
    "collapsed": true
   },
   "outputs": [],
   "source": [
    "from math import exp\n",
    "def probability(row,paras):\n",
    "    z=paras[len(paras)-1]\n",
    "    for i in np.arange(0,len(paras)-1):\n",
    "        z=z+row[i]*paras[i]\n",
    "    return 1/(1+exp(-1.0*z))"
   ]
  },
  {
   "cell_type": "markdown",
   "metadata": {},
   "source": [
    "(1) subset 1\n",
    "----"
   ]
  },
  {
   "cell_type": "code",
   "execution_count": 167,
   "metadata": {
    "collapsed": true
   },
   "outputs": [],
   "source": [
    "compare=sub_val1[['Pclass','Sex','Age','SibSp','Parch','Fare','Embarked']].copy()\n",
    "pred=[]\n",
    "for ii in np.arange(len(compare.Pclass)):\n",
    "    pred.append(probability(compare.iloc[ii],paras1))\n",
    "sub_val1['Pred']=pred"
   ]
  },
  {
   "cell_type": "markdown",
   "metadata": {},
   "source": [
    "*****\n",
    "compute confusion matrix with gender considered\n",
    "*****"
   ]
  },
  {
   "cell_type": "code",
   "execution_count": 168,
   "metadata": {
    "collapsed": false
   },
   "outputs": [],
   "source": [
    "temp=sub_val1[['Sex','Survived','Pred']].copy()\n",
    "tempmale=temp[temp['Sex']==0]\n",
    "tempfemale=temp[temp['Sex']==1]"
   ]
  },
  {
   "cell_type": "code",
   "execution_count": 169,
   "metadata": {
    "collapsed": true
   },
   "outputs": [],
   "source": [
    "def survive_cm(pp,df):\n",
    "    temp=df[['Survived','Pred']].copy()\n",
    "    temp['TF']=temp['Pred']>=pp\n",
    "    cm=sklearn.metrics.confusion_matrix(temp['Survived'],temp['TF'])\n",
    "    return cm"
   ]
  },
  {
   "cell_type": "code",
   "execution_count": 170,
   "metadata": {
    "collapsed": false
   },
   "outputs": [
    {
     "data": {
      "image/png": "[encoded data removed]",
      "text/plain": [
       "<matplotlib.figure.Figure at 0x1047fd550>"
      ]
     },
     "metadata": {},
     "output_type": "display_data"
    }
   ],
   "source": [
    "m1=[]\n",
    "xlist=np.linspace(0,1,1000)\n",
    "m1=map(lambda x: survive_cm(x,tempmale),xlist)\n",
    "m2=[]\n",
    "ylist=np.linspace(0,1,1000)\n",
    "m2=map(lambda x: survive_cm(x,tempfemale),ylist)\n",
    "\n",
    "mm=[]\n",
    "for ii in m1:\n",
    "    for jj in m2:\n",
    "        cm=ii+jj\n",
    "        mm.append((cm[0,0]+cm[1,1])*1.0/(cm[0,0]+cm[1,1]+cm[0,1]+cm[1,0]))\n",
    "        \n",
    "mmm=np.reshape(mm, (-1, len(xlist)))\n",
    "\n",
    "\n",
    "contour_levels = np.linspace(0,1,100)\n",
    "plt.contour(xlist,ylist,mmm,levels=contour_levels)\n",
    "plt.colorbar()\n",
    "plt.show()"
   ]
  },
  {
   "cell_type": "code",
   "execution_count": 171,
   "metadata": {
    "collapsed": false
   },
   "outputs": [],
   "source": [
    "matrix=np.asmatrix(mmm)\n",
    "#print matrix.argmax()\n",
    "#print matrix.argmax(0)\n",
    "#print matrix.argmax(1)\n",
    "ppm=xlist[677]\n",
    "ppf=xlist[521]"
   ]
  },
  {
   "cell_type": "code",
   "execution_count": 172,
   "metadata": {
    "collapsed": false
   },
   "outputs": [
    {
     "name": "stderr",
     "output_type": "stream",
     "text": [
      "/anaconda/lib/python2.7/site-packages/IPython/kernel/__main__.py:5: SettingWithCopyWarning: \n",
      "A value is trying to be set on a copy of a slice from a DataFrame.\n",
      "Try using .loc[row_indexer,col_indexer] = value instead\n",
      "\n",
      "See the the caveats in the documentation: http://pandas.pydata.org/pandas-docs/stable/indexing.html#indexing-view-versus-copy\n",
      "/anaconda/lib/python2.7/site-packages/IPython/kernel/__main__.py:8: SettingWithCopyWarning: \n",
      "A value is trying to be set on a copy of a slice from a DataFrame.\n",
      "Try using .loc[row_indexer,col_indexer] = value instead\n",
      "\n",
      "See the the caveats in the documentation: http://pandas.pydata.org/pandas-docs/stable/indexing.html#indexing-view-versus-copy\n",
      "/anaconda/lib/python2.7/site-packages/IPython/kernel/__main__.py:9: SettingWithCopyWarning: \n",
      "A value is trying to be set on a copy of a slice from a DataFrame.\n",
      "Try using .loc[row_indexer,col_indexer] = value instead\n",
      "\n",
      "See the the caveats in the documentation: http://pandas.pydata.org/pandas-docs/stable/indexing.html#indexing-view-versus-copy\n"
     ]
    }
   ],
   "source": [
    "compare=test1[['Pclass','Sex','Age','SibSp','Parch','Fare','Embarked']].copy()\n",
    "pred=[]\n",
    "for ii in np.arange(len(compare.Pclass)):\n",
    "    pred.append(probability(compare.iloc[ii],paras1))\n",
    "test1['Pred']=pred\n",
    "testmale=test1[test1['Sex']==0]\n",
    "testfemale=test1[test1['Sex']==1]\n",
    "testmale['Survived']=1*(testmale['Pred']>=ppm)\n",
    "testfemale['Survived']=1*(testfemale['Pred']>=ppf)\n",
    "test1=(pd.concat([testmale,testfemale])).sort('PassengerId')"
   ]
  },
  {
   "cell_type": "code",
   "execution_count": 173,
   "metadata": {
    "collapsed": false
   },
   "outputs": [
    {
     "data": {
      "text/html": [
       "<div style=\"max-height:1000px;max-width:1500px;overflow:auto;\">\n",
       "<table border=\"1\" class=\"dataframe\">\n",
       "  <thead>\n",
       "    <tr style=\"text-align: right;\">\n",
       "      <th></th>\n",
       "      <th>PassengerId</th>\n",
       "      <th>Pclass</th>\n",
       "      <th>Sex</th>\n",
       "      <th>Age</th>\n",
       "      <th>SibSp</th>\n",
       "      <th>Parch</th>\n",
       "      <th>Fare</th>\n",
       "      <th>Embarked</th>\n",
       "      <th>Pred</th>\n",
       "      <th>Survived</th>\n",
       "    </tr>\n",
       "  </thead>\n",
       "  <tbody>\n",
       "    <tr>\n",
       "      <th>0</th>\n",
       "      <td> 892</td>\n",
       "      <td> 3</td>\n",
       "      <td> 0</td>\n",
       "      <td> 34.5</td>\n",
       "      <td> 0</td>\n",
       "      <td> 0</td>\n",
       "      <td>  7.8292</td>\n",
       "      <td> 2</td>\n",
       "      <td> 0.176525</td>\n",
       "      <td> 0</td>\n",
       "    </tr>\n",
       "    <tr>\n",
       "      <th>1</th>\n",
       "      <td> 893</td>\n",
       "      <td> 3</td>\n",
       "      <td> 1</td>\n",
       "      <td> 47.0</td>\n",
       "      <td> 1</td>\n",
       "      <td> 0</td>\n",
       "      <td>  7.0000</td>\n",
       "      <td> 0</td>\n",
       "      <td> 0.266255</td>\n",
       "      <td> 0</td>\n",
       "    </tr>\n",
       "    <tr>\n",
       "      <th>2</th>\n",
       "      <td> 894</td>\n",
       "      <td> 2</td>\n",
       "      <td> 0</td>\n",
       "      <td> 62.0</td>\n",
       "      <td> 0</td>\n",
       "      <td> 0</td>\n",
       "      <td>  9.6875</td>\n",
       "      <td> 2</td>\n",
       "      <td> 0.175165</td>\n",
       "      <td> 0</td>\n",
       "    </tr>\n",
       "    <tr>\n",
       "      <th>3</th>\n",
       "      <td> 895</td>\n",
       "      <td> 3</td>\n",
       "      <td> 0</td>\n",
       "      <td> 27.0</td>\n",
       "      <td> 0</td>\n",
       "      <td> 0</td>\n",
       "      <td>  8.6625</td>\n",
       "      <td> 0</td>\n",
       "      <td> 0.114029</td>\n",
       "      <td> 0</td>\n",
       "    </tr>\n",
       "    <tr>\n",
       "      <th>4</th>\n",
       "      <td> 896</td>\n",
       "      <td> 3</td>\n",
       "      <td> 1</td>\n",
       "      <td> 22.0</td>\n",
       "      <td> 1</td>\n",
       "      <td> 1</td>\n",
       "      <td> 12.2875</td>\n",
       "      <td> 0</td>\n",
       "      <td> 0.508121</td>\n",
       "      <td> 0</td>\n",
       "    </tr>\n",
       "  </tbody>\n",
       "</table>\n",
       "</div>"
      ],
      "text/plain": [
       "   PassengerId  Pclass  Sex   Age  SibSp  Parch     Fare  Embarked      Pred  \\\n",
       "0          892       3    0  34.5      0      0   7.8292         2  0.176525   \n",
       "1          893       3    1  47.0      1      0   7.0000         0  0.266255   \n",
       "2          894       2    0  62.0      0      0   9.6875         2  0.175165   \n",
       "3          895       3    0  27.0      0      0   8.6625         0  0.114029   \n",
       "4          896       3    1  22.0      1      1  12.2875         0  0.508121   \n",
       "\n",
       "   Survived  \n",
       "0         0  \n",
       "1         0  \n",
       "2         0  \n",
       "3         0  \n",
       "4         0  "
      ]
     },
     "execution_count": 173,
     "metadata": {},
     "output_type": "execute_result"
    }
   ],
   "source": [
    "test1.head()"
   ]
  },
  {
   "cell_type": "markdown",
   "metadata": {},
   "source": [
    "(2) subset 2\n",
    "---"
   ]
  },
  {
   "cell_type": "code",
   "execution_count": 174,
   "metadata": {
    "collapsed": false
   },
   "outputs": [
    {
     "data": {
      "image/png": "[encoded data removed]",
      "text/plain": [
       "<matplotlib.figure.Figure at 0x10cd52e50>"
      ]
     },
     "metadata": {},
     "output_type": "display_data"
    }
   ],
   "source": [
    "compare=sub_val2[['Pclass','Sex','SibSp','Parch','Fare','Embarked']].copy()\n",
    "pred=[]\n",
    "for ii in np.arange(len(compare.Pclass)):\n",
    "    pred.append(probability(compare.iloc[ii],paras2))\n",
    "sub_val2['Pred']=pred\n",
    "\n",
    "temp=sub_val2[['Sex','Survived','Pred']].copy()\n",
    "tempmale=temp[temp['Sex']==0]\n",
    "tempfemale=temp[temp['Sex']==1]\n",
    "\n",
    "m1=[]\n",
    "xlist=np.linspace(0,1,1000)\n",
    "m1=map(lambda x: survive_cm(x,tempmale),xlist)\n",
    "m2=[]\n",
    "ylist=np.linspace(0,1,1000)\n",
    "m2=map(lambda x: survive_cm(x,tempfemale),ylist)\n",
    "\n",
    "mm=[]\n",
    "for ii in m1:\n",
    "    for jj in m2:\n",
    "        cm=ii+jj\n",
    "        mm.append((cm[0,0]+cm[1,1])*1.0/(cm[0,0]+cm[1,1]+cm[0,1]+cm[1,0]))\n",
    "        \n",
    "mmm=np.reshape(mm, (-1, len(xlist)))\n",
    "\n",
    "\n",
    "contour_levels = np.linspace(0,1,100)\n",
    "plt.contour(xlist,ylist,mmm,levels=contour_levels)\n",
    "plt.colorbar()\n",
    "plt.show()"
   ]
  },
  {
   "cell_type": "code",
   "execution_count": 175,
   "metadata": {
    "collapsed": false
   },
   "outputs": [],
   "source": [
    "matrix=np.asmatrix(mmm)\n",
    "#print matrix.argmax()\n",
    "#print matrix.argmax(0)\n",
    "#print matrix.argmax(1)\n",
    "ppm=xlist[443]\n",
    "ppf=xlist[747]"
   ]
  },
  {
   "cell_type": "code",
   "execution_count": 176,
   "metadata": {
    "collapsed": false
   },
   "outputs": [
    {
     "name": "stderr",
     "output_type": "stream",
     "text": [
      "/anaconda/lib/python2.7/site-packages/IPython/kernel/__main__.py:8: SettingWithCopyWarning: \n",
      "A value is trying to be set on a copy of a slice from a DataFrame.\n",
      "Try using .loc[row_indexer,col_indexer] = value instead\n",
      "\n",
      "See the the caveats in the documentation: http://pandas.pydata.org/pandas-docs/stable/indexing.html#indexing-view-versus-copy\n",
      "/anaconda/lib/python2.7/site-packages/IPython/kernel/__main__.py:9: SettingWithCopyWarning: \n",
      "A value is trying to be set on a copy of a slice from a DataFrame.\n",
      "Try using .loc[row_indexer,col_indexer] = value instead\n",
      "\n",
      "See the the caveats in the documentation: http://pandas.pydata.org/pandas-docs/stable/indexing.html#indexing-view-versus-copy\n"
     ]
    }
   ],
   "source": [
    "compare=test2[['Pclass','Sex','SibSp','Parch','Fare','Embarked']].copy()\n",
    "pred=[]\n",
    "for ii in np.arange(len(compare.Pclass)):\n",
    "    pred.append(probability(compare.iloc[ii],paras2))\n",
    "test2['Pred']=pred\n",
    "testmale=test2[test2['Sex']==0]\n",
    "testfemale=test2[test2['Sex']==1]\n",
    "testmale['Survived']=1*(testmale['Pred']>=ppm)\n",
    "testfemale['Survived']=1*(testfemale['Pred']>=ppf)\n",
    "test2=(pd.concat([testmale,testfemale])).sort('PassengerId')"
   ]
  },
  {
   "cell_type": "code",
   "execution_count": 177,
   "metadata": {
    "collapsed": false
   },
   "outputs": [
    {
     "data": {
      "text/html": [
       "<div style=\"max-height:1000px;max-width:1500px;overflow:auto;\">\n",
       "<table border=\"1\" class=\"dataframe\">\n",
       "  <thead>\n",
       "    <tr style=\"text-align: right;\">\n",
       "      <th></th>\n",
       "      <th>PassengerId</th>\n",
       "      <th>Pclass</th>\n",
       "      <th>Sex</th>\n",
       "      <th>SibSp</th>\n",
       "      <th>Parch</th>\n",
       "      <th>Fare</th>\n",
       "      <th>Embarked</th>\n",
       "      <th>Pred</th>\n",
       "      <th>Survived</th>\n",
       "    </tr>\n",
       "  </thead>\n",
       "  <tbody>\n",
       "    <tr>\n",
       "      <th>10</th>\n",
       "      <td> 902</td>\n",
       "      <td> 3</td>\n",
       "      <td> 0</td>\n",
       "      <td> 0</td>\n",
       "      <td> 0</td>\n",
       "      <td>  7.8958</td>\n",
       "      <td> 0</td>\n",
       "      <td> 0.110073</td>\n",
       "      <td> 0</td>\n",
       "    </tr>\n",
       "    <tr>\n",
       "      <th>22</th>\n",
       "      <td> 914</td>\n",
       "      <td> 1</td>\n",
       "      <td> 1</td>\n",
       "      <td> 0</td>\n",
       "      <td> 0</td>\n",
       "      <td> 31.6833</td>\n",
       "      <td> 0</td>\n",
       "      <td> 0.923938</td>\n",
       "      <td> 1</td>\n",
       "    </tr>\n",
       "    <tr>\n",
       "      <th>29</th>\n",
       "      <td> 921</td>\n",
       "      <td> 3</td>\n",
       "      <td> 0</td>\n",
       "      <td> 2</td>\n",
       "      <td> 0</td>\n",
       "      <td> 21.6792</td>\n",
       "      <td> 1</td>\n",
       "      <td> 0.070657</td>\n",
       "      <td> 0</td>\n",
       "    </tr>\n",
       "    <tr>\n",
       "      <th>33</th>\n",
       "      <td> 925</td>\n",
       "      <td> 3</td>\n",
       "      <td> 1</td>\n",
       "      <td> 1</td>\n",
       "      <td> 2</td>\n",
       "      <td> 23.4500</td>\n",
       "      <td> 0</td>\n",
       "      <td> 0.662778</td>\n",
       "      <td> 0</td>\n",
       "    </tr>\n",
       "    <tr>\n",
       "      <th>36</th>\n",
       "      <td> 928</td>\n",
       "      <td> 3</td>\n",
       "      <td> 1</td>\n",
       "      <td> 0</td>\n",
       "      <td> 0</td>\n",
       "      <td>  8.0500</td>\n",
       "      <td> 0</td>\n",
       "      <td> 0.704166</td>\n",
       "      <td> 0</td>\n",
       "    </tr>\n",
       "  </tbody>\n",
       "</table>\n",
       "</div>"
      ],
      "text/plain": [
       "    PassengerId  Pclass  Sex  SibSp  Parch     Fare  Embarked      Pred  \\\n",
       "10          902       3    0      0      0   7.8958         0  0.110073   \n",
       "22          914       1    1      0      0  31.6833         0  0.923938   \n",
       "29          921       3    0      2      0  21.6792         1  0.070657   \n",
       "33          925       3    1      1      2  23.4500         0  0.662778   \n",
       "36          928       3    1      0      0   8.0500         0  0.704166   \n",
       "\n",
       "    Survived  \n",
       "10         0  \n",
       "22         1  \n",
       "29         0  \n",
       "33         0  \n",
       "36         0  "
      ]
     },
     "execution_count": 177,
     "metadata": {},
     "output_type": "execute_result"
    }
   ],
   "source": [
    "test2.head()"
   ]
  },
  {
   "cell_type": "markdown",
   "metadata": {},
   "source": [
    "(3) subset 3\n",
    "---"
   ]
  },
  {
   "cell_type": "code",
   "execution_count": 178,
   "metadata": {
    "collapsed": false
   },
   "outputs": [
    {
     "data": {
      "image/png": "[encoded data removed]",
      "text/plain": [
       "<matplotlib.figure.Figure at 0x10edc3810>"
      ]
     },
     "metadata": {},
     "output_type": "display_data"
    }
   ],
   "source": [
    "compare=sub_val3[['Pclass','Sex','SibSp','Parch','Embarked']].copy()\n",
    "pred=[]\n",
    "for ii in np.arange(len(compare.Pclass)):\n",
    "    pred.append(probability(compare.iloc[ii],paras3))\n",
    "sub_val3['Pred']=pred\n",
    "\n",
    "temp=sub_val3[['Sex','Survived','Pred']].copy()\n",
    "tempmale=temp[temp['Sex']==0]\n",
    "tempfemale=temp[temp['Sex']==1]\n",
    "\n",
    "m1=[]\n",
    "xlist=np.linspace(0,1,1000)\n",
    "m1=map(lambda x: survive_cm(x,tempmale),xlist)\n",
    "m2=[]\n",
    "ylist=np.linspace(0,1,1000)\n",
    "m2=map(lambda x: survive_cm(x,tempfemale),ylist)\n",
    "\n",
    "mm=[]\n",
    "for ii in m1:\n",
    "    for jj in m2:\n",
    "        cm=ii+jj\n",
    "        mm.append((cm[0,0]+cm[1,1])*1.0/(cm[0,0]+cm[1,1]+cm[0,1]+cm[1,0]))\n",
    "        \n",
    "mmm=np.reshape(mm, (-1, len(xlist)))\n",
    "\n",
    "\n",
    "contour_levels = np.linspace(0,1,100)\n",
    "plt.contour(xlist,ylist,mmm,levels=contour_levels)\n",
    "plt.colorbar()\n",
    "plt.show()"
   ]
  },
  {
   "cell_type": "code",
   "execution_count": 179,
   "metadata": {
    "collapsed": false
   },
   "outputs": [],
   "source": [
    "matrix=np.asmatrix(mmm)\n",
    "#print matrix.argmax()\n",
    "#print matrix.argmax(0)\n",
    "#print matrix.argmax(1)\n",
    "ppm=xlist[454]\n",
    "ppf=xlist[743]"
   ]
  },
  {
   "cell_type": "code",
   "execution_count": 180,
   "metadata": {
    "collapsed": true
   },
   "outputs": [],
   "source": [
    "compare=test3[['Pclass','Sex','SibSp','Parch','Embarked']].copy()\n",
    "pred=[]\n",
    "for ii in np.arange(len(compare.Pclass)):\n",
    "    pred.append(probability(compare.iloc[ii],paras3))\n",
    "test3['Pred']=pred\n",
    "testmale=test3[test3['Sex']==0]\n",
    "testfemale=test3[test3['Sex']==1]\n",
    "testmale['Survived']=1*(testmale['Pred']>=ppm)\n",
    "testfemale['Survived']=1*(testfemale['Pred']>=ppf)\n",
    "test3=(pd.concat([testmale,testfemale])).sort('PassengerId')"
   ]
  },
  {
   "cell_type": "code",
   "execution_count": 181,
   "metadata": {
    "collapsed": false
   },
   "outputs": [
    {
     "data": {
      "text/html": [
       "<div style=\"max-height:1000px;max-width:1500px;overflow:auto;\">\n",
       "<table border=\"1\" class=\"dataframe\">\n",
       "  <thead>\n",
       "    <tr style=\"text-align: right;\">\n",
       "      <th></th>\n",
       "      <th>PassengerId</th>\n",
       "      <th>Pclass</th>\n",
       "      <th>Sex</th>\n",
       "      <th>SibSp</th>\n",
       "      <th>Parch</th>\n",
       "      <th>Embarked</th>\n",
       "      <th>Pred</th>\n",
       "      <th>Survived</th>\n",
       "    </tr>\n",
       "  </thead>\n",
       "  <tbody>\n",
       "    <tr>\n",
       "      <th>152</th>\n",
       "      <td> 1044</td>\n",
       "      <td> 3</td>\n",
       "      <td> 0</td>\n",
       "      <td> 0</td>\n",
       "      <td> 0</td>\n",
       "      <td> 0</td>\n",
       "      <td> 0.107699</td>\n",
       "      <td> 0</td>\n",
       "    </tr>\n",
       "  </tbody>\n",
       "</table>\n",
       "</div>"
      ],
      "text/plain": [
       "     PassengerId  Pclass  Sex  SibSp  Parch  Embarked      Pred  Survived\n",
       "152         1044       3    0      0      0         0  0.107699         0"
      ]
     },
     "execution_count": 181,
     "metadata": {},
     "output_type": "execute_result"
    }
   ],
   "source": [
    "test3.head()"
   ]
  },
  {
   "cell_type": "markdown",
   "metadata": {},
   "source": [
    "5.Results\n",
    "==="
   ]
  },
  {
   "cell_type": "code",
   "execution_count": 182,
   "metadata": {
    "collapsed": false
   },
   "outputs": [],
   "source": [
    "result1=test1[['PassengerId','Survived']].copy()\n",
    "result2=test2[['PassengerId','Survived']].copy()\n",
    "result3=test3[['PassengerId','Survived']].copy()"
   ]
  },
  {
   "cell_type": "code",
   "execution_count": 183,
   "metadata": {
    "collapsed": true
   },
   "outputs": [],
   "source": [
    "frames=[result1,result2,result3]\n",
    "results=pd.concat(frames)"
   ]
  },
  {
   "cell_type": "code",
   "execution_count": 123,
   "metadata": {
    "collapsed": true
   },
   "outputs": [],
   "source": [
    "results=test[['PassengerId','Survived']].copy()"
   ]
  },
  {
   "cell_type": "code",
   "execution_count": 126,
   "metadata": {
    "collapsed": false
   },
   "outputs": [
    {
     "data": {
      "text/html": [
       "<div style=\"max-height:1000px;max-width:1500px;overflow:auto;\">\n",
       "<table border=\"1\" class=\"dataframe\">\n",
       "  <thead>\n",
       "    <tr style=\"text-align: right;\">\n",
       "      <th></th>\n",
       "      <th>PassengerId</th>\n",
       "      <th>Survived</th>\n",
       "    </tr>\n",
       "  </thead>\n",
       "  <tbody>\n",
       "    <tr>\n",
       "      <th>0</th>\n",
       "      <td> 892</td>\n",
       "      <td> 0</td>\n",
       "    </tr>\n",
       "    <tr>\n",
       "      <th>1</th>\n",
       "      <td> 893</td>\n",
       "      <td> 0</td>\n",
       "    </tr>\n",
       "    <tr>\n",
       "      <th>2</th>\n",
       "      <td> 894</td>\n",
       "      <td> 1</td>\n",
       "    </tr>\n",
       "    <tr>\n",
       "      <th>3</th>\n",
       "      <td> 895</td>\n",
       "      <td> 1</td>\n",
       "    </tr>\n",
       "    <tr>\n",
       "      <th>4</th>\n",
       "      <td> 896</td>\n",
       "      <td> 0</td>\n",
       "    </tr>\n",
       "  </tbody>\n",
       "</table>\n",
       "</div>"
      ],
      "text/plain": [
       "   PassengerId  Survived\n",
       "0          892         0\n",
       "1          893         0\n",
       "2          894         1\n",
       "3          895         1\n",
       "4          896         0"
      ]
     },
     "execution_count": 126,
     "metadata": {},
     "output_type": "execute_result"
    }
   ],
   "source": [
    "results.head()"
   ]
  },
  {
   "cell_type": "code",
   "execution_count": 130,
   "metadata": {
    "collapsed": false
   },
   "outputs": [],
   "source": [
    "results=results.astype(int32)"
   ]
  },
  {
   "cell_type": "code",
   "execution_count": 131,
   "metadata": {
    "collapsed": false
   },
   "outputs": [
    {
     "data": {
      "text/plain": [
       "PassengerId    int32\n",
       "Survived       int32\n",
       "dtype: object"
      ]
     },
     "execution_count": 131,
     "metadata": {},
     "output_type": "execute_result"
    }
   ],
   "source": [
    "results.dtypes"
   ]
  },
  {
   "cell_type": "code",
   "execution_count": 132,
   "metadata": {
    "collapsed": true
   },
   "outputs": [],
   "source": [
    "results.to_csv('svm2.csv',header=True,index=False)"
   ]
  },
  {
   "cell_type": "code",
   "execution_count": 186,
   "metadata": {
    "collapsed": true
   },
   "outputs": [],
   "source": [
    "results.to_csv('logistic_regression_gender_result.csv',header=True,index=False)"
   ]
  },
  {
   "cell_type": "code",
   "execution_count": null,
   "metadata": {
    "collapsed": true
   },
   "outputs": [],
   "source": [
    "ht"
   ]
  }
 ],
 "metadata": {
  "kernelspec": {
   "display_name": "Python 2",
   "language": "python",
   "name": "python2"
  },
  "language_info": {
   "codemirror_mode": {
    "name": "ipython",
    "version": 2
   },
   "file_extension": ".py",
   "mimetype": "text/x-python",
   "name": "python",
   "nbconvert_exporter": "python",
   "pygments_lexer": "ipython2",
   "version": "2.7.10"
  }
 },
 "nbformat": 4,
 "nbformat_minor": 0
}
