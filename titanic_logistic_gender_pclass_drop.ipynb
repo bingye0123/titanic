{
 "cells": [
  {
   "cell_type": "code",
   "execution_count": 38,
   "metadata": {
    "collapsed": false
   },
   "outputs": [
    {
     "name": "stdout",
     "output_type": "stream",
     "text": [
      "Populating the interactive namespace from numpy and matplotlib\n"
     ]
    }
   ],
   "source": [
    "import requests\n",
    "import numpy as np\n",
    "import pandas as pd\n",
    "import sklearn.ensemble as sk\n",
    "import sklearn\n",
    "import statsmodels.api as sm\n",
    "import matplotlib.pyplot as plt\n",
    "%matplotlib inline\n",
    "%pylab inline"
   ]
  },
  {
   "cell_type": "code",
   "execution_count": 39,
   "metadata": {
    "collapsed": false
   },
   "outputs": [
    {
     "data": {
      "text/html": [
       "<div style=\"max-height:1000px;max-width:1500px;overflow:auto;\">\n",
       "<table border=\"1\" class=\"dataframe\">\n",
       "  <thead>\n",
       "    <tr style=\"text-align: right;\">\n",
       "      <th></th>\n",
       "      <th>PassengerId</th>\n",
       "      <th>Survived</th>\n",
       "      <th>Pclass</th>\n",
       "      <th>Name</th>\n",
       "      <th>Sex</th>\n",
       "      <th>Age</th>\n",
       "      <th>SibSp</th>\n",
       "      <th>Parch</th>\n",
       "      <th>Ticket</th>\n",
       "      <th>Fare</th>\n",
       "      <th>Cabin</th>\n",
       "      <th>Embarked</th>\n",
       "    </tr>\n",
       "  </thead>\n",
       "  <tbody>\n",
       "    <tr>\n",
       "      <th>0</th>\n",
       "      <td> 1</td>\n",
       "      <td> 0</td>\n",
       "      <td> 3</td>\n",
       "      <td>                           Braund, Mr. Owen Harris</td>\n",
       "      <td>   male</td>\n",
       "      <td> 22</td>\n",
       "      <td> 1</td>\n",
       "      <td> 0</td>\n",
       "      <td>        A/5 21171</td>\n",
       "      <td>  7.2500</td>\n",
       "      <td>  NaN</td>\n",
       "      <td> S</td>\n",
       "    </tr>\n",
       "    <tr>\n",
       "      <th>1</th>\n",
       "      <td> 2</td>\n",
       "      <td> 1</td>\n",
       "      <td> 1</td>\n",
       "      <td> Cumings, Mrs. John Bradley (Florence Briggs Th...</td>\n",
       "      <td> female</td>\n",
       "      <td> 38</td>\n",
       "      <td> 1</td>\n",
       "      <td> 0</td>\n",
       "      <td>         PC 17599</td>\n",
       "      <td> 71.2833</td>\n",
       "      <td>  C85</td>\n",
       "      <td> C</td>\n",
       "    </tr>\n",
       "    <tr>\n",
       "      <th>2</th>\n",
       "      <td> 3</td>\n",
       "      <td> 1</td>\n",
       "      <td> 3</td>\n",
       "      <td>                            Heikkinen, Miss. Laina</td>\n",
       "      <td> female</td>\n",
       "      <td> 26</td>\n",
       "      <td> 0</td>\n",
       "      <td> 0</td>\n",
       "      <td> STON/O2. 3101282</td>\n",
       "      <td>  7.9250</td>\n",
       "      <td>  NaN</td>\n",
       "      <td> S</td>\n",
       "    </tr>\n",
       "    <tr>\n",
       "      <th>3</th>\n",
       "      <td> 4</td>\n",
       "      <td> 1</td>\n",
       "      <td> 1</td>\n",
       "      <td>      Futrelle, Mrs. Jacques Heath (Lily May Peel)</td>\n",
       "      <td> female</td>\n",
       "      <td> 35</td>\n",
       "      <td> 1</td>\n",
       "      <td> 0</td>\n",
       "      <td>           113803</td>\n",
       "      <td> 53.1000</td>\n",
       "      <td> C123</td>\n",
       "      <td> S</td>\n",
       "    </tr>\n",
       "    <tr>\n",
       "      <th>4</th>\n",
       "      <td> 5</td>\n",
       "      <td> 0</td>\n",
       "      <td> 3</td>\n",
       "      <td>                          Allen, Mr. William Henry</td>\n",
       "      <td>   male</td>\n",
       "      <td> 35</td>\n",
       "      <td> 0</td>\n",
       "      <td> 0</td>\n",
       "      <td>           373450</td>\n",
       "      <td>  8.0500</td>\n",
       "      <td>  NaN</td>\n",
       "      <td> S</td>\n",
       "    </tr>\n",
       "  </tbody>\n",
       "</table>\n",
       "</div>"
      ],
      "text/plain": [
       "   PassengerId  Survived  Pclass  \\\n",
       "0            1         0       3   \n",
       "1            2         1       1   \n",
       "2            3         1       3   \n",
       "3            4         1       1   \n",
       "4            5         0       3   \n",
       "\n",
       "                                                Name     Sex  Age  SibSp  \\\n",
       "0                            Braund, Mr. Owen Harris    male   22      1   \n",
       "1  Cumings, Mrs. John Bradley (Florence Briggs Th...  female   38      1   \n",
       "2                             Heikkinen, Miss. Laina  female   26      0   \n",
       "3       Futrelle, Mrs. Jacques Heath (Lily May Peel)  female   35      1   \n",
       "4                           Allen, Mr. William Henry    male   35      0   \n",
       "\n",
       "   Parch            Ticket     Fare Cabin Embarked  \n",
       "0      0         A/5 21171   7.2500   NaN        S  \n",
       "1      0          PC 17599  71.2833   C85        C  \n",
       "2      0  STON/O2. 3101282   7.9250   NaN        S  \n",
       "3      0            113803  53.1000  C123        S  \n",
       "4      0            373450   8.0500   NaN        S  "
      ]
     },
     "execution_count": 39,
     "metadata": {},
     "output_type": "execute_result"
    }
   ],
   "source": [
    "train=pd.read_csv('train.csv')\n",
    "train.head()"
   ]
  },
  {
   "cell_type": "markdown",
   "metadata": {},
   "source": [
    "1. Creat three train data subsets: (1) with all features (2) without age (3) without age and Fare\n",
    "==="
   ]
  },
  {
   "cell_type": "code",
   "execution_count": 40,
   "metadata": {
    "collapsed": false
   },
   "outputs": [
    {
     "name": "stdout",
     "output_type": "stream",
     "text": [
      "(714, 7)\n",
      "(891, 6)\n",
      "(891, 5)\n",
      "(891, 12)\n"
     ]
    }
   ],
   "source": [
    "train1=train[['PassengerId','Pclass','Sex','Age','SibSp','Fare','Survived']].copy()\n",
    "train2=train[['PassengerId','Pclass','Sex','SibSp','Fare','Survived']].copy()\n",
    "train3=train[['PassengerId','Pclass','Sex','SibSp','Survived']].copy()\n",
    "train1=train1.dropna()\n",
    "train2=train2.dropna()\n",
    "train3=train3.dropna()\n",
    "print train1.shape\n",
    "print train2.shape\n",
    "print train3.shape\n",
    "print train.shape"
   ]
  },
  {
   "cell_type": "code",
   "execution_count": 41,
   "metadata": {
    "collapsed": false
   },
   "outputs": [],
   "source": [
    "sex_dic={'male':0,'female':1}\n",
    "embarked_dic={'S':0,'C':1,'Q':2}\n",
    "def rename(df):\n",
    "    df['Sex']=map(lambda x: sex_dic[x],df['Sex'])\n",
    "    #df['Embarked']=map(lambda x: embarked_dic[x],df['Embarked'])\n",
    "    return df\n",
    "train1=rename(train1)\n",
    "train2=rename(train2)\n",
    "train3=rename(train3)"
   ]
  },
  {
   "cell_type": "code",
   "execution_count": 42,
   "metadata": {
    "collapsed": false
   },
   "outputs": [
    {
     "name": "stdout",
     "output_type": "stream",
     "text": [
      "(478, 7)\n",
      "(236, 7)\n",
      "(596, 6)\n",
      "(295, 6)\n",
      "(596, 5)\n",
      "(295, 5)\n"
     ]
    }
   ],
   "source": [
    "sub_train1,sub_val1=sklearn.cross_validation.train_test_split(train1,test_size=0.33,random_state=99)\n",
    "sub_train1=pd.DataFrame(sub_train1)\n",
    "sub_train1.columns=train1.columns\n",
    "sub_val1=pd.DataFrame(sub_val1)\n",
    "sub_val1.columns=train1.columns\n",
    "print sub_train1.shape\n",
    "print sub_val1.shape\n",
    "\n",
    "sub_train2,sub_val2=sklearn.cross_validation.train_test_split(train2,test_size=0.33,random_state=99)\n",
    "sub_train2=pd.DataFrame(sub_train2)\n",
    "sub_train2.columns=train2.columns\n",
    "sub_val2=pd.DataFrame(sub_val2)\n",
    "sub_val2.columns=train2.columns\n",
    "print sub_train2.shape\n",
    "print sub_val2.shape\n",
    "\n",
    "sub_train3,sub_val3=sklearn.cross_validation.train_test_split(train3,test_size=0.33,random_state=99)\n",
    "sub_train3=pd.DataFrame(sub_train3)\n",
    "sub_train3.columns=train3.columns\n",
    "sub_val3=pd.DataFrame(sub_val3)\n",
    "sub_val3.columns=train3.columns\n",
    "print sub_train3.shape\n",
    "print sub_val3.shape"
   ]
  },
  {
   "cell_type": "markdown",
   "metadata": {},
   "source": [
    "2. Import test data and split into three subsets: test1,test2,test3\n",
    "==="
   ]
  },
  {
   "cell_type": "code",
   "execution_count": 43,
   "metadata": {
    "collapsed": false
   },
   "outputs": [
    {
     "name": "stdout",
     "output_type": "stream",
     "text": [
      "(418, 6)\n"
     ]
    },
    {
     "data": {
      "text/html": [
       "<div style=\"max-height:1000px;max-width:1500px;overflow:auto;\">\n",
       "<table border=\"1\" class=\"dataframe\">\n",
       "  <thead>\n",
       "    <tr style=\"text-align: right;\">\n",
       "      <th></th>\n",
       "      <th>PassengerId</th>\n",
       "      <th>Pclass</th>\n",
       "      <th>Sex</th>\n",
       "      <th>Age</th>\n",
       "      <th>SibSp</th>\n",
       "      <th>Fare</th>\n",
       "    </tr>\n",
       "  </thead>\n",
       "  <tbody>\n",
       "    <tr>\n",
       "      <th>0</th>\n",
       "      <td> 892</td>\n",
       "      <td> 3</td>\n",
       "      <td>   male</td>\n",
       "      <td> 34.5</td>\n",
       "      <td> 0</td>\n",
       "      <td>  7.8292</td>\n",
       "    </tr>\n",
       "    <tr>\n",
       "      <th>1</th>\n",
       "      <td> 893</td>\n",
       "      <td> 3</td>\n",
       "      <td> female</td>\n",
       "      <td> 47.0</td>\n",
       "      <td> 1</td>\n",
       "      <td>  7.0000</td>\n",
       "    </tr>\n",
       "    <tr>\n",
       "      <th>2</th>\n",
       "      <td> 894</td>\n",
       "      <td> 2</td>\n",
       "      <td>   male</td>\n",
       "      <td> 62.0</td>\n",
       "      <td> 0</td>\n",
       "      <td>  9.6875</td>\n",
       "    </tr>\n",
       "    <tr>\n",
       "      <th>3</th>\n",
       "      <td> 895</td>\n",
       "      <td> 3</td>\n",
       "      <td>   male</td>\n",
       "      <td> 27.0</td>\n",
       "      <td> 0</td>\n",
       "      <td>  8.6625</td>\n",
       "    </tr>\n",
       "    <tr>\n",
       "      <th>4</th>\n",
       "      <td> 896</td>\n",
       "      <td> 3</td>\n",
       "      <td> female</td>\n",
       "      <td> 22.0</td>\n",
       "      <td> 1</td>\n",
       "      <td> 12.2875</td>\n",
       "    </tr>\n",
       "  </tbody>\n",
       "</table>\n",
       "</div>"
      ],
      "text/plain": [
       "   PassengerId  Pclass     Sex   Age  SibSp     Fare\n",
       "0          892       3    male  34.5      0   7.8292\n",
       "1          893       3  female  47.0      1   7.0000\n",
       "2          894       2    male  62.0      0   9.6875\n",
       "3          895       3    male  27.0      0   8.6625\n",
       "4          896       3  female  22.0      1  12.2875"
      ]
     },
     "execution_count": 43,
     "metadata": {},
     "output_type": "execute_result"
    }
   ],
   "source": [
    "test=pd.read_csv('test.csv')\n",
    "test_sub=test[['PassengerId','Pclass','Sex','Age','SibSp','Fare']].copy()\n",
    "print test_sub.shape\n",
    "test_sub.head()"
   ]
  },
  {
   "cell_type": "code",
   "execution_count": 44,
   "metadata": {
    "collapsed": false
   },
   "outputs": [
    {
     "name": "stdout",
     "output_type": "stream",
     "text": [
      "(331, 6)\n"
     ]
    },
    {
     "name": "stderr",
     "output_type": "stream",
     "text": [
      "/anaconda/lib/python2.7/site-packages/IPython/kernel/__main__.py:4: SettingWithCopyWarning: \n",
      "A value is trying to be set on a copy of a slice from a DataFrame.\n",
      "Try using .loc[row_indexer,col_indexer] = value instead\n",
      "\n",
      "See the the caveats in the documentation: http://pandas.pydata.org/pandas-docs/stable/indexing.html#indexing-view-versus-copy\n"
     ]
    },
    {
     "data": {
      "text/html": [
       "<div style=\"max-height:1000px;max-width:1500px;overflow:auto;\">\n",
       "<table border=\"1\" class=\"dataframe\">\n",
       "  <thead>\n",
       "    <tr style=\"text-align: right;\">\n",
       "      <th></th>\n",
       "      <th>PassengerId</th>\n",
       "      <th>Pclass</th>\n",
       "      <th>Sex</th>\n",
       "      <th>Age</th>\n",
       "      <th>SibSp</th>\n",
       "      <th>Fare</th>\n",
       "    </tr>\n",
       "  </thead>\n",
       "  <tbody>\n",
       "    <tr>\n",
       "      <th>0</th>\n",
       "      <td> 892</td>\n",
       "      <td> 3</td>\n",
       "      <td> 0</td>\n",
       "      <td> 34.5</td>\n",
       "      <td> 0</td>\n",
       "      <td>  7.8292</td>\n",
       "    </tr>\n",
       "    <tr>\n",
       "      <th>1</th>\n",
       "      <td> 893</td>\n",
       "      <td> 3</td>\n",
       "      <td> 1</td>\n",
       "      <td> 47.0</td>\n",
       "      <td> 1</td>\n",
       "      <td>  7.0000</td>\n",
       "    </tr>\n",
       "    <tr>\n",
       "      <th>2</th>\n",
       "      <td> 894</td>\n",
       "      <td> 2</td>\n",
       "      <td> 0</td>\n",
       "      <td> 62.0</td>\n",
       "      <td> 0</td>\n",
       "      <td>  9.6875</td>\n",
       "    </tr>\n",
       "    <tr>\n",
       "      <th>3</th>\n",
       "      <td> 895</td>\n",
       "      <td> 3</td>\n",
       "      <td> 0</td>\n",
       "      <td> 27.0</td>\n",
       "      <td> 0</td>\n",
       "      <td>  8.6625</td>\n",
       "    </tr>\n",
       "    <tr>\n",
       "      <th>4</th>\n",
       "      <td> 896</td>\n",
       "      <td> 3</td>\n",
       "      <td> 1</td>\n",
       "      <td> 22.0</td>\n",
       "      <td> 1</td>\n",
       "      <td> 12.2875</td>\n",
       "    </tr>\n",
       "  </tbody>\n",
       "</table>\n",
       "</div>"
      ],
      "text/plain": [
       "   PassengerId  Pclass  Sex   Age  SibSp     Fare\n",
       "0          892       3    0  34.5      0   7.8292\n",
       "1          893       3    1  47.0      1   7.0000\n",
       "2          894       2    0  62.0      0   9.6875\n",
       "3          895       3    0  27.0      0   8.6625\n",
       "4          896       3    1  22.0      1  12.2875"
      ]
     },
     "execution_count": 44,
     "metadata": {},
     "output_type": "execute_result"
    }
   ],
   "source": [
    "test1=test_sub\n",
    "test1=test1.dropna()\n",
    "test1=rename(test1)\n",
    "print test1.shape\n",
    "test1.head()"
   ]
  },
  {
   "cell_type": "code",
   "execution_count": 45,
   "metadata": {
    "collapsed": false
   },
   "outputs": [
    {
     "name": "stdout",
     "output_type": "stream",
     "text": [
      "(87, 6)\n",
      "(86, 5)\n",
      "(1, 4)\n",
      "True\n"
     ]
    }
   ],
   "source": [
    "test_nan=test_sub[test_sub.isnull().any(axis=1)]\n",
    "print test_nan.shape\n",
    "\n",
    "test2=test_nan.drop('Age',axis=1)\n",
    "test2=test2.dropna()\n",
    "test2=rename(test2)\n",
    "print test2.shape\n",
    "\n",
    "test3=test_nan.drop('Age',axis=1)\n",
    "test3=test3[test3.isnull().any(axis=1)]\n",
    "test3=rename(test3)\n",
    "test3=test3.drop('Fare',axis=1)\n",
    "print test3.shape\n",
    "\n",
    "print test.shape[0]==test1.shape[0]+test2.shape[0]+test3.shape[0]"
   ]
  },
  {
   "cell_type": "code",
   "execution_count": 46,
   "metadata": {
    "collapsed": false
   },
   "outputs": [
    {
     "data": {
      "text/html": [
       "<div style=\"max-height:1000px;max-width:1500px;overflow:auto;\">\n",
       "<table border=\"1\" class=\"dataframe\">\n",
       "  <thead>\n",
       "    <tr style=\"text-align: right;\">\n",
       "      <th></th>\n",
       "      <th>PassengerId</th>\n",
       "      <th>Pclass</th>\n",
       "      <th>Sex</th>\n",
       "      <th>SibSp</th>\n",
       "    </tr>\n",
       "  </thead>\n",
       "  <tbody>\n",
       "    <tr>\n",
       "      <th>152</th>\n",
       "      <td> 1044</td>\n",
       "      <td> 3</td>\n",
       "      <td> 0</td>\n",
       "      <td> 0</td>\n",
       "    </tr>\n",
       "  </tbody>\n",
       "</table>\n",
       "</div>"
      ],
      "text/plain": [
       "     PassengerId  Pclass  Sex  SibSp\n",
       "152         1044       3    0      0"
      ]
     },
     "execution_count": 46,
     "metadata": {},
     "output_type": "execute_result"
    }
   ],
   "source": [
    "test3.head()"
   ]
  },
  {
   "cell_type": "markdown",
   "metadata": {},
   "source": [
    "3. Train the train data\n",
    "==="
   ]
  },
  {
   "cell_type": "code",
   "execution_count": 47,
   "metadata": {
    "collapsed": true
   },
   "outputs": [],
   "source": [
    "col=[['Pclass','Sex','Age','SibSp','Fare','intercept'],\n",
    "      ['Pclass','Sex','SibSp','Fare','intercept'],\n",
    "        ['Pclass','Sex','SibSp','intercept']]\n",
    "def logistic_regression_train(train,i,col=col):\n",
    "    train['intercept']=1.0\n",
    "    cols=col[i-1]\n",
    "    logit=sm.Logit(train['Survived'],train[cols])\n",
    "    result=logit.fit()\n",
    "    paras=result.params\n",
    "    return paras"
   ]
  },
  {
   "cell_type": "markdown",
   "metadata": {},
   "source": [
    "(1) subset 1\n",
    "---"
   ]
  },
  {
   "cell_type": "code",
   "execution_count": 48,
   "metadata": {
    "collapsed": false
   },
   "outputs": [
    {
     "name": "stdout",
     "output_type": "stream",
     "text": [
      "Optimization terminated successfully.\n",
      "         Current function value: 0.424918\n",
      "         Iterations 6\n"
     ]
    },
    {
     "data": {
      "text/plain": [
       "Pclass      -1.330308\n",
       "Sex          2.672016\n",
       "Age         -0.034210\n",
       "SibSp       -0.526736\n",
       "Fare         0.002452\n",
       "intercept    2.454407\n",
       "dtype: float64"
      ]
     },
     "execution_count": 48,
     "metadata": {},
     "output_type": "execute_result"
    }
   ],
   "source": [
    "paras1=logistic_regression_train(sub_train1,1)\n",
    "paras1"
   ]
  },
  {
   "cell_type": "markdown",
   "metadata": {},
   "source": [
    "(2) subset 2\n",
    "---"
   ]
  },
  {
   "cell_type": "code",
   "execution_count": 49,
   "metadata": {
    "collapsed": false
   },
   "outputs": [
    {
     "name": "stdout",
     "output_type": "stream",
     "text": [
      "Optimization terminated successfully.\n",
      "         Current function value: 0.433616\n",
      "         Iterations 6\n"
     ]
    },
    {
     "data": {
      "text/plain": [
       "Pclass      -0.907400\n",
       "Sex          3.029272\n",
       "SibSp       -0.342919\n",
       "Fare         0.002864\n",
       "intercept    0.508612\n",
       "dtype: float64"
      ]
     },
     "execution_count": 49,
     "metadata": {},
     "output_type": "execute_result"
    }
   ],
   "source": [
    "paras2=logistic_regression_train(sub_train2,2)\n",
    "paras2"
   ]
  },
  {
   "cell_type": "markdown",
   "metadata": {},
   "source": [
    "(3) subset 3\n",
    "--"
   ]
  },
  {
   "cell_type": "code",
   "execution_count": 50,
   "metadata": {
    "collapsed": false
   },
   "outputs": [
    {
     "name": "stdout",
     "output_type": "stream",
     "text": [
      "Optimization terminated successfully.\n",
      "         Current function value: 0.434280\n",
      "         Iterations 6\n"
     ]
    },
    {
     "data": {
      "text/plain": [
       "Pclass      -0.983711\n",
       "Sex          3.049841\n",
       "SibSp       -0.318048\n",
       "intercept    0.741856\n",
       "dtype: float64"
      ]
     },
     "execution_count": 50,
     "metadata": {},
     "output_type": "execute_result"
    }
   ],
   "source": [
    "paras3=logistic_regression_train(sub_train3,3)\n",
    "paras3"
   ]
  },
  {
   "cell_type": "markdown",
   "metadata": {},
   "source": [
    "4. Validation and test\n",
    "==="
   ]
  },
  {
   "cell_type": "code",
   "execution_count": 51,
   "metadata": {
    "collapsed": true
   },
   "outputs": [],
   "source": [
    "from math import exp\n",
    "def probability(row,paras):\n",
    "    z=paras[len(paras)-1]\n",
    "    for i in np.arange(0,len(paras)-1):\n",
    "        z=z+row[i]*paras[i]\n",
    "    return 1/(1+exp(-1.0*z))"
   ]
  },
  {
   "cell_type": "markdown",
   "metadata": {},
   "source": [
    "(1) subset 1\n",
    "----"
   ]
  },
  {
   "cell_type": "code",
   "execution_count": 52,
   "metadata": {
    "collapsed": true
   },
   "outputs": [],
   "source": [
    "compare=sub_val1[['Pclass','Sex','Age','SibSp','Fare']].copy()\n",
    "pred=[]\n",
    "for ii in np.arange(len(compare.Pclass)):\n",
    "    pred.append(probability(compare.iloc[ii],paras1))\n",
    "sub_val1['Pred']=pred"
   ]
  },
  {
   "cell_type": "markdown",
   "metadata": {},
   "source": [
    "*****\n",
    "compute confusion matrix with gender considered\n",
    "*****"
   ]
  },
  {
   "cell_type": "code",
   "execution_count": 53,
   "metadata": {
    "collapsed": false
   },
   "outputs": [],
   "source": [
    "temp=sub_val1[['Sex','Pclass','Survived','Pred']].copy()\n",
    "tempmale=temp[temp['Sex']==0]\n",
    "tempfemale=temp[temp['Sex']==1]\n",
    "\n",
    "temp_male_low=tempmale[tempmale['Pclass']<=2]\n",
    "temp_male_high=tempmale[tempmale['Pclass']>=3]\n",
    "temp_female_low=tempfemale[tempfemale['Pclass']<=2]\n",
    "temp_female_high=tempfemale[tempfemale['Pclass']>=3]"
   ]
  },
  {
   "cell_type": "code",
   "execution_count": 54,
   "metadata": {
    "collapsed": false
   },
   "outputs": [
    {
     "name": "stdout",
     "output_type": "stream",
     "text": [
      "(66, 4)\n",
      "(80, 4)\n",
      "(53, 4)\n",
      "(37, 4)\n"
     ]
    }
   ],
   "source": [
    "print temp_male_low.shape\n",
    "print temp_male_high.shape\n",
    "print temp_female_low.shape\n",
    "print temp_female_high.shape"
   ]
  },
  {
   "cell_type": "code",
   "execution_count": 55,
   "metadata": {
    "collapsed": true
   },
   "outputs": [],
   "source": [
    "def survive_cm(pp,df):\n",
    "    temp=df[['Survived','Pred']].copy()\n",
    "    temp['TF']=temp['Pred']>=pp\n",
    "    cm=sklearn.metrics.confusion_matrix(temp['Survived'],temp['TF'])\n",
    "    return cm"
   ]
  },
  {
   "cell_type": "code",
   "execution_count": 56,
   "metadata": {
    "collapsed": false
   },
   "outputs": [],
   "source": [
    "xlist=np.linspace(0,1,33)\n",
    "m1=map(lambda x: survive_cm(x,temp_male_low),xlist)\n",
    "m2=map(lambda x: survive_cm(x,temp_male_high),xlist)\n",
    "m3=map(lambda x: survive_cm(x,temp_female_low),xlist)\n",
    "m4=map(lambda x: survive_cm(x,temp_female_high),xlist)\n",
    "\n",
    "mm=[]\n",
    "for i1 in m1:\n",
    "    for i2 in m2:\n",
    "        for i3 in m3:\n",
    "            for i4 in m4:\n",
    "                cm=i1+i2+i3+i4\n",
    "                mm.append((cm[0,0]+cm[1,1])*1.0/(cm[0,0]+cm[1,1]+cm[0,1]+cm[1,0]))\n",
    "        \n",
    "# mmm=np.reshape(mm, (-1, len(xlist)))\n",
    "\n",
    "\n",
    "# contour_levels = np.linspace(0,1,100)\n",
    "# plt.contour(xlist,ylist,mmm,levels=contour_levels)\n",
    "# plt.colorbar()\n",
    "# plt.show()"
   ]
  },
  {
   "cell_type": "code",
   "execution_count": 57,
   "metadata": {
    "collapsed": false
   },
   "outputs": [
    {
     "name": "stdout",
     "output_type": "stream",
     "text": [
      "0.792372881356\n",
      "363726\n"
     ]
    }
   ],
   "source": [
    "print max(mm)\n",
    "ind=mm.index(max(mm))\n",
    "print ind"
   ]
  },
  {
   "cell_type": "code",
   "execution_count": 58,
   "metadata": {
    "collapsed": false
   },
   "outputs": [
    {
     "name": "stdout",
     "output_type": "stream",
     "text": [
      "0 0 4 10\n"
     ]
    }
   ],
   "source": [
    "p4_ind=ind%len(xlist)\n",
    "p3_ind=ind/len(xlist)%len(xlist)\n",
    "p2_ind=ind/len(xlist)/len(xlist)%len(xlist)\n",
    "p1_ind=ind/len(xlist)/len(xlist)/len(xlist)%len(xlist)\n",
    "print p4_ind,p3_ind,p2_ind,p1_ind\n",
    "p4=xlist[p4_ind]\n",
    "p3=xlist[p3_ind]\n",
    "p2=xlist[p2_ind]\n",
    "p1=xlist[p1_ind]"
   ]
  },
  {
   "cell_type": "code",
   "execution_count": 59,
   "metadata": {
    "collapsed": false
   },
   "outputs": [
    {
     "name": "stderr",
     "output_type": "stream",
     "text": [
      "/anaconda/lib/python2.7/site-packages/IPython/kernel/__main__.py:5: SettingWithCopyWarning: \n",
      "A value is trying to be set on a copy of a slice from a DataFrame.\n",
      "Try using .loc[row_indexer,col_indexer] = value instead\n",
      "\n",
      "See the the caveats in the documentation: http://pandas.pydata.org/pandas-docs/stable/indexing.html#indexing-view-versus-copy\n",
      "/anaconda/lib/python2.7/site-packages/IPython/kernel/__main__.py:13: SettingWithCopyWarning: \n",
      "A value is trying to be set on a copy of a slice from a DataFrame.\n",
      "Try using .loc[row_indexer,col_indexer] = value instead\n",
      "\n",
      "See the the caveats in the documentation: http://pandas.pydata.org/pandas-docs/stable/indexing.html#indexing-view-versus-copy\n",
      "/anaconda/lib/python2.7/site-packages/IPython/kernel/__main__.py:14: SettingWithCopyWarning: \n",
      "A value is trying to be set on a copy of a slice from a DataFrame.\n",
      "Try using .loc[row_indexer,col_indexer] = value instead\n",
      "\n",
      "See the the caveats in the documentation: http://pandas.pydata.org/pandas-docs/stable/indexing.html#indexing-view-versus-copy\n",
      "/anaconda/lib/python2.7/site-packages/IPython/kernel/__main__.py:15: SettingWithCopyWarning: \n",
      "A value is trying to be set on a copy of a slice from a DataFrame.\n",
      "Try using .loc[row_indexer,col_indexer] = value instead\n",
      "\n",
      "See the the caveats in the documentation: http://pandas.pydata.org/pandas-docs/stable/indexing.html#indexing-view-versus-copy\n",
      "/anaconda/lib/python2.7/site-packages/IPython/kernel/__main__.py:16: SettingWithCopyWarning: \n",
      "A value is trying to be set on a copy of a slice from a DataFrame.\n",
      "Try using .loc[row_indexer,col_indexer] = value instead\n",
      "\n",
      "See the the caveats in the documentation: http://pandas.pydata.org/pandas-docs/stable/indexing.html#indexing-view-versus-copy\n"
     ]
    }
   ],
   "source": [
    "compare=test1[['Pclass','Sex','Age','SibSp','Fare']].copy()\n",
    "pred=[]\n",
    "for ii in np.arange(len(compare.Pclass)):\n",
    "    pred.append(probability(compare.iloc[ii],paras1))\n",
    "test1['Pred']=pred\n",
    "testmale=test1[test1['Sex']==0]\n",
    "testfemale=test1[test1['Sex']==1]\n",
    "test_male_low=testmale[testmale['Pclass']<=2]\n",
    "test_male_high=testmale[testmale['Pclass']>=3]\n",
    "test_female_low=testfemale[testfemale['Pclass']<=2]\n",
    "test_female_high=testfemale[testfemale['Pclass']>=3]\n",
    "\n",
    "test_male_low['Survived']=1*(test_male_low['Pred']>=p1)\n",
    "test_male_high['Survived']=1*(test_male_high['Pred']>=p2)\n",
    "test_female_low['Survived']=1*(test_female_low['Pred']>=p3)\n",
    "test_female_high['Survived']=1*(test_female_high['Pred']>=p4)\n",
    "\n",
    "test1=(pd.concat([test_male_low,test_male_high,test_female_low,test_female_high])).sort('PassengerId')"
   ]
  },
  {
   "cell_type": "code",
   "execution_count": 60,
   "metadata": {
    "collapsed": false
   },
   "outputs": [
    {
     "data": {
      "text/html": [
       "<div style=\"max-height:1000px;max-width:1500px;overflow:auto;\">\n",
       "<table border=\"1\" class=\"dataframe\">\n",
       "  <thead>\n",
       "    <tr style=\"text-align: right;\">\n",
       "      <th></th>\n",
       "      <th>PassengerId</th>\n",
       "      <th>Pclass</th>\n",
       "      <th>Sex</th>\n",
       "      <th>Age</th>\n",
       "      <th>SibSp</th>\n",
       "      <th>Fare</th>\n",
       "      <th>Pred</th>\n",
       "      <th>Survived</th>\n",
       "    </tr>\n",
       "  </thead>\n",
       "  <tbody>\n",
       "    <tr>\n",
       "      <th>0</th>\n",
       "      <td> 892</td>\n",
       "      <td> 3</td>\n",
       "      <td> 0</td>\n",
       "      <td> 34.5</td>\n",
       "      <td> 0</td>\n",
       "      <td>  7.8292</td>\n",
       "      <td> 0.063117</td>\n",
       "      <td> 0</td>\n",
       "    </tr>\n",
       "    <tr>\n",
       "      <th>1</th>\n",
       "      <td> 893</td>\n",
       "      <td> 3</td>\n",
       "      <td> 1</td>\n",
       "      <td> 47.0</td>\n",
       "      <td> 1</td>\n",
       "      <td>  7.0000</td>\n",
       "      <td> 0.272506</td>\n",
       "      <td> 1</td>\n",
       "    </tr>\n",
       "    <tr>\n",
       "      <th>2</th>\n",
       "      <td> 894</td>\n",
       "      <td> 2</td>\n",
       "      <td> 0</td>\n",
       "      <td> 62.0</td>\n",
       "      <td> 0</td>\n",
       "      <td>  9.6875</td>\n",
       "      <td> 0.090835</td>\n",
       "      <td> 0</td>\n",
       "    </tr>\n",
       "    <tr>\n",
       "      <th>3</th>\n",
       "      <td> 895</td>\n",
       "      <td> 3</td>\n",
       "      <td> 0</td>\n",
       "      <td> 27.0</td>\n",
       "      <td> 0</td>\n",
       "      <td>  8.6625</td>\n",
       "      <td> 0.080251</td>\n",
       "      <td> 0</td>\n",
       "    </tr>\n",
       "    <tr>\n",
       "      <th>4</th>\n",
       "      <td> 896</td>\n",
       "      <td> 3</td>\n",
       "      <td> 1</td>\n",
       "      <td> 22.0</td>\n",
       "      <td> 1</td>\n",
       "      <td> 12.2875</td>\n",
       "      <td> 0.471599</td>\n",
       "      <td> 1</td>\n",
       "    </tr>\n",
       "  </tbody>\n",
       "</table>\n",
       "</div>"
      ],
      "text/plain": [
       "   PassengerId  Pclass  Sex   Age  SibSp     Fare      Pred  Survived\n",
       "0          892       3    0  34.5      0   7.8292  0.063117         0\n",
       "1          893       3    1  47.0      1   7.0000  0.272506         1\n",
       "2          894       2    0  62.0      0   9.6875  0.090835         0\n",
       "3          895       3    0  27.0      0   8.6625  0.080251         0\n",
       "4          896       3    1  22.0      1  12.2875  0.471599         1"
      ]
     },
     "execution_count": 60,
     "metadata": {},
     "output_type": "execute_result"
    }
   ],
   "source": [
    "test1.head()"
   ]
  },
  {
   "cell_type": "markdown",
   "metadata": {},
   "source": [
    "(2) subset 2\n",
    "---"
   ]
  },
  {
   "cell_type": "code",
   "execution_count": 61,
   "metadata": {
    "collapsed": false
   },
   "outputs": [
    {
     "name": "stdout",
     "output_type": "stream",
     "text": [
      "0.806779661017\n",
      "687182"
     ]
    },
    {
     "name": "stderr",
     "output_type": "stream",
     "text": [
      "/anaconda/lib/python2.7/site-packages/IPython/kernel/__main__.py:56: SettingWithCopyWarning: \n",
      "A value is trying to be set on a copy of a slice from a DataFrame.\n",
      "Try using .loc[row_indexer,col_indexer] = value instead\n",
      "\n",
      "See the the caveats in the documentation: http://pandas.pydata.org/pandas-docs/stable/indexing.html#indexing-view-versus-copy\n",
      "/anaconda/lib/python2.7/site-packages/IPython/kernel/__main__.py:57: SettingWithCopyWarning: \n",
      "A value is trying to be set on a copy of a slice from a DataFrame.\n",
      "Try using .loc[row_indexer,col_indexer] = value instead\n",
      "\n",
      "See the the caveats in the documentation: http://pandas.pydata.org/pandas-docs/stable/indexing.html#indexing-view-versus-copy\n",
      "/anaconda/lib/python2.7/site-packages/IPython/kernel/__main__.py:58: SettingWithCopyWarning: \n",
      "A value is trying to be set on a copy of a slice from a DataFrame.\n",
      "Try using .loc[row_indexer,col_indexer] = value instead\n",
      "\n",
      "See the the caveats in the documentation: http://pandas.pydata.org/pandas-docs/stable/indexing.html#indexing-view-versus-copy\n",
      "/anaconda/lib/python2.7/site-packages/IPython/kernel/__main__.py:59: SettingWithCopyWarning: \n",
      "A value is trying to be set on a copy of a slice from a DataFrame.\n",
      "Try using .loc[row_indexer,col_indexer] = value instead\n",
      "\n",
      "See the the caveats in the documentation: http://pandas.pydata.org/pandas-docs/stable/indexing.html#indexing-view-versus-copy\n"
     ]
    },
    {
     "name": "stdout",
     "output_type": "stream",
     "text": [
      "\n",
      "23 0 4 19\n"
     ]
    }
   ],
   "source": [
    "compare=sub_val2[['Pclass','Sex','SibSp','Fare']].copy()\n",
    "pred=[]\n",
    "for ii in np.arange(len(compare.Pclass)):\n",
    "    pred.append(probability(compare.iloc[ii],paras2))\n",
    "sub_val2['Pred']=pred\n",
    "\n",
    "temp=sub_val2[['Sex','Pclass','Survived','Pred']].copy()\n",
    "tempmale=temp[temp['Sex']==0]\n",
    "tempfemale=temp[temp['Sex']==1]\n",
    "\n",
    "temp_male_low=tempmale[tempmale['Pclass']<=2]\n",
    "temp_male_high=tempmale[tempmale['Pclass']>=3]\n",
    "temp_female_low=tempfemale[tempfemale['Pclass']<=2]\n",
    "temp_female_high=tempfemale[tempfemale['Pclass']>=3]\n",
    "\n",
    "xlist=np.linspace(0,1,33)\n",
    "m1=map(lambda x: survive_cm(x,temp_male_low),xlist)\n",
    "m2=map(lambda x: survive_cm(x,temp_male_high),xlist)\n",
    "m3=map(lambda x: survive_cm(x,temp_female_low),xlist)\n",
    "m4=map(lambda x: survive_cm(x,temp_female_high),xlist)\n",
    "\n",
    "mm=[]\n",
    "for i1 in m1:\n",
    "    for i2 in m2:\n",
    "        for i3 in m3:\n",
    "            for i4 in m4:\n",
    "                cm=i1+i2+i3+i4\n",
    "                mm.append((cm[0,0]+cm[1,1])*1.0/(cm[0,0]+cm[1,1]+cm[0,1]+cm[1,0]))\n",
    "\n",
    "print max(mm)\n",
    "ind=mm.index(max(mm))\n",
    "print ind\n",
    "\n",
    "p4_ind=ind%len(xlist)\n",
    "p3_ind=ind/len(xlist)%len(xlist)\n",
    "p2_ind=ind/len(xlist)/len(xlist)%len(xlist)\n",
    "p1_ind=ind/len(xlist)/len(xlist)/len(xlist)%len(xlist)\n",
    "print p4_ind,p3_ind,p2_ind,p1_ind\n",
    "p4=xlist[p4_ind]\n",
    "p3=xlist[p3_ind]\n",
    "p2=xlist[p2_ind]\n",
    "p1=xlist[p1_ind]\n",
    "\n",
    "compare=test2[['Pclass','Sex','SibSp','Fare']].copy()\n",
    "pred=[]\n",
    "for ii in np.arange(len(compare.Pclass)):\n",
    "    pred.append(probability(compare.iloc[ii],paras2))\n",
    "test2['Pred']=pred\n",
    "testmale=test2[test2['Sex']==0]\n",
    "testfemale=test2[test2['Sex']==1]\n",
    "test_male_low=testmale[testmale['Pclass']<=2]\n",
    "test_male_high=testmale[testmale['Pclass']>=3]\n",
    "test_female_low=testfemale[testfemale['Pclass']<=2]\n",
    "test_female_high=testfemale[testfemale['Pclass']>=3]\n",
    "\n",
    "test_male_low['Survived']=1*(test_male_low['Pred']>=p1)\n",
    "test_male_high['Survived']=1*(test_male_high['Pred']>=p2)\n",
    "test_female_low['Survived']=1*(test_female_low['Pred']>=p3)\n",
    "test_female_high['Survived']=1*(test_female_high['Pred']>=p4)\n",
    "\n",
    "test2=(pd.concat([test_male_low,test_male_high,test_female_low,test_female_high])).sort('PassengerId')"
   ]
  },
  {
   "cell_type": "code",
   "execution_count": 62,
   "metadata": {
    "collapsed": false
   },
   "outputs": [
    {
     "data": {
      "text/html": [
       "<div style=\"max-height:1000px;max-width:1500px;overflow:auto;\">\n",
       "<table border=\"1\" class=\"dataframe\">\n",
       "  <thead>\n",
       "    <tr style=\"text-align: right;\">\n",
       "      <th></th>\n",
       "      <th>PassengerId</th>\n",
       "      <th>Pclass</th>\n",
       "      <th>Sex</th>\n",
       "      <th>SibSp</th>\n",
       "      <th>Fare</th>\n",
       "      <th>Pred</th>\n",
       "      <th>Survived</th>\n",
       "    </tr>\n",
       "  </thead>\n",
       "  <tbody>\n",
       "    <tr>\n",
       "      <th>10</th>\n",
       "      <td> 902</td>\n",
       "      <td> 3</td>\n",
       "      <td> 0</td>\n",
       "      <td> 0</td>\n",
       "      <td>  7.8958</td>\n",
       "      <td> 0.100564</td>\n",
       "      <td> 0</td>\n",
       "    </tr>\n",
       "    <tr>\n",
       "      <th>22</th>\n",
       "      <td> 914</td>\n",
       "      <td> 1</td>\n",
       "      <td> 1</td>\n",
       "      <td> 0</td>\n",
       "      <td> 31.6833</td>\n",
       "      <td> 0.938267</td>\n",
       "      <td> 1</td>\n",
       "    </tr>\n",
       "    <tr>\n",
       "      <th>29</th>\n",
       "      <td> 921</td>\n",
       "      <td> 3</td>\n",
       "      <td> 0</td>\n",
       "      <td> 2</td>\n",
       "      <td> 21.6792</td>\n",
       "      <td> 0.055339</td>\n",
       "      <td> 0</td>\n",
       "    </tr>\n",
       "    <tr>\n",
       "      <th>33</th>\n",
       "      <td> 925</td>\n",
       "      <td> 3</td>\n",
       "      <td> 1</td>\n",
       "      <td> 1</td>\n",
       "      <td> 23.4500</td>\n",
       "      <td> 0.631794</td>\n",
       "      <td> 0</td>\n",
       "    </tr>\n",
       "    <tr>\n",
       "      <th>36</th>\n",
       "      <td> 928</td>\n",
       "      <td> 3</td>\n",
       "      <td> 1</td>\n",
       "      <td> 0</td>\n",
       "      <td>  8.0500</td>\n",
       "      <td> 0.698199</td>\n",
       "      <td> 0</td>\n",
       "    </tr>\n",
       "  </tbody>\n",
       "</table>\n",
       "</div>"
      ],
      "text/plain": [
       "    PassengerId  Pclass  Sex  SibSp     Fare      Pred  Survived\n",
       "10          902       3    0      0   7.8958  0.100564         0\n",
       "22          914       1    1      0  31.6833  0.938267         1\n",
       "29          921       3    0      2  21.6792  0.055339         0\n",
       "33          925       3    1      1  23.4500  0.631794         0\n",
       "36          928       3    1      0   8.0500  0.698199         0"
      ]
     },
     "execution_count": 62,
     "metadata": {},
     "output_type": "execute_result"
    }
   ],
   "source": [
    "test2.head()"
   ]
  },
  {
   "cell_type": "markdown",
   "metadata": {},
   "source": [
    "(3) subset 3\n",
    "---"
   ]
  },
  {
   "cell_type": "code",
   "execution_count": 63,
   "metadata": {
    "collapsed": false
   },
   "outputs": [
    {
     "name": "stdout",
     "output_type": "stream",
     "text": [
      "0.803389830508\n",
      "543434\n",
      "23 0 4 15\n"
     ]
    }
   ],
   "source": [
    "compare=sub_val3[['Pclass','Sex','SibSp']].copy()\n",
    "pred=[]\n",
    "for ii in np.arange(len(compare.Pclass)):\n",
    "    pred.append(probability(compare.iloc[ii],paras3))\n",
    "sub_val3['Pred']=pred\n",
    "\n",
    "temp=sub_val3[['Sex','Pclass','Survived','Pred']].copy()\n",
    "tempmale=temp[temp['Sex']==0]\n",
    "tempfemale=temp[temp['Sex']==1]\n",
    "\n",
    "temp_male_low=tempmale[tempmale['Pclass']<=2]\n",
    "temp_male_high=tempmale[tempmale['Pclass']>=3]\n",
    "temp_female_low=tempfemale[tempfemale['Pclass']<=2]\n",
    "temp_female_high=tempfemale[tempfemale['Pclass']>=3]\n",
    "\n",
    "xlist=np.linspace(0,1,33)\n",
    "m1=map(lambda x: survive_cm(x,temp_male_low),xlist)\n",
    "m2=map(lambda x: survive_cm(x,temp_male_high),xlist)\n",
    "m3=map(lambda x: survive_cm(x,temp_female_low),xlist)\n",
    "m4=map(lambda x: survive_cm(x,temp_female_high),xlist)\n",
    "\n",
    "mm=[]\n",
    "for i1 in m1:\n",
    "    for i2 in m2:\n",
    "        for i3 in m3:\n",
    "            for i4 in m4:\n",
    "                cm=i1+i2+i3+i4\n",
    "                mm.append((cm[0,0]+cm[1,1])*1.0/(cm[0,0]+cm[1,1]+cm[0,1]+cm[1,0]))\n",
    "\n",
    "print max(mm)\n",
    "ind=mm.index(max(mm))\n",
    "print ind\n",
    "\n",
    "p4_ind=ind%len(xlist)\n",
    "p3_ind=ind/len(xlist)%len(xlist)\n",
    "p2_ind=ind/len(xlist)/len(xlist)%len(xlist)\n",
    "p1_ind=ind/len(xlist)/len(xlist)/len(xlist)%len(xlist)\n",
    "print p4_ind,p3_ind,p2_ind,p1_ind\n",
    "p4=xlist[p4_ind]\n",
    "p3=xlist[p3_ind]\n",
    "p2=xlist[p2_ind]\n",
    "p1=xlist[p1_ind]\n",
    "\n",
    "compare=test3[['Pclass','Sex','SibSp']].copy()\n",
    "pred=[]\n",
    "for ii in np.arange(len(compare.Pclass)):\n",
    "    pred.append(probability(compare.iloc[ii],paras3))\n",
    "test3['Pred']=pred\n",
    "testmale=test3[test3['Sex']==0]\n",
    "testfemale=test3[test3['Sex']==1]\n",
    "test_male_low=testmale[testmale['Pclass']<=2]\n",
    "test_male_high=testmale[testmale['Pclass']>=3]\n",
    "test_female_low=testfemale[testfemale['Pclass']<=2]\n",
    "test_female_high=testfemale[testfemale['Pclass']>=3]\n",
    "\n",
    "test_male_low['Survived']=1*(test_male_low['Pred']>=p1)\n",
    "test_male_high['Survived']=1*(test_male_high['Pred']>=p2)\n",
    "test_female_low['Survived']=1*(test_female_low['Pred']>=p3)\n",
    "test_female_high['Survived']=1*(test_female_high['Pred']>=p4)\n",
    "\n",
    "test3=(pd.concat([test_male_low,test_male_high,test_female_low,test_female_high])).sort('PassengerId')"
   ]
  },
  {
   "cell_type": "code",
   "execution_count": 36,
   "metadata": {
    "collapsed": false
   },
   "outputs": [
    {
     "name": "stdout",
     "output_type": "stream",
     "text": [
      "0.803389830508\n"
     ]
    }
   ],
   "source": [
    "matrix=np.asmatrix(mmm)\n",
    "#print matrix.argmax()\n",
    "#print matrix.argmax(0)\n",
    "#print matrix.argmax(1)\n",
    "print np.max(matrix)\n",
    "ppm=xlist[440]\n",
    "ppf=xlist[698]"
   ]
  },
  {
   "cell_type": "code",
   "execution_count": 64,
   "metadata": {
    "collapsed": false
   },
   "outputs": [
    {
     "data": {
      "text/html": [
       "<div style=\"max-height:1000px;max-width:1500px;overflow:auto;\">\n",
       "<table border=\"1\" class=\"dataframe\">\n",
       "  <thead>\n",
       "    <tr style=\"text-align: right;\">\n",
       "      <th></th>\n",
       "      <th>PassengerId</th>\n",
       "      <th>Pclass</th>\n",
       "      <th>Sex</th>\n",
       "      <th>SibSp</th>\n",
       "      <th>Pred</th>\n",
       "      <th>Survived</th>\n",
       "    </tr>\n",
       "  </thead>\n",
       "  <tbody>\n",
       "    <tr>\n",
       "      <th>152</th>\n",
       "      <td> 1044</td>\n",
       "      <td> 3</td>\n",
       "      <td> 0</td>\n",
       "      <td> 0</td>\n",
       "      <td> 0.098921</td>\n",
       "      <td> 0</td>\n",
       "    </tr>\n",
       "  </tbody>\n",
       "</table>\n",
       "</div>"
      ],
      "text/plain": [
       "     PassengerId  Pclass  Sex  SibSp      Pred  Survived\n",
       "152         1044       3    0      0  0.098921         0"
      ]
     },
     "execution_count": 64,
     "metadata": {},
     "output_type": "execute_result"
    }
   ],
   "source": [
    "test3.head()"
   ]
  },
  {
   "cell_type": "markdown",
   "metadata": {},
   "source": [
    "5.Results\n",
    "==="
   ]
  },
  {
   "cell_type": "code",
   "execution_count": 65,
   "metadata": {
    "collapsed": false
   },
   "outputs": [],
   "source": [
    "result1=test1[['PassengerId','Survived']].copy()\n",
    "result2=test2[['PassengerId','Survived']].copy()\n",
    "result3=test3[['PassengerId','Survived']].copy()"
   ]
  },
  {
   "cell_type": "code",
   "execution_count": 66,
   "metadata": {
    "collapsed": true
   },
   "outputs": [],
   "source": [
    "frames=[result1,result2,result3]\n",
    "results=pd.concat(frames)"
   ]
  },
  {
   "cell_type": "code",
   "execution_count": 67,
   "metadata": {
    "collapsed": false
   },
   "outputs": [
    {
     "data": {
      "text/html": [
       "<div style=\"max-height:1000px;max-width:1500px;overflow:auto;\">\n",
       "<table border=\"1\" class=\"dataframe\">\n",
       "  <thead>\n",
       "    <tr style=\"text-align: right;\">\n",
       "      <th></th>\n",
       "      <th>PassengerId</th>\n",
       "      <th>Survived</th>\n",
       "    </tr>\n",
       "  </thead>\n",
       "  <tbody>\n",
       "    <tr>\n",
       "      <th>0</th>\n",
       "      <td> 892</td>\n",
       "      <td> 0</td>\n",
       "    </tr>\n",
       "    <tr>\n",
       "      <th>1</th>\n",
       "      <td> 893</td>\n",
       "      <td> 1</td>\n",
       "    </tr>\n",
       "    <tr>\n",
       "      <th>2</th>\n",
       "      <td> 894</td>\n",
       "      <td> 0</td>\n",
       "    </tr>\n",
       "    <tr>\n",
       "      <th>3</th>\n",
       "      <td> 895</td>\n",
       "      <td> 0</td>\n",
       "    </tr>\n",
       "    <tr>\n",
       "      <th>4</th>\n",
       "      <td> 896</td>\n",
       "      <td> 1</td>\n",
       "    </tr>\n",
       "  </tbody>\n",
       "</table>\n",
       "</div>"
      ],
      "text/plain": [
       "   PassengerId  Survived\n",
       "0          892         0\n",
       "1          893         1\n",
       "2          894         0\n",
       "3          895         0\n",
       "4          896         1"
      ]
     },
     "execution_count": 67,
     "metadata": {},
     "output_type": "execute_result"
    }
   ],
   "source": [
    "results.head()"
   ]
  },
  {
   "cell_type": "code",
   "execution_count": 68,
   "metadata": {
    "collapsed": true
   },
   "outputs": [],
   "source": [
    "results.to_csv('titanic_logistic_gender_pclass_drop.csv',header=True,index=False)"
   ]
  },
  {
   "cell_type": "code",
   "execution_count": null,
   "metadata": {
    "collapsed": true
   },
   "outputs": [],
   "source": [
    "ht"
   ]
  }
 ],
 "metadata": {
  "kernelspec": {
   "display_name": "Python 2",
   "language": "python",
   "name": "python2"
  },
  "language_info": {
   "codemirror_mode": {
    "name": "ipython",
    "version": 2
   },
   "file_extension": ".py",
   "mimetype": "text/x-python",
   "name": "python",
   "nbconvert_exporter": "python",
   "pygments_lexer": "ipython2",
   "version": "2.7.10"
  }
 },
 "nbformat": 4,
 "nbformat_minor": 0
}
