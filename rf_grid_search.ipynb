{
 "cells": [
  {
   "cell_type": "code",
   "execution_count": 48,
   "metadata": {
    "collapsed": false
   },
   "outputs": [
    {
     "name": "stdout",
     "output_type": "stream",
     "text": [
      "Populating the interactive namespace from numpy and matplotlib\n"
     ]
    }
   ],
   "source": [
    "import requests\n",
    "import numpy as np\n",
    "import pandas as pd\n",
    "import sklearn.ensemble as sk\n",
    "import sklearn\n",
    "import statsmodels.api as sm\n",
    "import matplotlib.pyplot as plt\n",
    "import itertools\n",
    "from sklearn.cross_validation import StratifiedKFold, train_test_split\n",
    "from sklearn.grid_search import GridSearchCV\n",
    "%matplotlib inline\n",
    "%pylab inline"
   ]
  },
  {
   "cell_type": "code",
   "execution_count": 76,
   "metadata": {
    "collapsed": false
   },
   "outputs": [
    {
     "data": {
      "text/html": [
       "<div style=\"max-height:1000px;max-width:1500px;overflow:auto;\">\n",
       "<table border=\"1\" class=\"dataframe\">\n",
       "  <thead>\n",
       "    <tr style=\"text-align: right;\">\n",
       "      <th></th>\n",
       "      <th>PassengerId</th>\n",
       "      <th>Survived</th>\n",
       "      <th>Pclass</th>\n",
       "      <th>Name</th>\n",
       "      <th>Sex</th>\n",
       "      <th>Age</th>\n",
       "      <th>SibSp</th>\n",
       "      <th>Parch</th>\n",
       "      <th>Ticket</th>\n",
       "      <th>Fare</th>\n",
       "      <th>Cabin</th>\n",
       "      <th>Embarked</th>\n",
       "    </tr>\n",
       "  </thead>\n",
       "  <tbody>\n",
       "    <tr>\n",
       "      <th>886</th>\n",
       "      <td> 887</td>\n",
       "      <td> 0</td>\n",
       "      <td> 2</td>\n",
       "      <td>                    Montvila, Rev. Juozas</td>\n",
       "      <td>   male</td>\n",
       "      <td> 27</td>\n",
       "      <td> 0</td>\n",
       "      <td> 0</td>\n",
       "      <td>     211536</td>\n",
       "      <td> 13.00</td>\n",
       "      <td>  NaN</td>\n",
       "      <td> S</td>\n",
       "    </tr>\n",
       "    <tr>\n",
       "      <th>887</th>\n",
       "      <td> 888</td>\n",
       "      <td> 1</td>\n",
       "      <td> 1</td>\n",
       "      <td>             Graham, Miss. Margaret Edith</td>\n",
       "      <td> female</td>\n",
       "      <td> 19</td>\n",
       "      <td> 0</td>\n",
       "      <td> 0</td>\n",
       "      <td>     112053</td>\n",
       "      <td> 30.00</td>\n",
       "      <td>  B42</td>\n",
       "      <td> S</td>\n",
       "    </tr>\n",
       "    <tr>\n",
       "      <th>888</th>\n",
       "      <td> 889</td>\n",
       "      <td> 0</td>\n",
       "      <td> 3</td>\n",
       "      <td> Johnston, Miss. Catherine Helen \"Carrie\"</td>\n",
       "      <td> female</td>\n",
       "      <td>NaN</td>\n",
       "      <td> 1</td>\n",
       "      <td> 2</td>\n",
       "      <td> W./C. 6607</td>\n",
       "      <td> 23.45</td>\n",
       "      <td>  NaN</td>\n",
       "      <td> S</td>\n",
       "    </tr>\n",
       "    <tr>\n",
       "      <th>889</th>\n",
       "      <td> 890</td>\n",
       "      <td> 1</td>\n",
       "      <td> 1</td>\n",
       "      <td>                    Behr, Mr. Karl Howell</td>\n",
       "      <td>   male</td>\n",
       "      <td> 26</td>\n",
       "      <td> 0</td>\n",
       "      <td> 0</td>\n",
       "      <td>     111369</td>\n",
       "      <td> 30.00</td>\n",
       "      <td> C148</td>\n",
       "      <td> C</td>\n",
       "    </tr>\n",
       "    <tr>\n",
       "      <th>890</th>\n",
       "      <td> 891</td>\n",
       "      <td> 0</td>\n",
       "      <td> 3</td>\n",
       "      <td>                      Dooley, Mr. Patrick</td>\n",
       "      <td>   male</td>\n",
       "      <td> 32</td>\n",
       "      <td> 0</td>\n",
       "      <td> 0</td>\n",
       "      <td>     370376</td>\n",
       "      <td>  7.75</td>\n",
       "      <td>  NaN</td>\n",
       "      <td> Q</td>\n",
       "    </tr>\n",
       "  </tbody>\n",
       "</table>\n",
       "</div>"
      ],
      "text/plain": [
       "     PassengerId  Survived  Pclass                                      Name  \\\n",
       "886          887         0       2                     Montvila, Rev. Juozas   \n",
       "887          888         1       1              Graham, Miss. Margaret Edith   \n",
       "888          889         0       3  Johnston, Miss. Catherine Helen \"Carrie\"   \n",
       "889          890         1       1                     Behr, Mr. Karl Howell   \n",
       "890          891         0       3                       Dooley, Mr. Patrick   \n",
       "\n",
       "        Sex  Age  SibSp  Parch      Ticket   Fare Cabin Embarked  \n",
       "886    male   27      0      0      211536  13.00   NaN        S  \n",
       "887  female   19      0      0      112053  30.00   B42        S  \n",
       "888  female  NaN      1      2  W./C. 6607  23.45   NaN        S  \n",
       "889    male   26      0      0      111369  30.00  C148        C  \n",
       "890    male   32      0      0      370376   7.75   NaN        Q  "
      ]
     },
     "execution_count": 76,
     "metadata": {},
     "output_type": "execute_result"
    }
   ],
   "source": [
    "train=pd.read_csv('train.csv')\n",
    "train.tail()"
   ]
  },
  {
   "cell_type": "code",
   "execution_count": 77,
   "metadata": {
    "collapsed": false
   },
   "outputs": [
    {
     "data": {
      "text/plain": [
       "(891, 12)"
      ]
     },
     "execution_count": 77,
     "metadata": {},
     "output_type": "execute_result"
    }
   ],
   "source": [
    "train.shape"
   ]
  },
  {
   "cell_type": "code",
   "execution_count": 78,
   "metadata": {
    "collapsed": false
   },
   "outputs": [
    {
     "data": {
      "text/plain": [
       "PassengerId      int64\n",
       "Survived         int64\n",
       "Pclass           int64\n",
       "Name            object\n",
       "Sex             object\n",
       "Age            float64\n",
       "SibSp            int64\n",
       "Parch            int64\n",
       "Ticket          object\n",
       "Fare           float64\n",
       "Cabin           object\n",
       "Embarked        object\n",
       "dtype: object"
      ]
     },
     "execution_count": 78,
     "metadata": {},
     "output_type": "execute_result"
    }
   ],
   "source": [
    "train.dtypes"
   ]
  },
  {
   "cell_type": "code",
   "execution_count": 81,
   "metadata": {
    "collapsed": false
   },
   "outputs": [],
   "source": [
    "title_dic={' Mr. ':0, ' Mrs.':1, ' Miss':2, ' Mast':3, ' Don.':4, ' Rev.':5, ' Dr. ':6,\n",
    "       ' Mme.':7, ' Ms. ':8, ' Majo':9, ' Lady':10, ' Sir.':11, ' Mlle':12, ' Col.':13,\n",
    "       ' Capt':14, ' the ':15, ' Jonk':16, ' Dona':17}\n",
    "def add_title(train):\n",
    "    #title\n",
    "    train['Title']=map(lambda x: x[x.index(',')+1:x.index(',')+6],train['Name'])\n",
    "    titles=train['Title'].unique()\n",
    "    titles\n",
    "    train['Title']=map(lambda x: title_dic[x],train['Title'])\n",
    "\n",
    "    return train\n",
    "\n",
    "def filling_age(train):\n",
    "    meanlist=[train[train['Title']==x]['Age'].mean() for x in title_dic.values()]\n",
    "    meanlist=pd.DataFrame(meanlist)\n",
    "    meanlist['Title']=[title_dic[title_dic.keys()[x]] for x in np.arange(0,18,1)]\n",
    "    meanlist.columns=['mean','Title']\n",
    "    \n",
    "    train=pd.merge(train,meanlist,how='outer',on='Title')\n",
    "    train=train.dropna(subset=['PassengerId'])\n",
    "    train=train.sort('PassengerId')\n",
    "    train=train.reset_index(drop=True)\n",
    "    \n",
    "    train.loc[train['Age'].isnull(),'Age'] = train['mean']\n",
    "#     train['Embarked'].fillna('Missing',inplace=True)\n",
    "    train['Cabin'].fillna('Missing',inplace=True)\n",
    "    train['Sex'].fillna('Missing',inplace=True)\n",
    "#     train['Fare'].fillna(np.mean(train['Fare']),inplace=True)##########\n",
    "    train['Age'].fillna(np.mean(train['Age']),inplace=True)##########\n",
    "    \n",
    "    sex_dic={'male':0,'female':1,'Missing':2}\n",
    "    embarked_dic={'S':0,'C':1,'Q':2,'Missing':3}\n",
    "    train['Sex']=map(lambda x: sex_dic[x],train['Sex'])\n",
    "#     train['Embarked']=map(lambda x: embarked_dic[x],train['Embarked'])\n",
    "\n",
    "    train['Cabin']=map(lambda x: x[0],train['Cabin'])\n",
    "    train=train.drop('mean',axis=1)\n",
    "    \n",
    "    return train\n",
    "\n",
    "def dropping(train):\n",
    "    train=train.drop(['Name','Ticket','Cabin'],axis=1)\n",
    "    return train\n",
    "\n",
    "def cleaning(train):\n",
    "    train=add_title(train)\n",
    "    train=filling_age(train)\n",
    "    train=dropping(train)\n",
    "    train['PassengerId']=train['PassengerId'].astype(int)\n",
    "    \n",
    "    most_common_port = train['Embarked'].mode()[0]\n",
    "    train['Embarked'] = train['Embarked'].fillna(most_common_port)\n",
    "    dummies = pd.get_dummies(train['Embarked'], prefix='Port')\n",
    "    train = pd.concat([train, dummies], axis=1)\n",
    "    train=train.drop('Embarked',axis=1)\n",
    "    \n",
    "    fare_by_pclass = train[train['Fare'] > 0].groupby('Pclass')['Fare'].agg(np.median).to_dict()\n",
    "    train['Fare'] = train.apply(lambda r: r['Fare'] if r['Fare'] > 0 \n",
    "                      else fare_by_pclass.get(r['Pclass']), axis=1)\n",
    "    train=train.drop('Title',axis=1)\n",
    "    \n",
    "    return train"
   ]
  },
  {
   "cell_type": "code",
   "execution_count": 82,
   "metadata": {
    "collapsed": false
   },
   "outputs": [],
   "source": [
    "train=cleaning(train)"
   ]
  },
  {
   "cell_type": "code",
   "execution_count": 83,
   "metadata": {
    "collapsed": false
   },
   "outputs": [
    {
     "data": {
      "text/html": [
       "<div style=\"max-height:1000px;max-width:1500px;overflow:auto;\">\n",
       "<table border=\"1\" class=\"dataframe\">\n",
       "  <thead>\n",
       "    <tr style=\"text-align: right;\">\n",
       "      <th></th>\n",
       "      <th>PassengerId</th>\n",
       "      <th>Survived</th>\n",
       "      <th>Pclass</th>\n",
       "      <th>Sex</th>\n",
       "      <th>Age</th>\n",
       "      <th>SibSp</th>\n",
       "      <th>Parch</th>\n",
       "      <th>Fare</th>\n",
       "      <th>Port_C</th>\n",
       "      <th>Port_Q</th>\n",
       "      <th>Port_S</th>\n",
       "    </tr>\n",
       "  </thead>\n",
       "  <tbody>\n",
       "    <tr>\n",
       "      <th>886</th>\n",
       "      <td> 887</td>\n",
       "      <td> 0</td>\n",
       "      <td> 2</td>\n",
       "      <td> 0</td>\n",
       "      <td> 27.000000</td>\n",
       "      <td> 0</td>\n",
       "      <td> 0</td>\n",
       "      <td> 13.00</td>\n",
       "      <td> 0</td>\n",
       "      <td> 0</td>\n",
       "      <td> 1</td>\n",
       "    </tr>\n",
       "    <tr>\n",
       "      <th>887</th>\n",
       "      <td> 888</td>\n",
       "      <td> 1</td>\n",
       "      <td> 1</td>\n",
       "      <td> 1</td>\n",
       "      <td> 19.000000</td>\n",
       "      <td> 0</td>\n",
       "      <td> 0</td>\n",
       "      <td> 30.00</td>\n",
       "      <td> 0</td>\n",
       "      <td> 0</td>\n",
       "      <td> 1</td>\n",
       "    </tr>\n",
       "    <tr>\n",
       "      <th>888</th>\n",
       "      <td> 889</td>\n",
       "      <td> 0</td>\n",
       "      <td> 3</td>\n",
       "      <td> 1</td>\n",
       "      <td> 21.773973</td>\n",
       "      <td> 1</td>\n",
       "      <td> 2</td>\n",
       "      <td> 23.45</td>\n",
       "      <td> 0</td>\n",
       "      <td> 0</td>\n",
       "      <td> 1</td>\n",
       "    </tr>\n",
       "    <tr>\n",
       "      <th>889</th>\n",
       "      <td> 890</td>\n",
       "      <td> 1</td>\n",
       "      <td> 1</td>\n",
       "      <td> 0</td>\n",
       "      <td> 26.000000</td>\n",
       "      <td> 0</td>\n",
       "      <td> 0</td>\n",
       "      <td> 30.00</td>\n",
       "      <td> 1</td>\n",
       "      <td> 0</td>\n",
       "      <td> 0</td>\n",
       "    </tr>\n",
       "    <tr>\n",
       "      <th>890</th>\n",
       "      <td> 891</td>\n",
       "      <td> 0</td>\n",
       "      <td> 3</td>\n",
       "      <td> 0</td>\n",
       "      <td> 32.000000</td>\n",
       "      <td> 0</td>\n",
       "      <td> 0</td>\n",
       "      <td>  7.75</td>\n",
       "      <td> 0</td>\n",
       "      <td> 1</td>\n",
       "      <td> 0</td>\n",
       "    </tr>\n",
       "  </tbody>\n",
       "</table>\n",
       "</div>"
      ],
      "text/plain": [
       "     PassengerId  Survived  Pclass  Sex        Age  SibSp  Parch   Fare  \\\n",
       "886          887         0       2    0  27.000000      0      0  13.00   \n",
       "887          888         1       1    1  19.000000      0      0  30.00   \n",
       "888          889         0       3    1  21.773973      1      2  23.45   \n",
       "889          890         1       1    0  26.000000      0      0  30.00   \n",
       "890          891         0       3    0  32.000000      0      0   7.75   \n",
       "\n",
       "     Port_C  Port_Q  Port_S  \n",
       "886       0       0       1  \n",
       "887       0       0       1  \n",
       "888       0       0       1  \n",
       "889       1       0       0  \n",
       "890       0       1       0  "
      ]
     },
     "execution_count": 83,
     "metadata": {},
     "output_type": "execute_result"
    }
   ],
   "source": [
    "train.tail()"
   ]
  },
  {
   "cell_type": "code",
   "execution_count": 84,
   "metadata": {
    "collapsed": true
   },
   "outputs": [],
   "source": [
    "_train=train"
   ]
  },
  {
   "cell_type": "markdown",
   "metadata": {},
   "source": [
    "train\n",
    "---"
   ]
  },
  {
   "cell_type": "code",
   "execution_count": 85,
   "metadata": {
    "collapsed": true
   },
   "outputs": [],
   "source": [
    "X=train[train.columns[2:]].as_matrix()\n",
    "y = train['Survived'].as_matrix()"
   ]
  },
  {
   "cell_type": "code",
   "execution_count": 86,
   "metadata": {
    "collapsed": false
   },
   "outputs": [
    {
     "name": "stdout",
     "output_type": "stream",
     "text": [
      "accuracy: 0.799102\n"
     ]
    }
   ],
   "source": [
    "cv = StratifiedKFold(y, n_folds=6)\n",
    "tot_correct, tot_obs = 0, 0\n",
    "\n",
    "for i, (train, test) in enumerate(cv):\n",
    "    X_train = X[train]\n",
    "    y_train = y[train]\n",
    "    X_test = X[test]\n",
    "    y_test = y[test]\n",
    "\n",
    "    model = sk.RandomForestClassifier(random_state=321) \n",
    "    model.fit(X_train, y_train)\n",
    "\n",
    "    y_pred = model.predict(X_test)\n",
    "    \n",
    "    correct, obs = (y_test == y_pred).sum(), len(y_test)\n",
    "    tot_correct += correct\n",
    "    tot_obs += obs\n",
    "\n",
    "print 'accuracy: %f' % (tot_correct * 1.0 / tot_obs)"
   ]
  },
  {
   "cell_type": "code",
   "execution_count": 87,
   "metadata": {
    "collapsed": false
   },
   "outputs": [
    {
     "data": {
      "text/plain": [
       "Fare      0.270450\n",
       "Sex       0.267859\n",
       "Age       0.257774\n",
       "Pclass    0.083892\n",
       "SibSp     0.052189\n",
       "Parch     0.039487\n",
       "Port_C    0.012654\n",
       "Port_S    0.008586\n",
       "Port_Q    0.007109\n",
       "dtype: float64"
      ]
     },
     "execution_count": 87,
     "metadata": {},
     "output_type": "execute_result"
    }
   ],
   "source": [
    "x_cols =_train.columns[2:]\n",
    "model = sk.RandomForestClassifier(random_state=321)\n",
    "model.fit(X, y)\n",
    "\n",
    "feature_rank = pd.Series(model.feature_importances_, index=x_cols).order(ascending=False)\n",
    "feature_rank"
   ]
  },
  {
   "cell_type": "code",
   "execution_count": 88,
   "metadata": {
    "collapsed": false
   },
   "outputs": [
    {
     "name": "stdout",
     "output_type": "stream",
     "text": [
      "0.840628507295\n",
      "{'max_features': 0.6, 'n_estimators': 50, 'criterion': 'gini', 'max_depth': 8}\n"
     ]
    }
   ],
   "source": [
    "param_grid = {\n",
    "    \"n_estimators\": [40,50,60],\n",
    "    \"criterion\": [\"gini\", \"entropy\"],\n",
    "    'max_features': [0.4,0.5,0.6, \"sqrt\"],\n",
    "    'max_depth': [8,9,10,None],\n",
    "}\n",
    "\n",
    "model = sk.RandomForestClassifier(random_state=321)\n",
    "grid_search = GridSearchCV(model, param_grid, cv=12, verbose=0)\n",
    "grid_search.fit(X, y)\n",
    "\n",
    "print grid_search.best_score_\n",
    "print grid_search.best_params_"
   ]
  },
  {
   "cell_type": "code",
   "execution_count": 89,
   "metadata": {
    "collapsed": false
   },
   "outputs": [
    {
     "name": "stdout",
     "output_type": "stream",
     "text": [
      "(418, 10)\n"
     ]
    },
    {
     "data": {
      "text/html": [
       "<div style=\"max-height:1000px;max-width:1500px;overflow:auto;\">\n",
       "<table border=\"1\" class=\"dataframe\">\n",
       "  <thead>\n",
       "    <tr style=\"text-align: right;\">\n",
       "      <th></th>\n",
       "      <th>PassengerId</th>\n",
       "      <th>Pclass</th>\n",
       "      <th>Sex</th>\n",
       "      <th>Age</th>\n",
       "      <th>SibSp</th>\n",
       "      <th>Parch</th>\n",
       "      <th>Fare</th>\n",
       "      <th>Port_C</th>\n",
       "      <th>Port_Q</th>\n",
       "      <th>Port_S</th>\n",
       "    </tr>\n",
       "  </thead>\n",
       "  <tbody>\n",
       "    <tr>\n",
       "      <th>413</th>\n",
       "      <td> 1305</td>\n",
       "      <td> 3</td>\n",
       "      <td> 0</td>\n",
       "      <td> 32.000000</td>\n",
       "      <td> 0</td>\n",
       "      <td> 0</td>\n",
       "      <td>   8.0500</td>\n",
       "      <td> 0</td>\n",
       "      <td> 0</td>\n",
       "      <td> 1</td>\n",
       "    </tr>\n",
       "    <tr>\n",
       "      <th>414</th>\n",
       "      <td> 1306</td>\n",
       "      <td> 1</td>\n",
       "      <td> 1</td>\n",
       "      <td> 39.000000</td>\n",
       "      <td> 0</td>\n",
       "      <td> 0</td>\n",
       "      <td> 108.9000</td>\n",
       "      <td> 1</td>\n",
       "      <td> 0</td>\n",
       "      <td> 0</td>\n",
       "    </tr>\n",
       "    <tr>\n",
       "      <th>415</th>\n",
       "      <td> 1307</td>\n",
       "      <td> 3</td>\n",
       "      <td> 0</td>\n",
       "      <td> 38.500000</td>\n",
       "      <td> 0</td>\n",
       "      <td> 0</td>\n",
       "      <td>   7.2500</td>\n",
       "      <td> 0</td>\n",
       "      <td> 0</td>\n",
       "      <td> 1</td>\n",
       "    </tr>\n",
       "    <tr>\n",
       "      <th>416</th>\n",
       "      <td> 1308</td>\n",
       "      <td> 3</td>\n",
       "      <td> 0</td>\n",
       "      <td> 32.000000</td>\n",
       "      <td> 0</td>\n",
       "      <td> 0</td>\n",
       "      <td>   8.0500</td>\n",
       "      <td> 0</td>\n",
       "      <td> 0</td>\n",
       "      <td> 1</td>\n",
       "    </tr>\n",
       "    <tr>\n",
       "      <th>417</th>\n",
       "      <td> 1309</td>\n",
       "      <td> 3</td>\n",
       "      <td> 0</td>\n",
       "      <td>  7.406471</td>\n",
       "      <td> 1</td>\n",
       "      <td> 1</td>\n",
       "      <td>  22.3583</td>\n",
       "      <td> 1</td>\n",
       "      <td> 0</td>\n",
       "      <td> 0</td>\n",
       "    </tr>\n",
       "  </tbody>\n",
       "</table>\n",
       "</div>"
      ],
      "text/plain": [
       "     PassengerId  Pclass  Sex        Age  SibSp  Parch      Fare  Port_C  \\\n",
       "413         1305       3    0  32.000000      0      0    8.0500       0   \n",
       "414         1306       1    1  39.000000      0      0  108.9000       1   \n",
       "415         1307       3    0  38.500000      0      0    7.2500       0   \n",
       "416         1308       3    0  32.000000      0      0    8.0500       0   \n",
       "417         1309       3    0   7.406471      1      1   22.3583       1   \n",
       "\n",
       "     Port_Q  Port_S  \n",
       "413       0       1  \n",
       "414       0       0  \n",
       "415       0       1  \n",
       "416       0       1  \n",
       "417       0       0  "
      ]
     },
     "execution_count": 89,
     "metadata": {},
     "output_type": "execute_result"
    }
   ],
   "source": [
    "test=pd.read_csv('test.csv')\n",
    "#test.tail()\n",
    "test=cleaning(test)\n",
    "print test.shape\n",
    "test.tail()"
   ]
  },
  {
   "cell_type": "code",
   "execution_count": 90,
   "metadata": {
    "collapsed": false
   },
   "outputs": [
    {
     "name": "stdout",
     "output_type": "stream",
     "text": [
      "boom.\n"
     ]
    }
   ],
   "source": [
    "# train model with best parameters from grid search\n",
    "# and finally predict survival of people from test data\n",
    "\n",
    "X_train = _train[x_cols].as_matrix()\n",
    "y_train = _train['Survived'].as_matrix()\n",
    "\n",
    "model = sk.RandomForestClassifier(\n",
    "    n_estimators=100, \n",
    "    criterion='entropy', \n",
    "    max_features=0.5, \n",
    "    max_depth=9,\n",
    "    random_state=321,\n",
    ")\n",
    "\n",
    "model.fit(X_train, y_train)\n",
    "\n",
    "X_test = test[x_cols].as_matrix()\n",
    "y_pred = model.predict(X_test).astype(int)\n",
    "\n",
    "test['Survived'] = y_pred\n",
    "\n",
    "final_df = test[['PassengerId', 'Survived']]\n",
    "final_df.to_csv('predicted.csv', index=False)\n",
    "print 'boom.'"
   ]
  },
  {
   "cell_type": "code",
   "execution_count": null,
   "metadata": {
    "collapsed": true
   },
   "outputs": [],
   "source": []
  },
  {
   "cell_type": "code",
   "execution_count": null,
   "metadata": {
    "collapsed": true
   },
   "outputs": [],
   "source": []
  },
  {
   "cell_type": "code",
   "execution_count": null,
   "metadata": {
    "collapsed": true
   },
   "outputs": [],
   "source": []
  },
  {
   "cell_type": "code",
   "execution_count": null,
   "metadata": {
    "collapsed": true
   },
   "outputs": [],
   "source": []
  },
  {
   "cell_type": "code",
   "execution_count": null,
   "metadata": {
    "collapsed": true
   },
   "outputs": [],
   "source": []
  },
  {
   "cell_type": "code",
   "execution_count": null,
   "metadata": {
    "collapsed": true
   },
   "outputs": [],
   "source": []
  },
  {
   "cell_type": "code",
   "execution_count": null,
   "metadata": {
    "collapsed": true
   },
   "outputs": [],
   "source": []
  },
  {
   "cell_type": "code",
   "execution_count": null,
   "metadata": {
    "collapsed": true
   },
   "outputs": [],
   "source": []
  },
  {
   "cell_type": "code",
   "execution_count": null,
   "metadata": {
    "collapsed": true
   },
   "outputs": [],
   "source": []
  },
  {
   "cell_type": "code",
   "execution_count": null,
   "metadata": {
    "collapsed": true
   },
   "outputs": [],
   "source": []
  }
 ],
 "metadata": {
  "kernelspec": {
   "display_name": "Python 2",
   "language": "python",
   "name": "python2"
  },
  "language_info": {
   "codemirror_mode": {
    "name": "ipython",
    "version": 2
   },
   "file_extension": ".py",
   "mimetype": "text/x-python",
   "name": "python",
   "nbconvert_exporter": "python",
   "pygments_lexer": "ipython2",
   "version": "2.7.10"
  }
 },
 "nbformat": 4,
 "nbformat_minor": 0
}
