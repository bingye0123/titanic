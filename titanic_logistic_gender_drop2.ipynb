{
 "cells": [
  {
   "cell_type": "code",
   "execution_count": 6,
   "metadata": {
    "collapsed": false
   },
   "outputs": [
    {
     "name": "stdout",
     "output_type": "stream",
     "text": [
      "Populating the interactive namespace from numpy and matplotlib\n"
     ]
    }
   ],
   "source": [
    "import requests\n",
    "import numpy as np\n",
    "import pandas as pd\n",
    "import sklearn.ensemble as sk\n",
    "import sklearn\n",
    "import statsmodels.api as sm\n",
    "import matplotlib.pyplot as plt\n",
    "%matplotlib inline\n",
    "%pylab inline"
   ]
  },
  {
   "cell_type": "code",
   "execution_count": 7,
   "metadata": {
    "collapsed": false
   },
   "outputs": [
    {
     "data": {
      "text/html": [
       "<div style=\"max-height:1000px;max-width:1500px;overflow:auto;\">\n",
       "<table border=\"1\" class=\"dataframe\">\n",
       "  <thead>\n",
       "    <tr style=\"text-align: right;\">\n",
       "      <th></th>\n",
       "      <th>PassengerId</th>\n",
       "      <th>Survived</th>\n",
       "      <th>Pclass</th>\n",
       "      <th>Name</th>\n",
       "      <th>Sex</th>\n",
       "      <th>Age</th>\n",
       "      <th>SibSp</th>\n",
       "      <th>Parch</th>\n",
       "      <th>Ticket</th>\n",
       "      <th>Fare</th>\n",
       "      <th>Cabin</th>\n",
       "      <th>Embarked</th>\n",
       "    </tr>\n",
       "  </thead>\n",
       "  <tbody>\n",
       "    <tr>\n",
       "      <th>0</th>\n",
       "      <td> 1</td>\n",
       "      <td> 0</td>\n",
       "      <td> 3</td>\n",
       "      <td>                           Braund, Mr. Owen Harris</td>\n",
       "      <td>   male</td>\n",
       "      <td> 22</td>\n",
       "      <td> 1</td>\n",
       "      <td> 0</td>\n",
       "      <td>        A/5 21171</td>\n",
       "      <td>  7.2500</td>\n",
       "      <td>  NaN</td>\n",
       "      <td> S</td>\n",
       "    </tr>\n",
       "    <tr>\n",
       "      <th>1</th>\n",
       "      <td> 2</td>\n",
       "      <td> 1</td>\n",
       "      <td> 1</td>\n",
       "      <td> Cumings, Mrs. John Bradley (Florence Briggs Th...</td>\n",
       "      <td> female</td>\n",
       "      <td> 38</td>\n",
       "      <td> 1</td>\n",
       "      <td> 0</td>\n",
       "      <td>         PC 17599</td>\n",
       "      <td> 71.2833</td>\n",
       "      <td>  C85</td>\n",
       "      <td> C</td>\n",
       "    </tr>\n",
       "    <tr>\n",
       "      <th>2</th>\n",
       "      <td> 3</td>\n",
       "      <td> 1</td>\n",
       "      <td> 3</td>\n",
       "      <td>                            Heikkinen, Miss. Laina</td>\n",
       "      <td> female</td>\n",
       "      <td> 26</td>\n",
       "      <td> 0</td>\n",
       "      <td> 0</td>\n",
       "      <td> STON/O2. 3101282</td>\n",
       "      <td>  7.9250</td>\n",
       "      <td>  NaN</td>\n",
       "      <td> S</td>\n",
       "    </tr>\n",
       "    <tr>\n",
       "      <th>3</th>\n",
       "      <td> 4</td>\n",
       "      <td> 1</td>\n",
       "      <td> 1</td>\n",
       "      <td>      Futrelle, Mrs. Jacques Heath (Lily May Peel)</td>\n",
       "      <td> female</td>\n",
       "      <td> 35</td>\n",
       "      <td> 1</td>\n",
       "      <td> 0</td>\n",
       "      <td>           113803</td>\n",
       "      <td> 53.1000</td>\n",
       "      <td> C123</td>\n",
       "      <td> S</td>\n",
       "    </tr>\n",
       "    <tr>\n",
       "      <th>4</th>\n",
       "      <td> 5</td>\n",
       "      <td> 0</td>\n",
       "      <td> 3</td>\n",
       "      <td>                          Allen, Mr. William Henry</td>\n",
       "      <td>   male</td>\n",
       "      <td> 35</td>\n",
       "      <td> 0</td>\n",
       "      <td> 0</td>\n",
       "      <td>           373450</td>\n",
       "      <td>  8.0500</td>\n",
       "      <td>  NaN</td>\n",
       "      <td> S</td>\n",
       "    </tr>\n",
       "  </tbody>\n",
       "</table>\n",
       "</div>"
      ],
      "text/plain": [
       "   PassengerId  Survived  Pclass  \\\n",
       "0            1         0       3   \n",
       "1            2         1       1   \n",
       "2            3         1       3   \n",
       "3            4         1       1   \n",
       "4            5         0       3   \n",
       "\n",
       "                                                Name     Sex  Age  SibSp  \\\n",
       "0                            Braund, Mr. Owen Harris    male   22      1   \n",
       "1  Cumings, Mrs. John Bradley (Florence Briggs Th...  female   38      1   \n",
       "2                             Heikkinen, Miss. Laina  female   26      0   \n",
       "3       Futrelle, Mrs. Jacques Heath (Lily May Peel)  female   35      1   \n",
       "4                           Allen, Mr. William Henry    male   35      0   \n",
       "\n",
       "   Parch            Ticket     Fare Cabin Embarked  \n",
       "0      0         A/5 21171   7.2500   NaN        S  \n",
       "1      0          PC 17599  71.2833   C85        C  \n",
       "2      0  STON/O2. 3101282   7.9250   NaN        S  \n",
       "3      0            113803  53.1000  C123        S  \n",
       "4      0            373450   8.0500   NaN        S  "
      ]
     },
     "execution_count": 7,
     "metadata": {},
     "output_type": "execute_result"
    }
   ],
   "source": [
    "train=pd.read_csv('train.csv')\n",
    "train.head()"
   ]
  },
  {
   "cell_type": "markdown",
   "metadata": {},
   "source": [
    "1. Creat three train data subsets: (1) with all features (2) without age\n",
    "==="
   ]
  },
  {
   "cell_type": "code",
   "execution_count": 8,
   "metadata": {
    "collapsed": false
   },
   "outputs": [
    {
     "name": "stdout",
     "output_type": "stream",
     "text": [
      "(714, 6)\n",
      "(891, 5)\n",
      "(891, 12)\n"
     ]
    }
   ],
   "source": [
    "train1=train[['PassengerId','Pclass','Sex','Age','SibSp','Survived']].copy()\n",
    "train2=train[['PassengerId','Pclass','Sex','SibSp','Survived']].copy()\n",
    "train1=train1.dropna()\n",
    "train2=train2.dropna()\n",
    "print train1.shape\n",
    "print train2.shape\n",
    "print train.shape"
   ]
  },
  {
   "cell_type": "code",
   "execution_count": 9,
   "metadata": {
    "collapsed": false
   },
   "outputs": [],
   "source": [
    "sex_dic={'male':0,'female':1}\n",
    "embarked_dic={'S':0,'C':1,'Q':2}\n",
    "def rename(df):\n",
    "    df['Sex']=map(lambda x: sex_dic[x],df['Sex'])\n",
    "    #df['Embarked']=map(lambda x: embarked_dic[x],df['Embarked'])\n",
    "    return df\n",
    "train1=rename(train1)\n",
    "train2=rename(train2)"
   ]
  },
  {
   "cell_type": "code",
   "execution_count": 10,
   "metadata": {
    "collapsed": false
   },
   "outputs": [
    {
     "name": "stdout",
     "output_type": "stream",
     "text": [
      "(478, 6)\n",
      "(236, 6)\n",
      "(596, 5)\n",
      "(295, 5)\n"
     ]
    }
   ],
   "source": [
    "sub_train1,sub_val1=sklearn.cross_validation.train_test_split(train1,test_size=0.33,random_state=99)\n",
    "sub_train1=pd.DataFrame(sub_train1)\n",
    "sub_train1.columns=train1.columns\n",
    "sub_val1=pd.DataFrame(sub_val1)\n",
    "sub_val1.columns=train1.columns\n",
    "print sub_train1.shape\n",
    "print sub_val1.shape\n",
    "\n",
    "sub_train2,sub_val2=sklearn.cross_validation.train_test_split(train2,test_size=0.33,random_state=99)\n",
    "sub_train2=pd.DataFrame(sub_train2)\n",
    "sub_train2.columns=train2.columns\n",
    "sub_val2=pd.DataFrame(sub_val2)\n",
    "sub_val2.columns=train2.columns\n",
    "print sub_train2.shape\n",
    "print sub_val2.shape"
   ]
  },
  {
   "cell_type": "markdown",
   "metadata": {},
   "source": [
    "2. Import test data and split into three subsets: test1,test2\n",
    "==="
   ]
  },
  {
   "cell_type": "code",
   "execution_count": 11,
   "metadata": {
    "collapsed": false
   },
   "outputs": [
    {
     "name": "stdout",
     "output_type": "stream",
     "text": [
      "(418, 5)\n"
     ]
    },
    {
     "data": {
      "text/html": [
       "<div style=\"max-height:1000px;max-width:1500px;overflow:auto;\">\n",
       "<table border=\"1\" class=\"dataframe\">\n",
       "  <thead>\n",
       "    <tr style=\"text-align: right;\">\n",
       "      <th></th>\n",
       "      <th>PassengerId</th>\n",
       "      <th>Pclass</th>\n",
       "      <th>Sex</th>\n",
       "      <th>Age</th>\n",
       "      <th>SibSp</th>\n",
       "    </tr>\n",
       "  </thead>\n",
       "  <tbody>\n",
       "    <tr>\n",
       "      <th>0</th>\n",
       "      <td> 892</td>\n",
       "      <td> 3</td>\n",
       "      <td>   male</td>\n",
       "      <td> 34.5</td>\n",
       "      <td> 0</td>\n",
       "    </tr>\n",
       "    <tr>\n",
       "      <th>1</th>\n",
       "      <td> 893</td>\n",
       "      <td> 3</td>\n",
       "      <td> female</td>\n",
       "      <td> 47.0</td>\n",
       "      <td> 1</td>\n",
       "    </tr>\n",
       "    <tr>\n",
       "      <th>2</th>\n",
       "      <td> 894</td>\n",
       "      <td> 2</td>\n",
       "      <td>   male</td>\n",
       "      <td> 62.0</td>\n",
       "      <td> 0</td>\n",
       "    </tr>\n",
       "    <tr>\n",
       "      <th>3</th>\n",
       "      <td> 895</td>\n",
       "      <td> 3</td>\n",
       "      <td>   male</td>\n",
       "      <td> 27.0</td>\n",
       "      <td> 0</td>\n",
       "    </tr>\n",
       "    <tr>\n",
       "      <th>4</th>\n",
       "      <td> 896</td>\n",
       "      <td> 3</td>\n",
       "      <td> female</td>\n",
       "      <td> 22.0</td>\n",
       "      <td> 1</td>\n",
       "    </tr>\n",
       "  </tbody>\n",
       "</table>\n",
       "</div>"
      ],
      "text/plain": [
       "   PassengerId  Pclass     Sex   Age  SibSp\n",
       "0          892       3    male  34.5      0\n",
       "1          893       3  female  47.0      1\n",
       "2          894       2    male  62.0      0\n",
       "3          895       3    male  27.0      0\n",
       "4          896       3  female  22.0      1"
      ]
     },
     "execution_count": 11,
     "metadata": {},
     "output_type": "execute_result"
    }
   ],
   "source": [
    "test=pd.read_csv('test.csv')\n",
    "test_sub=test[['PassengerId','Pclass','Sex','Age','SibSp']].copy()\n",
    "print test_sub.shape\n",
    "test_sub.head()"
   ]
  },
  {
   "cell_type": "code",
   "execution_count": 12,
   "metadata": {
    "collapsed": false
   },
   "outputs": [
    {
     "name": "stdout",
     "output_type": "stream",
     "text": [
      "(332, 5)\n"
     ]
    },
    {
     "name": "stderr",
     "output_type": "stream",
     "text": [
      "/anaconda/lib/python2.7/site-packages/IPython/kernel/__main__.py:4: SettingWithCopyWarning: \n",
      "A value is trying to be set on a copy of a slice from a DataFrame.\n",
      "Try using .loc[row_indexer,col_indexer] = value instead\n",
      "\n",
      "See the the caveats in the documentation: http://pandas.pydata.org/pandas-docs/stable/indexing.html#indexing-view-versus-copy\n"
     ]
    },
    {
     "data": {
      "text/html": [
       "<div style=\"max-height:1000px;max-width:1500px;overflow:auto;\">\n",
       "<table border=\"1\" class=\"dataframe\">\n",
       "  <thead>\n",
       "    <tr style=\"text-align: right;\">\n",
       "      <th></th>\n",
       "      <th>PassengerId</th>\n",
       "      <th>Pclass</th>\n",
       "      <th>Sex</th>\n",
       "      <th>Age</th>\n",
       "      <th>SibSp</th>\n",
       "    </tr>\n",
       "  </thead>\n",
       "  <tbody>\n",
       "    <tr>\n",
       "      <th>0</th>\n",
       "      <td> 892</td>\n",
       "      <td> 3</td>\n",
       "      <td> 0</td>\n",
       "      <td> 34.5</td>\n",
       "      <td> 0</td>\n",
       "    </tr>\n",
       "    <tr>\n",
       "      <th>1</th>\n",
       "      <td> 893</td>\n",
       "      <td> 3</td>\n",
       "      <td> 1</td>\n",
       "      <td> 47.0</td>\n",
       "      <td> 1</td>\n",
       "    </tr>\n",
       "    <tr>\n",
       "      <th>2</th>\n",
       "      <td> 894</td>\n",
       "      <td> 2</td>\n",
       "      <td> 0</td>\n",
       "      <td> 62.0</td>\n",
       "      <td> 0</td>\n",
       "    </tr>\n",
       "    <tr>\n",
       "      <th>3</th>\n",
       "      <td> 895</td>\n",
       "      <td> 3</td>\n",
       "      <td> 0</td>\n",
       "      <td> 27.0</td>\n",
       "      <td> 0</td>\n",
       "    </tr>\n",
       "    <tr>\n",
       "      <th>4</th>\n",
       "      <td> 896</td>\n",
       "      <td> 3</td>\n",
       "      <td> 1</td>\n",
       "      <td> 22.0</td>\n",
       "      <td> 1</td>\n",
       "    </tr>\n",
       "  </tbody>\n",
       "</table>\n",
       "</div>"
      ],
      "text/plain": [
       "   PassengerId  Pclass  Sex   Age  SibSp\n",
       "0          892       3    0  34.5      0\n",
       "1          893       3    1  47.0      1\n",
       "2          894       2    0  62.0      0\n",
       "3          895       3    0  27.0      0\n",
       "4          896       3    1  22.0      1"
      ]
     },
     "execution_count": 12,
     "metadata": {},
     "output_type": "execute_result"
    }
   ],
   "source": [
    "test1=test_sub\n",
    "test1=test1.dropna()\n",
    "test1=rename(test1)\n",
    "print test1.shape\n",
    "test1.head()"
   ]
  },
  {
   "cell_type": "code",
   "execution_count": 13,
   "metadata": {
    "collapsed": false
   },
   "outputs": [
    {
     "name": "stdout",
     "output_type": "stream",
     "text": [
      "(86, 5)\n",
      "(86, 4)\n",
      "True\n"
     ]
    }
   ],
   "source": [
    "test_nan=test_sub[test_sub.isnull().any(axis=1)]\n",
    "print test_nan.shape\n",
    "\n",
    "test2=test_nan.drop('Age',axis=1)\n",
    "test2=test2.dropna()\n",
    "test2=rename(test2)\n",
    "print test2.shape\n",
    "\n",
    "print test.shape[0]==test1.shape[0]+test2.shape[0]"
   ]
  },
  {
   "cell_type": "code",
   "execution_count": 14,
   "metadata": {
    "collapsed": false
   },
   "outputs": [
    {
     "data": {
      "text/html": [
       "<div style=\"max-height:1000px;max-width:1500px;overflow:auto;\">\n",
       "<table border=\"1\" class=\"dataframe\">\n",
       "  <thead>\n",
       "    <tr style=\"text-align: right;\">\n",
       "      <th></th>\n",
       "      <th>PassengerId</th>\n",
       "      <th>Pclass</th>\n",
       "      <th>Sex</th>\n",
       "      <th>SibSp</th>\n",
       "    </tr>\n",
       "  </thead>\n",
       "  <tbody>\n",
       "    <tr>\n",
       "      <th>10</th>\n",
       "      <td> 902</td>\n",
       "      <td> 3</td>\n",
       "      <td> 0</td>\n",
       "      <td> 0</td>\n",
       "    </tr>\n",
       "    <tr>\n",
       "      <th>22</th>\n",
       "      <td> 914</td>\n",
       "      <td> 1</td>\n",
       "      <td> 1</td>\n",
       "      <td> 0</td>\n",
       "    </tr>\n",
       "    <tr>\n",
       "      <th>29</th>\n",
       "      <td> 921</td>\n",
       "      <td> 3</td>\n",
       "      <td> 0</td>\n",
       "      <td> 2</td>\n",
       "    </tr>\n",
       "    <tr>\n",
       "      <th>33</th>\n",
       "      <td> 925</td>\n",
       "      <td> 3</td>\n",
       "      <td> 1</td>\n",
       "      <td> 1</td>\n",
       "    </tr>\n",
       "    <tr>\n",
       "      <th>36</th>\n",
       "      <td> 928</td>\n",
       "      <td> 3</td>\n",
       "      <td> 1</td>\n",
       "      <td> 0</td>\n",
       "    </tr>\n",
       "  </tbody>\n",
       "</table>\n",
       "</div>"
      ],
      "text/plain": [
       "    PassengerId  Pclass  Sex  SibSp\n",
       "10          902       3    0      0\n",
       "22          914       1    1      0\n",
       "29          921       3    0      2\n",
       "33          925       3    1      1\n",
       "36          928       3    1      0"
      ]
     },
     "execution_count": 14,
     "metadata": {},
     "output_type": "execute_result"
    }
   ],
   "source": [
    "test2.head()"
   ]
  },
  {
   "cell_type": "markdown",
   "metadata": {},
   "source": [
    "3. Train the train data\n",
    "==="
   ]
  },
  {
   "cell_type": "code",
   "execution_count": 16,
   "metadata": {
    "collapsed": true
   },
   "outputs": [],
   "source": [
    "col=[['Pclass','Sex','Age','SibSp','intercept'],\n",
    "      ['Pclass','Sex','SibSp','intercept']]\n",
    "def logistic_regression_train(train,i,col=col):\n",
    "    train['intercept']=1.0\n",
    "    cols=col[i-1]\n",
    "    logit=sm.Logit(train['Survived'],train[cols])\n",
    "    result=logit.fit()\n",
    "    paras=result.params\n",
    "    return paras"
   ]
  },
  {
   "cell_type": "markdown",
   "metadata": {},
   "source": [
    "(1) subset 1\n",
    "---"
   ]
  },
  {
   "cell_type": "code",
   "execution_count": 17,
   "metadata": {
    "collapsed": false
   },
   "outputs": [
    {
     "name": "stdout",
     "output_type": "stream",
     "text": [
      "Optimization terminated successfully.\n",
      "         Current function value: 0.425889\n",
      "         Iterations 6\n"
     ]
    },
    {
     "data": {
      "text/plain": [
       "Pclass      -1.422218\n",
       "Sex          2.687388\n",
       "Age         -0.034991\n",
       "SibSp       -0.498093\n",
       "intercept    2.742212\n",
       "dtype: float64"
      ]
     },
     "execution_count": 17,
     "metadata": {},
     "output_type": "execute_result"
    }
   ],
   "source": [
    "paras1=logistic_regression_train(sub_train1,1)\n",
    "paras1"
   ]
  },
  {
   "cell_type": "markdown",
   "metadata": {},
   "source": [
    "(2) subset 2\n",
    "---"
   ]
  },
  {
   "cell_type": "code",
   "execution_count": 18,
   "metadata": {
    "collapsed": false
   },
   "outputs": [
    {
     "name": "stdout",
     "output_type": "stream",
     "text": [
      "Optimization terminated successfully.\n",
      "         Current function value: 0.434280\n",
      "         Iterations 6\n"
     ]
    },
    {
     "data": {
      "text/plain": [
       "Pclass      -0.983711\n",
       "Sex          3.049841\n",
       "SibSp       -0.318048\n",
       "intercept    0.741856\n",
       "dtype: float64"
      ]
     },
     "execution_count": 18,
     "metadata": {},
     "output_type": "execute_result"
    }
   ],
   "source": [
    "paras2=logistic_regression_train(sub_train2,2)\n",
    "paras2"
   ]
  },
  {
   "cell_type": "markdown",
   "metadata": {},
   "source": [
    "4. Validation and test\n",
    "==="
   ]
  },
  {
   "cell_type": "code",
   "execution_count": 19,
   "metadata": {
    "collapsed": true
   },
   "outputs": [],
   "source": [
    "from math import exp\n",
    "def probability(row,paras):\n",
    "    z=paras[len(paras)-1]\n",
    "    for i in np.arange(0,len(paras)-1):\n",
    "        z=z+row[i]*paras[i]\n",
    "    return 1/(1+exp(-1.0*z))"
   ]
  },
  {
   "cell_type": "markdown",
   "metadata": {},
   "source": [
    "(1) subset 1\n",
    "----"
   ]
  },
  {
   "cell_type": "code",
   "execution_count": 20,
   "metadata": {
    "collapsed": true
   },
   "outputs": [],
   "source": [
    "compare=sub_val1[['Pclass','Sex','Age','SibSp']].copy()\n",
    "pred=[]\n",
    "for ii in np.arange(len(compare.Pclass)):\n",
    "    pred.append(probability(compare.iloc[ii],paras1))\n",
    "sub_val1['Pred']=pred"
   ]
  },
  {
   "cell_type": "markdown",
   "metadata": {},
   "source": [
    "*****\n",
    "compute confusion matrix with gender considered\n",
    "*****"
   ]
  },
  {
   "cell_type": "code",
   "execution_count": 21,
   "metadata": {
    "collapsed": false
   },
   "outputs": [],
   "source": [
    "temp=sub_val1[['Sex','Survived','Pred']].copy()\n",
    "tempmale=temp[temp['Sex']==0]\n",
    "tempfemale=temp[temp['Sex']==1]"
   ]
  },
  {
   "cell_type": "code",
   "execution_count": 22,
   "metadata": {
    "collapsed": true
   },
   "outputs": [],
   "source": [
    "def survive_cm(pp,df):\n",
    "    temp=df[['Survived','Pred']].copy()\n",
    "    temp['TF']=temp['Pred']>=pp\n",
    "    cm=sklearn.metrics.confusion_matrix(temp['Survived'],temp['TF'])\n",
    "    return cm"
   ]
  },
  {
   "cell_type": "code",
   "execution_count": 23,
   "metadata": {
    "collapsed": false
   },
   "outputs": [
    {
     "data": {
      "image/png": "[encoded data removed]",
      "text/plain": [
       "<matplotlib.figure.Figure at 0x10a2f7910>"
      ]
     },
     "metadata": {},
     "output_type": "display_data"
    }
   ],
   "source": [
    "m1=[]\n",
    "xlist=np.linspace(0,1,1000)\n",
    "m1=map(lambda x: survive_cm(x,tempmale),xlist)\n",
    "m2=[]\n",
    "ylist=np.linspace(0,1,1000)\n",
    "m2=map(lambda x: survive_cm(x,tempfemale),ylist)\n",
    "\n",
    "mm=[]\n",
    "for ii in m1:\n",
    "    for jj in m2:\n",
    "        cm=ii+jj\n",
    "        mm.append((cm[0,0]+cm[1,1])*1.0/(cm[0,0]+cm[1,1]+cm[0,1]+cm[1,0]))\n",
    "        \n",
    "mmm=np.reshape(mm, (-1, len(xlist)))\n",
    "\n",
    "\n",
    "contour_levels = np.linspace(0,1,100)\n",
    "plt.contour(xlist,ylist,mmm,levels=contour_levels)\n",
    "plt.colorbar()\n",
    "plt.show()"
   ]
  },
  {
   "cell_type": "code",
   "execution_count": 25,
   "metadata": {
    "collapsed": false
   },
   "outputs": [
    {
     "name": "stdout",
     "output_type": "stream",
     "text": [
      "0.796610169492\n",
      "0.796610169492\n"
     ]
    }
   ],
   "source": [
    "matrix=np.asmatrix(mmm)\n",
    "#print matrix.argmax()\n",
    "#print matrix.argmax(0)\n",
    "#print matrix.argmax(1)\n",
    "print np.max(matrix)\n",
    "ppm=xlist[461]\n",
    "ppf=xlist[0]\n",
    "print matrix[461,0]"
   ]
  },
  {
   "cell_type": "code",
   "execution_count": 26,
   "metadata": {
    "collapsed": false
   },
   "outputs": [
    {
     "name": "stderr",
     "output_type": "stream",
     "text": [
      "/anaconda/lib/python2.7/site-packages/IPython/kernel/__main__.py:5: SettingWithCopyWarning: \n",
      "A value is trying to be set on a copy of a slice from a DataFrame.\n",
      "Try using .loc[row_indexer,col_indexer] = value instead\n",
      "\n",
      "See the the caveats in the documentation: http://pandas.pydata.org/pandas-docs/stable/indexing.html#indexing-view-versus-copy\n",
      "/anaconda/lib/python2.7/site-packages/IPython/kernel/__main__.py:8: SettingWithCopyWarning: \n",
      "A value is trying to be set on a copy of a slice from a DataFrame.\n",
      "Try using .loc[row_indexer,col_indexer] = value instead\n",
      "\n",
      "See the the caveats in the documentation: http://pandas.pydata.org/pandas-docs/stable/indexing.html#indexing-view-versus-copy\n",
      "/anaconda/lib/python2.7/site-packages/IPython/kernel/__main__.py:9: SettingWithCopyWarning: \n",
      "A value is trying to be set on a copy of a slice from a DataFrame.\n",
      "Try using .loc[row_indexer,col_indexer] = value instead\n",
      "\n",
      "See the the caveats in the documentation: http://pandas.pydata.org/pandas-docs/stable/indexing.html#indexing-view-versus-copy\n"
     ]
    }
   ],
   "source": [
    "compare=test1[['Pclass','Sex','Age','SibSp']].copy()\n",
    "pred=[]\n",
    "for ii in np.arange(len(compare.Pclass)):\n",
    "    pred.append(probability(compare.iloc[ii],paras1))\n",
    "test1['Pred']=pred\n",
    "testmale=test1[test1['Sex']==0]\n",
    "testfemale=test1[test1['Sex']==1]\n",
    "testmale['Survived']=1*(testmale['Pred']>=ppm)\n",
    "testfemale['Survived']=1*(testfemale['Pred']>=ppf)\n",
    "test1=(pd.concat([testmale,testfemale])).sort('PassengerId')"
   ]
  },
  {
   "cell_type": "code",
   "execution_count": 27,
   "metadata": {
    "collapsed": false
   },
   "outputs": [
    {
     "data": {
      "text/html": [
       "<div style=\"max-height:1000px;max-width:1500px;overflow:auto;\">\n",
       "<table border=\"1\" class=\"dataframe\">\n",
       "  <thead>\n",
       "    <tr style=\"text-align: right;\">\n",
       "      <th></th>\n",
       "      <th>PassengerId</th>\n",
       "      <th>Pclass</th>\n",
       "      <th>Sex</th>\n",
       "      <th>Age</th>\n",
       "      <th>SibSp</th>\n",
       "      <th>Pred</th>\n",
       "      <th>Survived</th>\n",
       "    </tr>\n",
       "  </thead>\n",
       "  <tbody>\n",
       "    <tr>\n",
       "      <th>0</th>\n",
       "      <td> 892</td>\n",
       "      <td> 3</td>\n",
       "      <td> 0</td>\n",
       "      <td> 34.5</td>\n",
       "      <td> 0</td>\n",
       "      <td> 0.061132</td>\n",
       "      <td> 0</td>\n",
       "    </tr>\n",
       "    <tr>\n",
       "      <th>1</th>\n",
       "      <td> 893</td>\n",
       "      <td> 3</td>\n",
       "      <td> 1</td>\n",
       "      <td> 47.0</td>\n",
       "      <td> 1</td>\n",
       "      <td> 0.272945</td>\n",
       "      <td> 1</td>\n",
       "    </tr>\n",
       "    <tr>\n",
       "      <th>2</th>\n",
       "      <td> 894</td>\n",
       "      <td> 2</td>\n",
       "      <td> 0</td>\n",
       "      <td> 62.0</td>\n",
       "      <td> 0</td>\n",
       "      <td> 0.093496</td>\n",
       "      <td> 0</td>\n",
       "    </tr>\n",
       "    <tr>\n",
       "      <th>3</th>\n",
       "      <td> 895</td>\n",
       "      <td> 3</td>\n",
       "      <td> 0</td>\n",
       "      <td> 27.0</td>\n",
       "      <td> 0</td>\n",
       "      <td> 0.078046</td>\n",
       "      <td> 0</td>\n",
       "    </tr>\n",
       "    <tr>\n",
       "      <th>4</th>\n",
       "      <td> 896</td>\n",
       "      <td> 3</td>\n",
       "      <td> 1</td>\n",
       "      <td> 22.0</td>\n",
       "      <td> 1</td>\n",
       "      <td> 0.473786</td>\n",
       "      <td> 1</td>\n",
       "    </tr>\n",
       "  </tbody>\n",
       "</table>\n",
       "</div>"
      ],
      "text/plain": [
       "   PassengerId  Pclass  Sex   Age  SibSp      Pred  Survived\n",
       "0          892       3    0  34.5      0  0.061132         0\n",
       "1          893       3    1  47.0      1  0.272945         1\n",
       "2          894       2    0  62.0      0  0.093496         0\n",
       "3          895       3    0  27.0      0  0.078046         0\n",
       "4          896       3    1  22.0      1  0.473786         1"
      ]
     },
     "execution_count": 27,
     "metadata": {},
     "output_type": "execute_result"
    }
   ],
   "source": [
    "test1.head()"
   ]
  },
  {
   "cell_type": "markdown",
   "metadata": {},
   "source": [
    "(2) subset 2\n",
    "---"
   ]
  },
  {
   "cell_type": "code",
   "execution_count": 28,
   "metadata": {
    "collapsed": false
   },
   "outputs": [
    {
     "data": {
      "image/png": "[encoded data removed]",
      "text/plain": [
       "<matplotlib.figure.Figure at 0x10ce8d890>"
      ]
     },
     "metadata": {},
     "output_type": "display_data"
    }
   ],
   "source": [
    "compare=sub_val2[['Pclass','Sex','SibSp']].copy()\n",
    "pred=[]\n",
    "for ii in np.arange(len(compare.Pclass)):\n",
    "    pred.append(probability(compare.iloc[ii],paras2))\n",
    "sub_val2['Pred']=pred\n",
    "\n",
    "temp=sub_val2[['Sex','Survived','Pred']].copy()\n",
    "tempmale=temp[temp['Sex']==0]\n",
    "tempfemale=temp[temp['Sex']==1]\n",
    "\n",
    "m1=[]\n",
    "xlist=np.linspace(0,1,1000)\n",
    "m1=map(lambda x: survive_cm(x,tempmale),xlist)\n",
    "m2=[]\n",
    "ylist=np.linspace(0,1,1000)\n",
    "m2=map(lambda x: survive_cm(x,tempfemale),ylist)\n",
    "\n",
    "mm=[]\n",
    "for ii in m1:\n",
    "    for jj in m2:\n",
    "        cm=ii+jj\n",
    "        mm.append((cm[0,0]+cm[1,1])*1.0/(cm[0,0]+cm[1,1]+cm[0,1]+cm[1,0]))\n",
    "        \n",
    "mmm=np.reshape(mm, (-1, len(xlist)))\n",
    "\n",
    "\n",
    "contour_levels = np.linspace(0,1,100)\n",
    "plt.contour(xlist,ylist,mmm,levels=contour_levels)\n",
    "plt.colorbar()\n",
    "plt.show()"
   ]
  },
  {
   "cell_type": "code",
   "execution_count": 30,
   "metadata": {
    "collapsed": false
   },
   "outputs": [
    {
     "name": "stdout",
     "output_type": "stream",
     "text": [
      "0.803389830508\n",
      "0.803389830508\n"
     ]
    }
   ],
   "source": [
    "matrix=np.asmatrix(mmm)\n",
    "#print matrix.argmax()\n",
    "#print matrix.argmax(0)\n",
    "#print matrix.argmax(1)\n",
    "print np.max(matrix)\n",
    "ppm=xlist[440]\n",
    "ppf=xlist[698]\n",
    "print matrix[440,698]"
   ]
  },
  {
   "cell_type": "code",
   "execution_count": 31,
   "metadata": {
    "collapsed": false
   },
   "outputs": [
    {
     "name": "stderr",
     "output_type": "stream",
     "text": [
      "/anaconda/lib/python2.7/site-packages/IPython/kernel/__main__.py:8: SettingWithCopyWarning: \n",
      "A value is trying to be set on a copy of a slice from a DataFrame.\n",
      "Try using .loc[row_indexer,col_indexer] = value instead\n",
      "\n",
      "See the the caveats in the documentation: http://pandas.pydata.org/pandas-docs/stable/indexing.html#indexing-view-versus-copy\n",
      "/anaconda/lib/python2.7/site-packages/IPython/kernel/__main__.py:9: SettingWithCopyWarning: \n",
      "A value is trying to be set on a copy of a slice from a DataFrame.\n",
      "Try using .loc[row_indexer,col_indexer] = value instead\n",
      "\n",
      "See the the caveats in the documentation: http://pandas.pydata.org/pandas-docs/stable/indexing.html#indexing-view-versus-copy\n"
     ]
    }
   ],
   "source": [
    "compare=test2[['Pclass','Sex','SibSp']].copy()\n",
    "pred=[]\n",
    "for ii in np.arange(len(compare.Pclass)):\n",
    "    pred.append(probability(compare.iloc[ii],paras2))\n",
    "test2['Pred']=pred\n",
    "testmale=test2[test2['Sex']==0]\n",
    "testfemale=test2[test2['Sex']==1]\n",
    "testmale['Survived']=1*(testmale['Pred']>=ppm)\n",
    "testfemale['Survived']=1*(testfemale['Pred']>=ppf)\n",
    "test2=(pd.concat([testmale,testfemale])).sort('PassengerId')"
   ]
  },
  {
   "cell_type": "code",
   "execution_count": 32,
   "metadata": {
    "collapsed": false
   },
   "outputs": [
    {
     "data": {
      "text/html": [
       "<div style=\"max-height:1000px;max-width:1500px;overflow:auto;\">\n",
       "<table border=\"1\" class=\"dataframe\">\n",
       "  <thead>\n",
       "    <tr style=\"text-align: right;\">\n",
       "      <th></th>\n",
       "      <th>PassengerId</th>\n",
       "      <th>Pclass</th>\n",
       "      <th>Sex</th>\n",
       "      <th>SibSp</th>\n",
       "      <th>Pred</th>\n",
       "      <th>Survived</th>\n",
       "    </tr>\n",
       "  </thead>\n",
       "  <tbody>\n",
       "    <tr>\n",
       "      <th>10</th>\n",
       "      <td> 902</td>\n",
       "      <td> 3</td>\n",
       "      <td> 0</td>\n",
       "      <td> 0</td>\n",
       "      <td> 0.098921</td>\n",
       "      <td> 0</td>\n",
       "    </tr>\n",
       "    <tr>\n",
       "      <th>22</th>\n",
       "      <td> 914</td>\n",
       "      <td> 1</td>\n",
       "      <td> 1</td>\n",
       "      <td> 0</td>\n",
       "      <td> 0.943106</td>\n",
       "      <td> 1</td>\n",
       "    </tr>\n",
       "    <tr>\n",
       "      <th>29</th>\n",
       "      <td> 921</td>\n",
       "      <td> 3</td>\n",
       "      <td> 0</td>\n",
       "      <td> 2</td>\n",
       "      <td> 0.054921</td>\n",
       "      <td> 0</td>\n",
       "    </tr>\n",
       "    <tr>\n",
       "      <th>33</th>\n",
       "      <td> 925</td>\n",
       "      <td> 3</td>\n",
       "      <td> 1</td>\n",
       "      <td> 1</td>\n",
       "      <td> 0.627736</td>\n",
       "      <td> 0</td>\n",
       "    </tr>\n",
       "    <tr>\n",
       "      <th>36</th>\n",
       "      <td> 928</td>\n",
       "      <td> 3</td>\n",
       "      <td> 1</td>\n",
       "      <td> 0</td>\n",
       "      <td> 0.698584</td>\n",
       "      <td> 0</td>\n",
       "    </tr>\n",
       "  </tbody>\n",
       "</table>\n",
       "</div>"
      ],
      "text/plain": [
       "    PassengerId  Pclass  Sex  SibSp      Pred  Survived\n",
       "10          902       3    0      0  0.098921         0\n",
       "22          914       1    1      0  0.943106         1\n",
       "29          921       3    0      2  0.054921         0\n",
       "33          925       3    1      1  0.627736         0\n",
       "36          928       3    1      0  0.698584         0"
      ]
     },
     "execution_count": 32,
     "metadata": {},
     "output_type": "execute_result"
    }
   ],
   "source": [
    "test2.head()"
   ]
  },
  {
   "cell_type": "markdown",
   "metadata": {},
   "source": [
    "5.Results\n",
    "==="
   ]
  },
  {
   "cell_type": "code",
   "execution_count": 33,
   "metadata": {
    "collapsed": false
   },
   "outputs": [],
   "source": [
    "result1=test1[['PassengerId','Survived']].copy()\n",
    "result2=test2[['PassengerId','Survived']].copy()"
   ]
  },
  {
   "cell_type": "code",
   "execution_count": 34,
   "metadata": {
    "collapsed": true
   },
   "outputs": [],
   "source": [
    "frames=[result1,result2]\n",
    "results=pd.concat(frames)"
   ]
  },
  {
   "cell_type": "code",
   "execution_count": 35,
   "metadata": {
    "collapsed": false
   },
   "outputs": [
    {
     "data": {
      "text/html": [
       "<div style=\"max-height:1000px;max-width:1500px;overflow:auto;\">\n",
       "<table border=\"1\" class=\"dataframe\">\n",
       "  <thead>\n",
       "    <tr style=\"text-align: right;\">\n",
       "      <th></th>\n",
       "      <th>PassengerId</th>\n",
       "      <th>Survived</th>\n",
       "    </tr>\n",
       "  </thead>\n",
       "  <tbody>\n",
       "    <tr>\n",
       "      <th>0</th>\n",
       "      <td> 892</td>\n",
       "      <td> 0</td>\n",
       "    </tr>\n",
       "    <tr>\n",
       "      <th>1</th>\n",
       "      <td> 893</td>\n",
       "      <td> 1</td>\n",
       "    </tr>\n",
       "    <tr>\n",
       "      <th>2</th>\n",
       "      <td> 894</td>\n",
       "      <td> 0</td>\n",
       "    </tr>\n",
       "    <tr>\n",
       "      <th>3</th>\n",
       "      <td> 895</td>\n",
       "      <td> 0</td>\n",
       "    </tr>\n",
       "    <tr>\n",
       "      <th>4</th>\n",
       "      <td> 896</td>\n",
       "      <td> 1</td>\n",
       "    </tr>\n",
       "  </tbody>\n",
       "</table>\n",
       "</div>"
      ],
      "text/plain": [
       "   PassengerId  Survived\n",
       "0          892         0\n",
       "1          893         1\n",
       "2          894         0\n",
       "3          895         0\n",
       "4          896         1"
      ]
     },
     "execution_count": 35,
     "metadata": {},
     "output_type": "execute_result"
    }
   ],
   "source": [
    "results.head()"
   ]
  },
  {
   "cell_type": "code",
   "execution_count": 37,
   "metadata": {
    "collapsed": true
   },
   "outputs": [],
   "source": [
    "results.to_csv('logistic_regression_gender_drop2_result.csv',header=True,index=False)"
   ]
  },
  {
   "cell_type": "code",
   "execution_count": 36,
   "metadata": {
    "collapsed": false
   },
   "outputs": [
    {
     "name": "stdout",
     "output_type": "stream",
     "text": [
      "(418, 2)\n"
     ]
    }
   ],
   "source": [
    "print results.shape"
   ]
  },
  {
   "cell_type": "code",
   "execution_count": null,
   "metadata": {
    "collapsed": true
   },
   "outputs": [],
   "source": []
  }
 ],
 "metadata": {
  "kernelspec": {
   "display_name": "Python 2",
   "language": "python",
   "name": "python2"
  },
  "language_info": {
   "codemirror_mode": {
    "name": "ipython",
    "version": 2
   },
   "file_extension": ".py",
   "mimetype": "text/x-python",
   "name": "python",
   "nbconvert_exporter": "python",
   "pygments_lexer": "ipython2",
   "version": "2.7.10"
  }
 },
 "nbformat": 4,
 "nbformat_minor": 0
}
